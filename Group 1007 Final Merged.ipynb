{
 "cells": [
  {
   "cell_type": "markdown",
   "metadata": {},
   "source": [
    "<img src=\"https://github.com/insaid2018/Term-1/blob/master/Images/INSAID_Full%20Logo.png?raw=true\" width=\"240\" height=\"360\" />\n",
    "\n",
    "# Exploratory Data Analysis - CAPSTONE PROJECT \n",
    "### Team 1007"
   ]
  },
  {
   "cell_type": "markdown",
   "metadata": {},
   "source": [
    "## Table of Contents\n",
    "\n",
    "1. [Introduction and Problem Statement](#section1)<br>\n",
    "2. [Load the packages and data](#section2)<br>\n",
    "3. [Data Pre-processing](#section3)<br>\n",
    "4. [Exploratory Data Analysis](#eda)<br>\n",
    "    - 4.1 [Plots for across States](#states)<br>\n",
    "    - 4.2 [Plots for Maharashtra](#MH)<br>\n",
    "5. [Summary of observations](#summary)<br>\n",
    "6. [Conclusion](#conclusion)"
   ]
  },
  {
   "cell_type": "markdown",
   "metadata": {},
   "source": [
    "<a id=section1></a> \n",
    "## 1. Introduction and Problem Statement\n",
    "\n",
    "**Problem Statement**\n"
   ]
  },
  {
   "cell_type": "markdown",
   "metadata": {},
   "source": [
    "<a id=section2></a> \n",
    "## 2. Load the packages and data "
   ]
  },
  {
   "cell_type": "code",
   "execution_count": 1,
   "metadata": {},
   "outputs": [
    {
     "name": "stdout",
     "output_type": "stream",
     "text": [
      "Processing ./Library/Caches/pip/wheels/42/2f/c3/692fc7fc1f0d8c06b9175d94f0fc30f4f92348f5df5af1b8b7/mysql_connector-2.2.9-cp37-cp37m-macosx_10_9_x86_64.whl\n",
      "Installing collected packages: mysql.connector\n",
      "Successfully installed mysql.connector\n"
     ]
    }
   ],
   "source": [
    "!pip install mysql.connector\n"
   ]
  },
  {
   "cell_type": "code",
   "execution_count": 2,
   "metadata": {},
   "outputs": [],
   "source": [
    "import sys                                                                      # Import packages\n",
    "import pandas as pd\n",
    "import numpy as np\n",
    "import mysql.connector\n",
    "import matplotlib.pyplot as plt\n",
    "import seaborn as sns\n",
    "from matplotlib.pyplot import pie, axis, show\n",
    "%matplotlib inline                                                              \n",
    "\n",
    "import warnings                                                                 # Ignore warning related to pandas_profiling\n",
    "warnings.filterwarnings('ignore') \n",
    "\n",
    "sns.set(style='whitegrid', font_scale=1.3, color_codes=True)      # To adjust seaborn settings for the plots.\n",
    "    \n",
    "np.set_printoptions(precision=4)                    # To display values only upto four decimal places. \n",
    "pd.set_option('mode.chained_assignment', None)      # To suppress pandas warnings.\n",
    "pd.set_option('display.max_colwidth', -1)           # To display all the data in each column\n",
    "pd.options.display.max_columns = 100                 # To display every column of the dataset in head()\n",
    "\n",
    "plt.style.use('seaborn-whitegrid')                  # To apply seaborn whitegrid style to the plots.\n",
    "%matplotlib inline\n",
    "\n",
    "import pandas_profiling                      # Get a quick overview for all the variables using pandas_profiling                                         \n",
    "\n",
    "from pandas.plotting import parallel_coordinates\n",
    "\n",
    "\n",
    " "
   ]
  },
  {
   "cell_type": "markdown",
   "metadata": {},
   "source": [
    "### Loading Data"
   ]
  },
  {
   "cell_type": "code",
   "execution_count": 3,
   "metadata": {},
   "outputs": [],
   "source": [
    "#Establize SQL connection to fetch data for Dept, Employee Details, Employee Master Data\n",
    "def SqlConnection():\n",
    "    return mysql.connector.connect(  host=\"cpanel.insaid.co\",  user=\"student\",  password=\"student\",  database=\"Capstone2\")"
   ]
  },
  {
   "cell_type": "code",
   "execution_count": 4,
   "metadata": {},
   "outputs": [],
   "source": [
    "df_department = pd.read_sql('SELECT * FROM department_data', con=SqlConnection())"
   ]
  },
  {
   "cell_type": "code",
   "execution_count": 5,
   "metadata": {},
   "outputs": [],
   "source": [
    "df_emp_det  = pd.read_sql('SELECT * FROM employee_details_data', con=SqlConnection())"
   ]
  },
  {
   "cell_type": "code",
   "execution_count": 6,
   "metadata": {},
   "outputs": [],
   "source": [
    "df_emp_master = pd.read_sql('SELECT * FROM employee_data', con=SqlConnection())"
   ]
  },
  {
   "cell_type": "code",
   "execution_count": 7,
   "metadata": {},
   "outputs": [
    {
     "data": {
      "text/html": [
       "<div>\n",
       "<style scoped>\n",
       "    .dataframe tbody tr th:only-of-type {\n",
       "        vertical-align: middle;\n",
       "    }\n",
       "\n",
       "    .dataframe tbody tr th {\n",
       "        vertical-align: top;\n",
       "    }\n",
       "\n",
       "    .dataframe thead th {\n",
       "        text-align: right;\n",
       "    }\n",
       "</style>\n",
       "<table border=\"1\" class=\"dataframe\">\n",
       "  <thead>\n",
       "    <tr style=\"text-align: right;\">\n",
       "      <th></th>\n",
       "      <th>employee_id</th>\n",
       "      <th>age</th>\n",
       "      <th>gender</th>\n",
       "      <th>marital_status</th>\n",
       "    </tr>\n",
       "  </thead>\n",
       "  <tbody>\n",
       "    <tr>\n",
       "      <th>0</th>\n",
       "      <td>113558</td>\n",
       "      <td>43</td>\n",
       "      <td>Male</td>\n",
       "      <td>Married</td>\n",
       "    </tr>\n",
       "    <tr>\n",
       "      <th>1</th>\n",
       "      <td>112256</td>\n",
       "      <td>24</td>\n",
       "      <td>Female</td>\n",
       "      <td>Unmarried</td>\n",
       "    </tr>\n",
       "    <tr>\n",
       "      <th>2</th>\n",
       "      <td>112586</td>\n",
       "      <td>22</td>\n",
       "      <td>Female</td>\n",
       "      <td>Unmarried</td>\n",
       "    </tr>\n",
       "    <tr>\n",
       "      <th>3</th>\n",
       "      <td>108071</td>\n",
       "      <td>36</td>\n",
       "      <td>Male</td>\n",
       "      <td>Married</td>\n",
       "    </tr>\n",
       "    <tr>\n",
       "      <th>4</th>\n",
       "      <td>116915</td>\n",
       "      <td>38</td>\n",
       "      <td>Male</td>\n",
       "      <td>Married</td>\n",
       "    </tr>\n",
       "  </tbody>\n",
       "</table>\n",
       "</div>"
      ],
      "text/plain": [
       "   employee_id  age  gender marital_status\n",
       "0  113558       43   Male    Married      \n",
       "1  112256       24   Female  Unmarried    \n",
       "2  112586       22   Female  Unmarried    \n",
       "3  108071       36   Male    Married      \n",
       "4  116915       38   Male    Married      "
      ]
     },
     "execution_count": 7,
     "metadata": {},
     "output_type": "execute_result"
    }
   ],
   "source": [
    "df_emp_det.head()"
   ]
  },
  {
   "cell_type": "code",
   "execution_count": 8,
   "metadata": {},
   "outputs": [
    {
     "data": {
      "text/html": [
       "<div>\n",
       "<style scoped>\n",
       "    .dataframe tbody tr th:only-of-type {\n",
       "        vertical-align: middle;\n",
       "    }\n",
       "\n",
       "    .dataframe tbody tr th {\n",
       "        vertical-align: top;\n",
       "    }\n",
       "\n",
       "    .dataframe thead th {\n",
       "        text-align: right;\n",
       "    }\n",
       "</style>\n",
       "<table border=\"1\" class=\"dataframe\">\n",
       "  <thead>\n",
       "    <tr style=\"text-align: right;\">\n",
       "      <th></th>\n",
       "      <th>dept_id</th>\n",
       "      <th>dept_name</th>\n",
       "      <th>dept_head</th>\n",
       "    </tr>\n",
       "  </thead>\n",
       "  <tbody>\n",
       "    <tr>\n",
       "      <th>0</th>\n",
       "      <td>D00-IT</td>\n",
       "      <td>IT</td>\n",
       "      <td>Henry Adey</td>\n",
       "    </tr>\n",
       "    <tr>\n",
       "      <th>1</th>\n",
       "      <td>D00-SS</td>\n",
       "      <td>Sales</td>\n",
       "      <td>Edward J Bayley</td>\n",
       "    </tr>\n",
       "    <tr>\n",
       "      <th>2</th>\n",
       "      <td>D00-TP</td>\n",
       "      <td>Temp</td>\n",
       "      <td>Micheal Zachrey</td>\n",
       "    </tr>\n",
       "    <tr>\n",
       "      <th>3</th>\n",
       "      <td>D00-ENG</td>\n",
       "      <td>Engineering</td>\n",
       "      <td>Sushant Raghunathan K</td>\n",
       "    </tr>\n",
       "    <tr>\n",
       "      <th>4</th>\n",
       "      <td>D00-SP</td>\n",
       "      <td>Support</td>\n",
       "      <td>Amelia Westray</td>\n",
       "    </tr>\n",
       "  </tbody>\n",
       "</table>\n",
       "</div>"
      ],
      "text/plain": [
       "   dept_id    dept_name              dept_head\n",
       "0  D00-IT   IT           Henry Adey           \n",
       "1  D00-SS   Sales        Edward J Bayley      \n",
       "2  D00-TP   Temp         Micheal Zachrey      \n",
       "3  D00-ENG  Engineering  Sushant Raghunathan K\n",
       "4  D00-SP   Support      Amelia Westray       "
      ]
     },
     "execution_count": 8,
     "metadata": {},
     "output_type": "execute_result"
    }
   ],
   "source": [
    "df_department.head()"
   ]
  },
  {
   "cell_type": "code",
   "execution_count": 9,
   "metadata": {},
   "outputs": [
    {
     "data": {
      "text/html": [
       "<div>\n",
       "<style scoped>\n",
       "    .dataframe tbody tr th:only-of-type {\n",
       "        vertical-align: middle;\n",
       "    }\n",
       "\n",
       "    .dataframe tbody tr th {\n",
       "        vertical-align: top;\n",
       "    }\n",
       "\n",
       "    .dataframe thead th {\n",
       "        text-align: right;\n",
       "    }\n",
       "</style>\n",
       "<table border=\"1\" class=\"dataframe\">\n",
       "  <thead>\n",
       "    <tr style=\"text-align: right;\">\n",
       "      <th></th>\n",
       "      <th>avg_monthly_hrs</th>\n",
       "      <th>department</th>\n",
       "      <th>filed_complaint</th>\n",
       "      <th>last_evaluation</th>\n",
       "      <th>n_projects</th>\n",
       "      <th>recently_promoted</th>\n",
       "      <th>salary</th>\n",
       "      <th>satisfaction</th>\n",
       "      <th>status</th>\n",
       "      <th>tenure</th>\n",
       "      <th>employee_id</th>\n",
       "    </tr>\n",
       "  </thead>\n",
       "  <tbody>\n",
       "    <tr>\n",
       "      <th>0</th>\n",
       "      <td>246.0</td>\n",
       "      <td>None</td>\n",
       "      <td>NaN</td>\n",
       "      <td>0.866838</td>\n",
       "      <td>6</td>\n",
       "      <td>NaN</td>\n",
       "      <td>medium</td>\n",
       "      <td>0.134415</td>\n",
       "      <td>Left</td>\n",
       "      <td>4.0</td>\n",
       "      <td>124467</td>\n",
       "    </tr>\n",
       "    <tr>\n",
       "      <th>1</th>\n",
       "      <td>134.0</td>\n",
       "      <td>None</td>\n",
       "      <td>NaN</td>\n",
       "      <td>0.555718</td>\n",
       "      <td>2</td>\n",
       "      <td>NaN</td>\n",
       "      <td>low</td>\n",
       "      <td>0.511041</td>\n",
       "      <td>Left</td>\n",
       "      <td>3.0</td>\n",
       "      <td>112210</td>\n",
       "    </tr>\n",
       "    <tr>\n",
       "      <th>2</th>\n",
       "      <td>156.0</td>\n",
       "      <td>D00-SS</td>\n",
       "      <td>1.0</td>\n",
       "      <td>0.474082</td>\n",
       "      <td>2</td>\n",
       "      <td>NaN</td>\n",
       "      <td>medium</td>\n",
       "      <td>0.405101</td>\n",
       "      <td>Left</td>\n",
       "      <td>3.0</td>\n",
       "      <td>126150</td>\n",
       "    </tr>\n",
       "    <tr>\n",
       "      <th>3</th>\n",
       "      <td>256.0</td>\n",
       "      <td>D00-SP</td>\n",
       "      <td>NaN</td>\n",
       "      <td>0.961360</td>\n",
       "      <td>6</td>\n",
       "      <td>NaN</td>\n",
       "      <td>low</td>\n",
       "      <td>0.152974</td>\n",
       "      <td>Left</td>\n",
       "      <td>4.0</td>\n",
       "      <td>125346</td>\n",
       "    </tr>\n",
       "    <tr>\n",
       "      <th>4</th>\n",
       "      <td>146.0</td>\n",
       "      <td>D00-SS</td>\n",
       "      <td>NaN</td>\n",
       "      <td>0.507349</td>\n",
       "      <td>2</td>\n",
       "      <td>NaN</td>\n",
       "      <td>medium</td>\n",
       "      <td>0.434845</td>\n",
       "      <td>Left</td>\n",
       "      <td>3.0</td>\n",
       "      <td>113707</td>\n",
       "    </tr>\n",
       "  </tbody>\n",
       "</table>\n",
       "</div>"
      ],
      "text/plain": [
       "   avg_monthly_hrs department  filed_complaint  last_evaluation  n_projects  \\\n",
       "0  246.0            None      NaN               0.866838         6            \n",
       "1  134.0            None      NaN               0.555718         2            \n",
       "2  156.0            D00-SS     1.0              0.474082         2            \n",
       "3  256.0            D00-SP    NaN               0.961360         6            \n",
       "4  146.0            D00-SS    NaN               0.507349         2            \n",
       "\n",
       "   recently_promoted  salary  satisfaction status  tenure  employee_id  \n",
       "0 NaN                 medium  0.134415      Left   4.0     124467       \n",
       "1 NaN                 low     0.511041      Left   3.0     112210       \n",
       "2 NaN                 medium  0.405101      Left   3.0     126150       \n",
       "3 NaN                 low     0.152974      Left   4.0     125346       \n",
       "4 NaN                 medium  0.434845      Left   3.0     113707       "
      ]
     },
     "execution_count": 9,
     "metadata": {},
     "output_type": "execute_result"
    }
   ],
   "source": [
    "df_emp_master.head()"
   ]
  },
  {
   "cell_type": "markdown",
   "metadata": {},
   "source": [
    "<a id=\"section 3\"></a>\n",
    "##  Data Pre- processing"
   ]
  },
  {
   "cell_type": "code",
   "execution_count": 10,
   "metadata": {},
   "outputs": [],
   "source": [
    "def missing_data(df):\n",
    "    total = df.isnull().sum().sort_values(ascending = False)\n",
    "    percent = (df.isnull().sum()/df.isnull().count()*100).sort_values(ascending = False)\n",
    "    return pd.concat([total, percent], axis=1, keys=['Total', 'Percent'])"
   ]
  },
  {
   "cell_type": "code",
   "execution_count": 11,
   "metadata": {},
   "outputs": [],
   "source": [
    "def analyze_df(df):\n",
    "    print(df.shape)\n",
    "    print(\"----------------------------------------Shape--------------------------------------------------\")\n",
    "    print(df.info(null_counts=True))\n",
    "    print(\"--------------------------------------- Describe ---------------------------------------------\")\n",
    "    print(df.describe())\n",
    "    print(\"-----------------------------------------Missing Data---------------------------------------------\")\n",
    "    print(missing_data(df))\n",
    "    return(df.head())"
   ]
  },
  {
   "cell_type": "code",
   "execution_count": 12,
   "metadata": {},
   "outputs": [
    {
     "name": "stdout",
     "output_type": "stream",
     "text": [
      "(14245, 4)\n",
      "----------------------------------------Shape--------------------------------------------------\n",
      "<class 'pandas.core.frame.DataFrame'>\n",
      "RangeIndex: 14245 entries, 0 to 14244\n",
      "Data columns (total 4 columns):\n",
      " #   Column          Non-Null Count  Dtype \n",
      "---  ------          --------------  ----- \n",
      " 0   employee_id     14245 non-null  int64 \n",
      " 1   age             14245 non-null  int64 \n",
      " 2   gender          14245 non-null  object\n",
      " 3   marital_status  14245 non-null  object\n",
      "dtypes: int64(2), object(2)\n",
      "memory usage: 445.3+ KB\n",
      "None\n",
      "--------------------------------------- Describe ---------------------------------------------\n",
      "         employee_id           age\n",
      "count  14245.000000   14245.000000\n",
      "mean   112123.050544  32.889926   \n",
      "std    8500.457343    9.970834    \n",
      "min    100101.000000  22.000000   \n",
      "25%    105775.000000  24.000000   \n",
      "50%    111298.000000  29.000000   \n",
      "75%    116658.000000  41.000000   \n",
      "max    148988.000000  57.000000   \n",
      "-----------------------------------------Missing Data---------------------------------------------\n",
      "                Total  Percent\n",
      "marital_status  0      0.0    \n",
      "gender          0      0.0    \n",
      "age             0      0.0    \n",
      "employee_id     0      0.0    \n"
     ]
    },
    {
     "data": {
      "text/html": [
       "<div>\n",
       "<style scoped>\n",
       "    .dataframe tbody tr th:only-of-type {\n",
       "        vertical-align: middle;\n",
       "    }\n",
       "\n",
       "    .dataframe tbody tr th {\n",
       "        vertical-align: top;\n",
       "    }\n",
       "\n",
       "    .dataframe thead th {\n",
       "        text-align: right;\n",
       "    }\n",
       "</style>\n",
       "<table border=\"1\" class=\"dataframe\">\n",
       "  <thead>\n",
       "    <tr style=\"text-align: right;\">\n",
       "      <th></th>\n",
       "      <th>employee_id</th>\n",
       "      <th>age</th>\n",
       "      <th>gender</th>\n",
       "      <th>marital_status</th>\n",
       "    </tr>\n",
       "  </thead>\n",
       "  <tbody>\n",
       "    <tr>\n",
       "      <th>0</th>\n",
       "      <td>113558</td>\n",
       "      <td>43</td>\n",
       "      <td>Male</td>\n",
       "      <td>Married</td>\n",
       "    </tr>\n",
       "    <tr>\n",
       "      <th>1</th>\n",
       "      <td>112256</td>\n",
       "      <td>24</td>\n",
       "      <td>Female</td>\n",
       "      <td>Unmarried</td>\n",
       "    </tr>\n",
       "    <tr>\n",
       "      <th>2</th>\n",
       "      <td>112586</td>\n",
       "      <td>22</td>\n",
       "      <td>Female</td>\n",
       "      <td>Unmarried</td>\n",
       "    </tr>\n",
       "    <tr>\n",
       "      <th>3</th>\n",
       "      <td>108071</td>\n",
       "      <td>36</td>\n",
       "      <td>Male</td>\n",
       "      <td>Married</td>\n",
       "    </tr>\n",
       "    <tr>\n",
       "      <th>4</th>\n",
       "      <td>116915</td>\n",
       "      <td>38</td>\n",
       "      <td>Male</td>\n",
       "      <td>Married</td>\n",
       "    </tr>\n",
       "  </tbody>\n",
       "</table>\n",
       "</div>"
      ],
      "text/plain": [
       "   employee_id  age  gender marital_status\n",
       "0  113558       43   Male    Married      \n",
       "1  112256       24   Female  Unmarried    \n",
       "2  112586       22   Female  Unmarried    \n",
       "3  108071       36   Male    Married      \n",
       "4  116915       38   Male    Married      "
      ]
     },
     "execution_count": 12,
     "metadata": {},
     "output_type": "execute_result"
    }
   ],
   "source": [
    "analyze_df(df_emp_det)"
   ]
  },
  {
   "cell_type": "code",
   "execution_count": 13,
   "metadata": {},
   "outputs": [
    {
     "name": "stdout",
     "output_type": "stream",
     "text": [
      "(14150, 11)\n",
      "----------------------------------------Shape--------------------------------------------------\n",
      "<class 'pandas.core.frame.DataFrame'>\n",
      "RangeIndex: 14150 entries, 0 to 14149\n",
      "Data columns (total 11 columns):\n",
      " #   Column             Non-Null Count  Dtype  \n",
      "---  ------             --------------  -----  \n",
      " 0   avg_monthly_hrs    14150 non-null  float64\n",
      " 1   department         13443 non-null  object \n",
      " 2   filed_complaint    2046 non-null   float64\n",
      " 3   last_evaluation    12663 non-null  float64\n",
      " 4   n_projects         14150 non-null  int64  \n",
      " 5   recently_promoted  297 non-null    float64\n",
      " 6   salary             14150 non-null  object \n",
      " 7   satisfaction       14000 non-null  float64\n",
      " 8   status             14150 non-null  object \n",
      " 9   tenure             14000 non-null  float64\n",
      " 10  employee_id        14150 non-null  int64  \n",
      "dtypes: float64(6), int64(2), object(3)\n",
      "memory usage: 1.2+ MB\n",
      "None\n",
      "--------------------------------------- Describe ---------------------------------------------\n",
      "       avg_monthly_hrs  filed_complaint  last_evaluation    n_projects  \\\n",
      "count  14150.000000     2046.0           12663.000000     14150.000000   \n",
      "mean   199.994346       1.0              0.718399         3.778304       \n",
      "std    50.833697        0.0              0.173108         1.250162       \n",
      "min    49.000000        1.0              0.316175         1.000000       \n",
      "25%    155.000000       1.0              0.563711         3.000000       \n",
      "50%    199.000000       1.0              0.724731         4.000000       \n",
      "75%    245.000000       1.0              0.871409         5.000000       \n",
      "max    310.000000       1.0              1.000000         7.000000       \n",
      "\n",
      "       recently_promoted  satisfaction        tenure    employee_id  \n",
      "count  297.0              14000.000000  14000.000000  14150.000000   \n",
      "mean   1.0                0.621212      3.499357      112080.750247  \n",
      "std    0.0                0.250482      1.462584      8748.202856    \n",
      "min    1.0                0.040058      2.000000      0.000000       \n",
      "25%    1.0                0.450356      3.000000      105772.500000  \n",
      "50%    1.0                0.652394      3.000000      111291.500000  \n",
      "75%    1.0                0.824925      4.000000      116650.750000  \n",
      "max    1.0                1.000000      10.000000     148988.000000  \n",
      "-----------------------------------------Missing Data---------------------------------------------\n",
      "                   Total    Percent\n",
      "recently_promoted  13853  97.901060\n",
      "filed_complaint    12104  85.540636\n",
      "last_evaluation    1487   10.508834\n",
      "department         707    4.996466 \n",
      "tenure             150    1.060071 \n",
      "satisfaction       150    1.060071 \n",
      "employee_id        0      0.000000 \n",
      "status             0      0.000000 \n",
      "salary             0      0.000000 \n",
      "n_projects         0      0.000000 \n",
      "avg_monthly_hrs    0      0.000000 \n"
     ]
    },
    {
     "data": {
      "text/html": [
       "<div>\n",
       "<style scoped>\n",
       "    .dataframe tbody tr th:only-of-type {\n",
       "        vertical-align: middle;\n",
       "    }\n",
       "\n",
       "    .dataframe tbody tr th {\n",
       "        vertical-align: top;\n",
       "    }\n",
       "\n",
       "    .dataframe thead th {\n",
       "        text-align: right;\n",
       "    }\n",
       "</style>\n",
       "<table border=\"1\" class=\"dataframe\">\n",
       "  <thead>\n",
       "    <tr style=\"text-align: right;\">\n",
       "      <th></th>\n",
       "      <th>avg_monthly_hrs</th>\n",
       "      <th>department</th>\n",
       "      <th>filed_complaint</th>\n",
       "      <th>last_evaluation</th>\n",
       "      <th>n_projects</th>\n",
       "      <th>recently_promoted</th>\n",
       "      <th>salary</th>\n",
       "      <th>satisfaction</th>\n",
       "      <th>status</th>\n",
       "      <th>tenure</th>\n",
       "      <th>employee_id</th>\n",
       "    </tr>\n",
       "  </thead>\n",
       "  <tbody>\n",
       "    <tr>\n",
       "      <th>0</th>\n",
       "      <td>246.0</td>\n",
       "      <td>None</td>\n",
       "      <td>NaN</td>\n",
       "      <td>0.866838</td>\n",
       "      <td>6</td>\n",
       "      <td>NaN</td>\n",
       "      <td>medium</td>\n",
       "      <td>0.134415</td>\n",
       "      <td>Left</td>\n",
       "      <td>4.0</td>\n",
       "      <td>124467</td>\n",
       "    </tr>\n",
       "    <tr>\n",
       "      <th>1</th>\n",
       "      <td>134.0</td>\n",
       "      <td>None</td>\n",
       "      <td>NaN</td>\n",
       "      <td>0.555718</td>\n",
       "      <td>2</td>\n",
       "      <td>NaN</td>\n",
       "      <td>low</td>\n",
       "      <td>0.511041</td>\n",
       "      <td>Left</td>\n",
       "      <td>3.0</td>\n",
       "      <td>112210</td>\n",
       "    </tr>\n",
       "    <tr>\n",
       "      <th>2</th>\n",
       "      <td>156.0</td>\n",
       "      <td>D00-SS</td>\n",
       "      <td>1.0</td>\n",
       "      <td>0.474082</td>\n",
       "      <td>2</td>\n",
       "      <td>NaN</td>\n",
       "      <td>medium</td>\n",
       "      <td>0.405101</td>\n",
       "      <td>Left</td>\n",
       "      <td>3.0</td>\n",
       "      <td>126150</td>\n",
       "    </tr>\n",
       "    <tr>\n",
       "      <th>3</th>\n",
       "      <td>256.0</td>\n",
       "      <td>D00-SP</td>\n",
       "      <td>NaN</td>\n",
       "      <td>0.961360</td>\n",
       "      <td>6</td>\n",
       "      <td>NaN</td>\n",
       "      <td>low</td>\n",
       "      <td>0.152974</td>\n",
       "      <td>Left</td>\n",
       "      <td>4.0</td>\n",
       "      <td>125346</td>\n",
       "    </tr>\n",
       "    <tr>\n",
       "      <th>4</th>\n",
       "      <td>146.0</td>\n",
       "      <td>D00-SS</td>\n",
       "      <td>NaN</td>\n",
       "      <td>0.507349</td>\n",
       "      <td>2</td>\n",
       "      <td>NaN</td>\n",
       "      <td>medium</td>\n",
       "      <td>0.434845</td>\n",
       "      <td>Left</td>\n",
       "      <td>3.0</td>\n",
       "      <td>113707</td>\n",
       "    </tr>\n",
       "  </tbody>\n",
       "</table>\n",
       "</div>"
      ],
      "text/plain": [
       "   avg_monthly_hrs department  filed_complaint  last_evaluation  n_projects  \\\n",
       "0  246.0            None      NaN               0.866838         6            \n",
       "1  134.0            None      NaN               0.555718         2            \n",
       "2  156.0            D00-SS     1.0              0.474082         2            \n",
       "3  256.0            D00-SP    NaN               0.961360         6            \n",
       "4  146.0            D00-SS    NaN               0.507349         2            \n",
       "\n",
       "   recently_promoted  salary  satisfaction status  tenure  employee_id  \n",
       "0 NaN                 medium  0.134415      Left   4.0     124467       \n",
       "1 NaN                 low     0.511041      Left   3.0     112210       \n",
       "2 NaN                 medium  0.405101      Left   3.0     126150       \n",
       "3 NaN                 low     0.152974      Left   4.0     125346       \n",
       "4 NaN                 medium  0.434845      Left   3.0     113707       "
      ]
     },
     "execution_count": 13,
     "metadata": {},
     "output_type": "execute_result"
    }
   ],
   "source": [
    "analyze_df(df_emp_master)"
   ]
  },
  {
   "cell_type": "code",
   "execution_count": 14,
   "metadata": {},
   "outputs": [
    {
     "data": {
      "text/plain": [
       "Employed    10784\n",
       "Left        3366 \n",
       "Name: status, dtype: int64"
      ]
     },
     "execution_count": 14,
     "metadata": {},
     "output_type": "execute_result"
    }
   ],
   "source": [
    "df_emp_master.status.value_counts()"
   ]
  },
  {
   "cell_type": "code",
   "execution_count": 15,
   "metadata": {},
   "outputs": [
    {
     "data": {
      "text/plain": [
       "array([0.8668, 0.5557, 0.4741, ..., 0.6436, 0.8366, 0.9073])"
      ]
     },
     "execution_count": 15,
     "metadata": {},
     "output_type": "execute_result"
    }
   ],
   "source": [
    "df_emp_master.last_evaluation.unique()"
   ]
  },
  {
   "cell_type": "code",
   "execution_count": 16,
   "metadata": {},
   "outputs": [
    {
     "data": {
      "text/plain": [
       "D00-SS     3905\n",
       "D00-ENG    2575\n",
       "D00-SP     2113\n",
       "D00-IT     1157\n",
       "D00-PD     855 \n",
       "D00-MT     815 \n",
       "D00-FN     725 \n",
       "NaN        707 \n",
       "D00-MN     593 \n",
       "-IT        207 \n",
       "D00-AD     175 \n",
       "D00-PR     173 \n",
       "D00-TP     150 \n",
       "Name: department, dtype: int64"
      ]
     },
     "execution_count": 16,
     "metadata": {},
     "output_type": "execute_result"
    }
   ],
   "source": [
    "df_emp_master.department.value_counts(dropna=False)"
   ]
  },
  {
   "cell_type": "code",
   "execution_count": 17,
   "metadata": {},
   "outputs": [],
   "source": [
    "#207 Departments are -IT which is not a valid Dept ID. Change to D00-IT\n",
    "df_emp_master =df_emp_master.replace({'-IT': 'D00-IT',})"
   ]
  },
  {
   "cell_type": "code",
   "execution_count": 18,
   "metadata": {},
   "outputs": [
    {
     "data": {
      "text/plain": [
       "D00-SS     3905\n",
       "D00-ENG    2575\n",
       "D00-SP     2113\n",
       "D00-IT     1364\n",
       "D00-PD     855 \n",
       "D00-MT     815 \n",
       "D00-FN     725 \n",
       "NaN        707 \n",
       "D00-MN     593 \n",
       "D00-AD     175 \n",
       "D00-PR     173 \n",
       "D00-TP     150 \n",
       "Name: department, dtype: int64"
      ]
     },
     "execution_count": 18,
     "metadata": {},
     "output_type": "execute_result"
    }
   ],
   "source": [
    "df_emp_master.department.value_counts(dropna=False)"
   ]
  },
  {
   "cell_type": "code",
   "execution_count": 19,
   "metadata": {},
   "outputs": [],
   "source": [
    "df_new={'dept_id': 'D00-OTH'  , 'dept_name': 'Others', 'dept_head':'Other'}\n",
    "df_department=df_department.append(df_new,ignore_index=True)"
   ]
  },
  {
   "cell_type": "code",
   "execution_count": 20,
   "metadata": {},
   "outputs": [],
   "source": [
    "#707 Departments are null. These deparment should be classified as 'Unknown or Others' & \n",
    "#used for analysis, since there are employees of status as below:\n",
    "#Employed    502\n",
    "#Left        205\n",
    "\n",
    "df_emp_master['department'] = np.where(df_emp_master['department'].isnull(),  'D00-OTH', df_emp_master['department'])\n"
   ]
  },
  {
   "cell_type": "code",
   "execution_count": 21,
   "metadata": {},
   "outputs": [
    {
     "data": {
      "text/plain": [
       "D00-SS     3905\n",
       "D00-ENG    2575\n",
       "D00-SP     2113\n",
       "D00-IT     1364\n",
       "D00-PD     855 \n",
       "D00-MT     815 \n",
       "D00-FN     725 \n",
       "D00-OTH    707 \n",
       "D00-MN     593 \n",
       "D00-AD     175 \n",
       "D00-PR     173 \n",
       "D00-TP     150 \n",
       "Name: department, dtype: int64"
      ]
     },
     "execution_count": 21,
     "metadata": {},
     "output_type": "execute_result"
    }
   ],
   "source": [
    "df_emp_master.department.value_counts(dropna=False)"
   ]
  },
  {
   "cell_type": "code",
   "execution_count": 22,
   "metadata": {},
   "outputs": [
    {
     "data": {
      "text/plain": [
       "3.0     6018\n",
       "2.0     3023\n",
       "4.0     2394\n",
       "5.0     1369\n",
       "6.0     660 \n",
       "10.0    201 \n",
       "7.0     180 \n",
       "8.0     155 \n",
       "NaN     150 \n",
       "Name: tenure, dtype: int64"
      ]
     },
     "execution_count": 22,
     "metadata": {},
     "output_type": "execute_result"
    }
   ],
   "source": [
    "df_emp_master.tenure.value_counts(dropna=False)"
   ]
  },
  {
   "cell_type": "code",
   "execution_count": 23,
   "metadata": {},
   "outputs": [],
   "source": [
    "#There are 150 records with NULL values   for tenure \n",
    "#Impute with median\n",
    "df_emp_master['tenure'] = df_emp_master['tenure'].replace({np.nan: getattr(df_emp_master['tenure'], 'median')(),})"
   ]
  },
  {
   "cell_type": "code",
   "execution_count": 24,
   "metadata": {},
   "outputs": [
    {
     "data": {
      "text/plain": [
       "3.0     6168\n",
       "2.0     3023\n",
       "4.0     2394\n",
       "5.0     1369\n",
       "6.0     660 \n",
       "10.0    201 \n",
       "7.0     180 \n",
       "8.0     155 \n",
       "Name: tenure, dtype: int64"
      ]
     },
     "execution_count": 24,
     "metadata": {},
     "output_type": "execute_result"
    }
   ],
   "source": [
    "df_emp_master.tenure.value_counts(dropna=False)"
   ]
  },
  {
   "cell_type": "code",
   "execution_count": 25,
   "metadata": {},
   "outputs": [
    {
     "data": {
      "text/plain": [
       "1.000000    357\n",
       "NaN         150\n",
       "0.481001    3  \n",
       "0.481880    2  \n",
       "0.787487    2  \n",
       "           ..  \n",
       "0.138555    1  \n",
       "0.551152    1  \n",
       "0.410776    1  \n",
       "0.883507    1  \n",
       "0.158990    1  \n",
       "Name: satisfaction, Length: 13498, dtype: int64"
      ]
     },
     "execution_count": 25,
     "metadata": {},
     "output_type": "execute_result"
    }
   ],
   "source": [
    "df_emp_master.satisfaction.value_counts(dropna=False)"
   ]
  },
  {
   "cell_type": "code",
   "execution_count": 26,
   "metadata": {},
   "outputs": [],
   "source": [
    "#There are 150 reocrds with NULL values for Satisfaction column\n",
    "#impute with mean\n",
    "\n",
    "df_emp_master['satisfaction'] = df_emp_master['satisfaction'].replace({np.nan: getattr(df_emp_master['satisfaction'], 'mean')(),})"
   ]
  },
  {
   "cell_type": "code",
   "execution_count": 27,
   "metadata": {},
   "outputs": [
    {
     "data": {
      "text/plain": [
       "1.000000    357\n",
       "0.621212    150\n",
       "0.481001    3  \n",
       "0.481880    2  \n",
       "0.787487    2  \n",
       "           ..  \n",
       "0.551152    1  \n",
       "0.410776    1  \n",
       "0.883507    1  \n",
       "0.472760    1  \n",
       "0.929160    1  \n",
       "Name: satisfaction, Length: 13498, dtype: int64"
      ]
     },
     "execution_count": 27,
     "metadata": {},
     "output_type": "execute_result"
    }
   ],
   "source": [
    "df_emp_master.satisfaction.value_counts(dropna=False)"
   ]
  },
  {
   "cell_type": "code",
   "execution_count": 28,
   "metadata": {},
   "outputs": [],
   "source": [
    "#Replacing 12104 Null values in Filed_complaint\n",
    "df_emp_master['filed_complaint'] = np.where(df_emp_master['filed_complaint'].isnull(),  '0', df_emp_master['filed_complaint'])"
   ]
  },
  {
   "cell_type": "code",
   "execution_count": 29,
   "metadata": {},
   "outputs": [],
   "source": [
    "#Correcting 13853 records with \"recently_promoted\" as NULL by replacing it with zero\n",
    "df_emp_master['recently_promoted'] = np.where(df_emp_master['recently_promoted'].isnull(),  '0', df_emp_master['recently_promoted'])"
   ]
  },
  {
   "cell_type": "code",
   "execution_count": 30,
   "metadata": {},
   "outputs": [],
   "source": [
    "#Deleting 2 records with emp id =0 and missing Dept\n",
    "\n",
    "df_emp_master=df_emp_master.loc[(df_emp_master['employee_id']!=0) & (df_emp_master['department']!=None)]"
   ]
  },
  {
   "cell_type": "code",
   "execution_count": 32,
   "metadata": {},
   "outputs": [],
   "source": [
    "#Around 1,487 values are missing in last_evaluation\n",
    "# Indicator variable for last evaluation\n",
    "\n",
    "df_emp_master['last_evaluation_missing']= df_emp_master.last_evaluation.isnull().astype(int)\n",
    "df_emp_master['last_evaluation_missing'].unique()\n",
    "\n",
    "\n",
    "# Missing values\n",
    "df_emp_master.last_evaluation.fillna(0, inplace=True)\n"
   ]
  },
  {
   "cell_type": "code",
   "execution_count": 54,
   "metadata": {},
   "outputs": [
    {
     "data": {
      "text/plain": [
       "array([0, 1])"
      ]
     },
     "execution_count": 54,
     "metadata": {},
     "output_type": "execute_result"
    }
   ],
   "source": [
    "df_emp_master['last_evaluation_missing'].unique()\n"
   ]
  },
  {
   "cell_type": "markdown",
   "metadata": {},
   "source": [
    "# Merging Datasets"
   ]
  },
  {
   "cell_type": "code",
   "execution_count": 33,
   "metadata": {},
   "outputs": [],
   "source": [
    "df_department=df_department.rename(columns={'dept_id':'department'})"
   ]
  },
  {
   "cell_type": "code",
   "execution_count": 34,
   "metadata": {},
   "outputs": [
    {
     "data": {
      "text/plain": [
       "Index(['department', 'dept_name', 'dept_head'], dtype='object')"
      ]
     },
     "execution_count": 34,
     "metadata": {},
     "output_type": "execute_result"
    }
   ],
   "source": [
    "df_department.columns"
   ]
  },
  {
   "cell_type": "code",
   "execution_count": 35,
   "metadata": {},
   "outputs": [],
   "source": [
    "df_final = df_emp_master.merge(df_emp_det,on='employee_id', how='left')"
   ]
  },
  {
   "cell_type": "code",
   "execution_count": 36,
   "metadata": {},
   "outputs": [
    {
     "data": {
      "text/html": [
       "<div>\n",
       "<style scoped>\n",
       "    .dataframe tbody tr th:only-of-type {\n",
       "        vertical-align: middle;\n",
       "    }\n",
       "\n",
       "    .dataframe tbody tr th {\n",
       "        vertical-align: top;\n",
       "    }\n",
       "\n",
       "    .dataframe thead th {\n",
       "        text-align: right;\n",
       "    }\n",
       "</style>\n",
       "<table border=\"1\" class=\"dataframe\">\n",
       "  <thead>\n",
       "    <tr style=\"text-align: right;\">\n",
       "      <th></th>\n",
       "      <th>avg_monthly_hrs</th>\n",
       "      <th>department</th>\n",
       "      <th>filed_complaint</th>\n",
       "      <th>last_evaluation</th>\n",
       "      <th>n_projects</th>\n",
       "      <th>recently_promoted</th>\n",
       "      <th>salary</th>\n",
       "      <th>satisfaction</th>\n",
       "      <th>status</th>\n",
       "      <th>tenure</th>\n",
       "      <th>employee_id</th>\n",
       "      <th>last_evaluation_missing</th>\n",
       "      <th>age</th>\n",
       "      <th>gender</th>\n",
       "      <th>marital_status</th>\n",
       "    </tr>\n",
       "  </thead>\n",
       "  <tbody>\n",
       "    <tr>\n",
       "      <th>0</th>\n",
       "      <td>246.0</td>\n",
       "      <td>D00-OTH</td>\n",
       "      <td>0</td>\n",
       "      <td>0.866838</td>\n",
       "      <td>6</td>\n",
       "      <td>0</td>\n",
       "      <td>medium</td>\n",
       "      <td>0.134415</td>\n",
       "      <td>Left</td>\n",
       "      <td>4.0</td>\n",
       "      <td>124467</td>\n",
       "      <td>0</td>\n",
       "      <td>42</td>\n",
       "      <td>Female</td>\n",
       "      <td>Married</td>\n",
       "    </tr>\n",
       "    <tr>\n",
       "      <th>1</th>\n",
       "      <td>134.0</td>\n",
       "      <td>D00-OTH</td>\n",
       "      <td>0</td>\n",
       "      <td>0.555718</td>\n",
       "      <td>2</td>\n",
       "      <td>0</td>\n",
       "      <td>low</td>\n",
       "      <td>0.511041</td>\n",
       "      <td>Left</td>\n",
       "      <td>3.0</td>\n",
       "      <td>112210</td>\n",
       "      <td>0</td>\n",
       "      <td>23</td>\n",
       "      <td>Female</td>\n",
       "      <td>Unmarried</td>\n",
       "    </tr>\n",
       "    <tr>\n",
       "      <th>2</th>\n",
       "      <td>156.0</td>\n",
       "      <td>D00-SS</td>\n",
       "      <td>1.0</td>\n",
       "      <td>0.474082</td>\n",
       "      <td>2</td>\n",
       "      <td>0</td>\n",
       "      <td>medium</td>\n",
       "      <td>0.405101</td>\n",
       "      <td>Left</td>\n",
       "      <td>3.0</td>\n",
       "      <td>126150</td>\n",
       "      <td>0</td>\n",
       "      <td>24</td>\n",
       "      <td>Female</td>\n",
       "      <td>Unmarried</td>\n",
       "    </tr>\n",
       "    <tr>\n",
       "      <th>3</th>\n",
       "      <td>256.0</td>\n",
       "      <td>D00-SP</td>\n",
       "      <td>0</td>\n",
       "      <td>0.961360</td>\n",
       "      <td>6</td>\n",
       "      <td>0</td>\n",
       "      <td>low</td>\n",
       "      <td>0.152974</td>\n",
       "      <td>Left</td>\n",
       "      <td>4.0</td>\n",
       "      <td>125346</td>\n",
       "      <td>0</td>\n",
       "      <td>51</td>\n",
       "      <td>Female</td>\n",
       "      <td>Married</td>\n",
       "    </tr>\n",
       "    <tr>\n",
       "      <th>4</th>\n",
       "      <td>146.0</td>\n",
       "      <td>D00-SS</td>\n",
       "      <td>0</td>\n",
       "      <td>0.507349</td>\n",
       "      <td>2</td>\n",
       "      <td>0</td>\n",
       "      <td>medium</td>\n",
       "      <td>0.434845</td>\n",
       "      <td>Left</td>\n",
       "      <td>3.0</td>\n",
       "      <td>113707</td>\n",
       "      <td>0</td>\n",
       "      <td>23</td>\n",
       "      <td>Female</td>\n",
       "      <td>Unmarried</td>\n",
       "    </tr>\n",
       "    <tr>\n",
       "      <th>...</th>\n",
       "      <td>...</td>\n",
       "      <td>...</td>\n",
       "      <td>...</td>\n",
       "      <td>...</td>\n",
       "      <td>...</td>\n",
       "      <td>...</td>\n",
       "      <td>...</td>\n",
       "      <td>...</td>\n",
       "      <td>...</td>\n",
       "      <td>...</td>\n",
       "      <td>...</td>\n",
       "      <td>...</td>\n",
       "      <td>...</td>\n",
       "      <td>...</td>\n",
       "      <td>...</td>\n",
       "    </tr>\n",
       "    <tr>\n",
       "      <th>14111</th>\n",
       "      <td>141.0</td>\n",
       "      <td>D00-SS</td>\n",
       "      <td>0</td>\n",
       "      <td>0.537866</td>\n",
       "      <td>3</td>\n",
       "      <td>0</td>\n",
       "      <td>low</td>\n",
       "      <td>0.610841</td>\n",
       "      <td>Employed</td>\n",
       "      <td>3.0</td>\n",
       "      <td>100833</td>\n",
       "      <td>0</td>\n",
       "      <td>29</td>\n",
       "      <td>Male</td>\n",
       "      <td>Unmarried</td>\n",
       "    </tr>\n",
       "    <tr>\n",
       "      <th>14112</th>\n",
       "      <td>168.0</td>\n",
       "      <td>D00-SS</td>\n",
       "      <td>0</td>\n",
       "      <td>0.643553</td>\n",
       "      <td>3</td>\n",
       "      <td>0</td>\n",
       "      <td>low</td>\n",
       "      <td>0.489559</td>\n",
       "      <td>Employed</td>\n",
       "      <td>3.0</td>\n",
       "      <td>118090</td>\n",
       "      <td>0</td>\n",
       "      <td>24</td>\n",
       "      <td>Female</td>\n",
       "      <td>Unmarried</td>\n",
       "    </tr>\n",
       "    <tr>\n",
       "      <th>14113</th>\n",
       "      <td>257.0</td>\n",
       "      <td>D00-SP</td>\n",
       "      <td>0</td>\n",
       "      <td>0.000000</td>\n",
       "      <td>3</td>\n",
       "      <td>0</td>\n",
       "      <td>medium</td>\n",
       "      <td>0.944942</td>\n",
       "      <td>Employed</td>\n",
       "      <td>3.0</td>\n",
       "      <td>106064</td>\n",
       "      <td>1</td>\n",
       "      <td>27</td>\n",
       "      <td>Male</td>\n",
       "      <td>Unmarried</td>\n",
       "    </tr>\n",
       "    <tr>\n",
       "      <th>14114</th>\n",
       "      <td>242.0</td>\n",
       "      <td>D00-IT</td>\n",
       "      <td>0</td>\n",
       "      <td>0.836603</td>\n",
       "      <td>4</td>\n",
       "      <td>0</td>\n",
       "      <td>low</td>\n",
       "      <td>0.740136</td>\n",
       "      <td>Employed</td>\n",
       "      <td>2.0</td>\n",
       "      <td>113083</td>\n",
       "      <td>0</td>\n",
       "      <td>46</td>\n",
       "      <td>Male</td>\n",
       "      <td>Married</td>\n",
       "    </tr>\n",
       "    <tr>\n",
       "      <th>14115</th>\n",
       "      <td>171.0</td>\n",
       "      <td>D00-SP</td>\n",
       "      <td>1.0</td>\n",
       "      <td>0.907277</td>\n",
       "      <td>3</td>\n",
       "      <td>0</td>\n",
       "      <td>low</td>\n",
       "      <td>0.506658</td>\n",
       "      <td>Employed</td>\n",
       "      <td>3.0</td>\n",
       "      <td>104996</td>\n",
       "      <td>0</td>\n",
       "      <td>22</td>\n",
       "      <td>Male</td>\n",
       "      <td>Unmarried</td>\n",
       "    </tr>\n",
       "  </tbody>\n",
       "</table>\n",
       "<p>14116 rows × 15 columns</p>\n",
       "</div>"
      ],
      "text/plain": [
       "       avg_monthly_hrs department filed_complaint  last_evaluation  \\\n",
       "0      246.0            D00-OTH    0               0.866838          \n",
       "1      134.0            D00-OTH    0               0.555718          \n",
       "2      156.0            D00-SS     1.0             0.474082          \n",
       "3      256.0            D00-SP     0               0.961360          \n",
       "4      146.0            D00-SS     0               0.507349          \n",
       "...      ...               ...    ..                    ...          \n",
       "14111  141.0            D00-SS     0               0.537866          \n",
       "14112  168.0            D00-SS     0               0.643553          \n",
       "14113  257.0            D00-SP     0               0.000000          \n",
       "14114  242.0            D00-IT     0               0.836603          \n",
       "14115  171.0            D00-SP     1.0             0.907277          \n",
       "\n",
       "       n_projects recently_promoted  salary  satisfaction    status  tenure  \\\n",
       "0      6           0                 medium  0.134415      Left      4.0      \n",
       "1      2           0                 low     0.511041      Left      3.0      \n",
       "2      2           0                 medium  0.405101      Left      3.0      \n",
       "3      6           0                 low     0.152974      Left      4.0      \n",
       "4      2           0                 medium  0.434845      Left      3.0      \n",
       "...   ..          ..                    ...       ...       ...      ...      \n",
       "14111  3           0                 low     0.610841      Employed  3.0      \n",
       "14112  3           0                 low     0.489559      Employed  3.0      \n",
       "14113  3           0                 medium  0.944942      Employed  3.0      \n",
       "14114  4           0                 low     0.740136      Employed  2.0      \n",
       "14115  3           0                 low     0.506658      Employed  3.0      \n",
       "\n",
       "       employee_id  last_evaluation_missing  age  gender marital_status  \n",
       "0      124467       0                        42   Female  Married        \n",
       "1      112210       0                        23   Female  Unmarried      \n",
       "2      126150       0                        24   Female  Unmarried      \n",
       "3      125346       0                        51   Female  Married        \n",
       "4      113707       0                        23   Female  Unmarried      \n",
       "...       ...      ..                        ..      ...        ...      \n",
       "14111  100833       0                        29   Male    Unmarried      \n",
       "14112  118090       0                        24   Female  Unmarried      \n",
       "14113  106064       1                        27   Male    Unmarried      \n",
       "14114  113083       0                        46   Male    Married        \n",
       "14115  104996       0                        22   Male    Unmarried      \n",
       "\n",
       "[14116 rows x 15 columns]"
      ]
     },
     "execution_count": 36,
     "metadata": {},
     "output_type": "execute_result"
    }
   ],
   "source": [
    "df_final.drop_duplicates()"
   ]
  },
  {
   "cell_type": "code",
   "execution_count": 37,
   "metadata": {},
   "outputs": [],
   "source": [
    "df_department.columns = df_department.columns.str.strip()\n",
    "df_final.columns=df_final.columns.str.strip()"
   ]
  },
  {
   "cell_type": "code",
   "execution_count": 38,
   "metadata": {},
   "outputs": [
    {
     "data": {
      "text/html": [
       "<div>\n",
       "<style scoped>\n",
       "    .dataframe tbody tr th:only-of-type {\n",
       "        vertical-align: middle;\n",
       "    }\n",
       "\n",
       "    .dataframe tbody tr th {\n",
       "        vertical-align: top;\n",
       "    }\n",
       "\n",
       "    .dataframe thead th {\n",
       "        text-align: right;\n",
       "    }\n",
       "</style>\n",
       "<table border=\"1\" class=\"dataframe\">\n",
       "  <thead>\n",
       "    <tr style=\"text-align: right;\">\n",
       "      <th></th>\n",
       "      <th>avg_monthly_hrs</th>\n",
       "      <th>department</th>\n",
       "      <th>filed_complaint</th>\n",
       "      <th>last_evaluation</th>\n",
       "      <th>n_projects</th>\n",
       "      <th>recently_promoted</th>\n",
       "      <th>salary</th>\n",
       "      <th>satisfaction</th>\n",
       "      <th>status</th>\n",
       "      <th>tenure</th>\n",
       "      <th>employee_id</th>\n",
       "      <th>last_evaluation_missing</th>\n",
       "      <th>age</th>\n",
       "      <th>gender</th>\n",
       "      <th>marital_status</th>\n",
       "    </tr>\n",
       "  </thead>\n",
       "  <tbody>\n",
       "    <tr>\n",
       "      <th>0</th>\n",
       "      <td>246.0</td>\n",
       "      <td>D00-OTH</td>\n",
       "      <td>0</td>\n",
       "      <td>0.866838</td>\n",
       "      <td>6</td>\n",
       "      <td>0</td>\n",
       "      <td>medium</td>\n",
       "      <td>0.134415</td>\n",
       "      <td>Left</td>\n",
       "      <td>4.0</td>\n",
       "      <td>124467</td>\n",
       "      <td>0</td>\n",
       "      <td>42</td>\n",
       "      <td>Female</td>\n",
       "      <td>Married</td>\n",
       "    </tr>\n",
       "    <tr>\n",
       "      <th>1</th>\n",
       "      <td>134.0</td>\n",
       "      <td>D00-OTH</td>\n",
       "      <td>0</td>\n",
       "      <td>0.555718</td>\n",
       "      <td>2</td>\n",
       "      <td>0</td>\n",
       "      <td>low</td>\n",
       "      <td>0.511041</td>\n",
       "      <td>Left</td>\n",
       "      <td>3.0</td>\n",
       "      <td>112210</td>\n",
       "      <td>0</td>\n",
       "      <td>23</td>\n",
       "      <td>Female</td>\n",
       "      <td>Unmarried</td>\n",
       "    </tr>\n",
       "    <tr>\n",
       "      <th>2</th>\n",
       "      <td>156.0</td>\n",
       "      <td>D00-SS</td>\n",
       "      <td>1.0</td>\n",
       "      <td>0.474082</td>\n",
       "      <td>2</td>\n",
       "      <td>0</td>\n",
       "      <td>medium</td>\n",
       "      <td>0.405101</td>\n",
       "      <td>Left</td>\n",
       "      <td>3.0</td>\n",
       "      <td>126150</td>\n",
       "      <td>0</td>\n",
       "      <td>24</td>\n",
       "      <td>Female</td>\n",
       "      <td>Unmarried</td>\n",
       "    </tr>\n",
       "    <tr>\n",
       "      <th>3</th>\n",
       "      <td>256.0</td>\n",
       "      <td>D00-SP</td>\n",
       "      <td>0</td>\n",
       "      <td>0.961360</td>\n",
       "      <td>6</td>\n",
       "      <td>0</td>\n",
       "      <td>low</td>\n",
       "      <td>0.152974</td>\n",
       "      <td>Left</td>\n",
       "      <td>4.0</td>\n",
       "      <td>125346</td>\n",
       "      <td>0</td>\n",
       "      <td>51</td>\n",
       "      <td>Female</td>\n",
       "      <td>Married</td>\n",
       "    </tr>\n",
       "    <tr>\n",
       "      <th>4</th>\n",
       "      <td>146.0</td>\n",
       "      <td>D00-SS</td>\n",
       "      <td>0</td>\n",
       "      <td>0.507349</td>\n",
       "      <td>2</td>\n",
       "      <td>0</td>\n",
       "      <td>medium</td>\n",
       "      <td>0.434845</td>\n",
       "      <td>Left</td>\n",
       "      <td>3.0</td>\n",
       "      <td>113707</td>\n",
       "      <td>0</td>\n",
       "      <td>23</td>\n",
       "      <td>Female</td>\n",
       "      <td>Unmarried</td>\n",
       "    </tr>\n",
       "  </tbody>\n",
       "</table>\n",
       "</div>"
      ],
      "text/plain": [
       "   avg_monthly_hrs department filed_complaint  last_evaluation  n_projects  \\\n",
       "0  246.0            D00-OTH    0               0.866838         6            \n",
       "1  134.0            D00-OTH    0               0.555718         2            \n",
       "2  156.0            D00-SS     1.0             0.474082         2            \n",
       "3  256.0            D00-SP     0               0.961360         6            \n",
       "4  146.0            D00-SS     0               0.507349         2            \n",
       "\n",
       "  recently_promoted  salary  satisfaction status  tenure  employee_id  \\\n",
       "0  0                 medium  0.134415      Left   4.0     124467        \n",
       "1  0                 low     0.511041      Left   3.0     112210        \n",
       "2  0                 medium  0.405101      Left   3.0     126150        \n",
       "3  0                 low     0.152974      Left   4.0     125346        \n",
       "4  0                 medium  0.434845      Left   3.0     113707        \n",
       "\n",
       "   last_evaluation_missing  age  gender marital_status  \n",
       "0  0                        42   Female  Married        \n",
       "1  0                        23   Female  Unmarried      \n",
       "2  0                        24   Female  Unmarried      \n",
       "3  0                        51   Female  Married        \n",
       "4  0                        23   Female  Unmarried      "
      ]
     },
     "execution_count": 38,
     "metadata": {},
     "output_type": "execute_result"
    }
   ],
   "source": [
    "df_final.head()"
   ]
  },
  {
   "cell_type": "code",
   "execution_count": 39,
   "metadata": {},
   "outputs": [],
   "source": [
    "df_final=df_final.merge(df_department, on='department', how='left')"
   ]
  },
  {
   "cell_type": "code",
   "execution_count": 40,
   "metadata": {},
   "outputs": [
    {
     "data": {
      "text/plain": [
       "(14145, 17)"
      ]
     },
     "execution_count": 40,
     "metadata": {},
     "output_type": "execute_result"
    }
   ],
   "source": [
    "df_final.shape"
   ]
  },
  {
   "cell_type": "code",
   "execution_count": 41,
   "metadata": {},
   "outputs": [
    {
     "data": {
      "text/html": [
       "<div>\n",
       "<style scoped>\n",
       "    .dataframe tbody tr th:only-of-type {\n",
       "        vertical-align: middle;\n",
       "    }\n",
       "\n",
       "    .dataframe tbody tr th {\n",
       "        vertical-align: top;\n",
       "    }\n",
       "\n",
       "    .dataframe thead th {\n",
       "        text-align: right;\n",
       "    }\n",
       "</style>\n",
       "<table border=\"1\" class=\"dataframe\">\n",
       "  <thead>\n",
       "    <tr style=\"text-align: right;\">\n",
       "      <th></th>\n",
       "      <th>avg_monthly_hrs</th>\n",
       "      <th>department</th>\n",
       "      <th>filed_complaint</th>\n",
       "      <th>last_evaluation</th>\n",
       "      <th>n_projects</th>\n",
       "      <th>recently_promoted</th>\n",
       "      <th>salary</th>\n",
       "      <th>satisfaction</th>\n",
       "      <th>status</th>\n",
       "      <th>tenure</th>\n",
       "      <th>employee_id</th>\n",
       "      <th>last_evaluation_missing</th>\n",
       "      <th>age</th>\n",
       "      <th>gender</th>\n",
       "      <th>marital_status</th>\n",
       "      <th>dept_name</th>\n",
       "      <th>dept_head</th>\n",
       "    </tr>\n",
       "  </thead>\n",
       "  <tbody>\n",
       "    <tr>\n",
       "      <th>0</th>\n",
       "      <td>246.0</td>\n",
       "      <td>D00-OTH</td>\n",
       "      <td>0</td>\n",
       "      <td>0.866838</td>\n",
       "      <td>6</td>\n",
       "      <td>0</td>\n",
       "      <td>medium</td>\n",
       "      <td>0.134415</td>\n",
       "      <td>Left</td>\n",
       "      <td>4.0</td>\n",
       "      <td>124467</td>\n",
       "      <td>0</td>\n",
       "      <td>42</td>\n",
       "      <td>Female</td>\n",
       "      <td>Married</td>\n",
       "      <td>Others</td>\n",
       "      <td>Other</td>\n",
       "    </tr>\n",
       "    <tr>\n",
       "      <th>1</th>\n",
       "      <td>134.0</td>\n",
       "      <td>D00-OTH</td>\n",
       "      <td>0</td>\n",
       "      <td>0.555718</td>\n",
       "      <td>2</td>\n",
       "      <td>0</td>\n",
       "      <td>low</td>\n",
       "      <td>0.511041</td>\n",
       "      <td>Left</td>\n",
       "      <td>3.0</td>\n",
       "      <td>112210</td>\n",
       "      <td>0</td>\n",
       "      <td>23</td>\n",
       "      <td>Female</td>\n",
       "      <td>Unmarried</td>\n",
       "      <td>Others</td>\n",
       "      <td>Other</td>\n",
       "    </tr>\n",
       "    <tr>\n",
       "      <th>2</th>\n",
       "      <td>156.0</td>\n",
       "      <td>D00-SS</td>\n",
       "      <td>1.0</td>\n",
       "      <td>0.474082</td>\n",
       "      <td>2</td>\n",
       "      <td>0</td>\n",
       "      <td>medium</td>\n",
       "      <td>0.405101</td>\n",
       "      <td>Left</td>\n",
       "      <td>3.0</td>\n",
       "      <td>126150</td>\n",
       "      <td>0</td>\n",
       "      <td>24</td>\n",
       "      <td>Female</td>\n",
       "      <td>Unmarried</td>\n",
       "      <td>Sales</td>\n",
       "      <td>Edward J Bayley</td>\n",
       "    </tr>\n",
       "    <tr>\n",
       "      <th>3</th>\n",
       "      <td>256.0</td>\n",
       "      <td>D00-SP</td>\n",
       "      <td>0</td>\n",
       "      <td>0.961360</td>\n",
       "      <td>6</td>\n",
       "      <td>0</td>\n",
       "      <td>low</td>\n",
       "      <td>0.152974</td>\n",
       "      <td>Left</td>\n",
       "      <td>4.0</td>\n",
       "      <td>125346</td>\n",
       "      <td>0</td>\n",
       "      <td>51</td>\n",
       "      <td>Female</td>\n",
       "      <td>Married</td>\n",
       "      <td>Support</td>\n",
       "      <td>Amelia Westray</td>\n",
       "    </tr>\n",
       "    <tr>\n",
       "      <th>4</th>\n",
       "      <td>146.0</td>\n",
       "      <td>D00-SS</td>\n",
       "      <td>0</td>\n",
       "      <td>0.507349</td>\n",
       "      <td>2</td>\n",
       "      <td>0</td>\n",
       "      <td>medium</td>\n",
       "      <td>0.434845</td>\n",
       "      <td>Left</td>\n",
       "      <td>3.0</td>\n",
       "      <td>113707</td>\n",
       "      <td>0</td>\n",
       "      <td>23</td>\n",
       "      <td>Female</td>\n",
       "      <td>Unmarried</td>\n",
       "      <td>Sales</td>\n",
       "      <td>Edward J Bayley</td>\n",
       "    </tr>\n",
       "    <tr>\n",
       "      <th>...</th>\n",
       "      <td>...</td>\n",
       "      <td>...</td>\n",
       "      <td>...</td>\n",
       "      <td>...</td>\n",
       "      <td>...</td>\n",
       "      <td>...</td>\n",
       "      <td>...</td>\n",
       "      <td>...</td>\n",
       "      <td>...</td>\n",
       "      <td>...</td>\n",
       "      <td>...</td>\n",
       "      <td>...</td>\n",
       "      <td>...</td>\n",
       "      <td>...</td>\n",
       "      <td>...</td>\n",
       "      <td>...</td>\n",
       "      <td>...</td>\n",
       "    </tr>\n",
       "    <tr>\n",
       "      <th>14111</th>\n",
       "      <td>141.0</td>\n",
       "      <td>D00-SS</td>\n",
       "      <td>0</td>\n",
       "      <td>0.537866</td>\n",
       "      <td>3</td>\n",
       "      <td>0</td>\n",
       "      <td>low</td>\n",
       "      <td>0.610841</td>\n",
       "      <td>Employed</td>\n",
       "      <td>3.0</td>\n",
       "      <td>100833</td>\n",
       "      <td>0</td>\n",
       "      <td>29</td>\n",
       "      <td>Male</td>\n",
       "      <td>Unmarried</td>\n",
       "      <td>Sales</td>\n",
       "      <td>Edward J Bayley</td>\n",
       "    </tr>\n",
       "    <tr>\n",
       "      <th>14112</th>\n",
       "      <td>168.0</td>\n",
       "      <td>D00-SS</td>\n",
       "      <td>0</td>\n",
       "      <td>0.643553</td>\n",
       "      <td>3</td>\n",
       "      <td>0</td>\n",
       "      <td>low</td>\n",
       "      <td>0.489559</td>\n",
       "      <td>Employed</td>\n",
       "      <td>3.0</td>\n",
       "      <td>118090</td>\n",
       "      <td>0</td>\n",
       "      <td>24</td>\n",
       "      <td>Female</td>\n",
       "      <td>Unmarried</td>\n",
       "      <td>Sales</td>\n",
       "      <td>Edward J Bayley</td>\n",
       "    </tr>\n",
       "    <tr>\n",
       "      <th>14113</th>\n",
       "      <td>257.0</td>\n",
       "      <td>D00-SP</td>\n",
       "      <td>0</td>\n",
       "      <td>0.000000</td>\n",
       "      <td>3</td>\n",
       "      <td>0</td>\n",
       "      <td>medium</td>\n",
       "      <td>0.944942</td>\n",
       "      <td>Employed</td>\n",
       "      <td>3.0</td>\n",
       "      <td>106064</td>\n",
       "      <td>1</td>\n",
       "      <td>27</td>\n",
       "      <td>Male</td>\n",
       "      <td>Unmarried</td>\n",
       "      <td>Support</td>\n",
       "      <td>Amelia Westray</td>\n",
       "    </tr>\n",
       "    <tr>\n",
       "      <th>14114</th>\n",
       "      <td>242.0</td>\n",
       "      <td>D00-IT</td>\n",
       "      <td>0</td>\n",
       "      <td>0.836603</td>\n",
       "      <td>4</td>\n",
       "      <td>0</td>\n",
       "      <td>low</td>\n",
       "      <td>0.740136</td>\n",
       "      <td>Employed</td>\n",
       "      <td>2.0</td>\n",
       "      <td>113083</td>\n",
       "      <td>0</td>\n",
       "      <td>46</td>\n",
       "      <td>Male</td>\n",
       "      <td>Married</td>\n",
       "      <td>IT</td>\n",
       "      <td>Henry Adey</td>\n",
       "    </tr>\n",
       "    <tr>\n",
       "      <th>14115</th>\n",
       "      <td>171.0</td>\n",
       "      <td>D00-SP</td>\n",
       "      <td>1.0</td>\n",
       "      <td>0.907277</td>\n",
       "      <td>3</td>\n",
       "      <td>0</td>\n",
       "      <td>low</td>\n",
       "      <td>0.506658</td>\n",
       "      <td>Employed</td>\n",
       "      <td>3.0</td>\n",
       "      <td>104996</td>\n",
       "      <td>0</td>\n",
       "      <td>22</td>\n",
       "      <td>Male</td>\n",
       "      <td>Unmarried</td>\n",
       "      <td>Support</td>\n",
       "      <td>Amelia Westray</td>\n",
       "    </tr>\n",
       "  </tbody>\n",
       "</table>\n",
       "<p>14116 rows × 17 columns</p>\n",
       "</div>"
      ],
      "text/plain": [
       "       avg_monthly_hrs department filed_complaint  last_evaluation  \\\n",
       "0      246.0            D00-OTH    0               0.866838          \n",
       "1      134.0            D00-OTH    0               0.555718          \n",
       "2      156.0            D00-SS     1.0             0.474082          \n",
       "3      256.0            D00-SP     0               0.961360          \n",
       "4      146.0            D00-SS     0               0.507349          \n",
       "...      ...               ...    ..                    ...          \n",
       "14111  141.0            D00-SS     0               0.537866          \n",
       "14112  168.0            D00-SS     0               0.643553          \n",
       "14113  257.0            D00-SP     0               0.000000          \n",
       "14114  242.0            D00-IT     0               0.836603          \n",
       "14115  171.0            D00-SP     1.0             0.907277          \n",
       "\n",
       "       n_projects recently_promoted  salary  satisfaction    status  tenure  \\\n",
       "0      6           0                 medium  0.134415      Left      4.0      \n",
       "1      2           0                 low     0.511041      Left      3.0      \n",
       "2      2           0                 medium  0.405101      Left      3.0      \n",
       "3      6           0                 low     0.152974      Left      4.0      \n",
       "4      2           0                 medium  0.434845      Left      3.0      \n",
       "...   ..          ..                    ...       ...       ...      ...      \n",
       "14111  3           0                 low     0.610841      Employed  3.0      \n",
       "14112  3           0                 low     0.489559      Employed  3.0      \n",
       "14113  3           0                 medium  0.944942      Employed  3.0      \n",
       "14114  4           0                 low     0.740136      Employed  2.0      \n",
       "14115  3           0                 low     0.506658      Employed  3.0      \n",
       "\n",
       "       employee_id  last_evaluation_missing  age  gender marital_status  \\\n",
       "0      124467       0                        42   Female  Married         \n",
       "1      112210       0                        23   Female  Unmarried       \n",
       "2      126150       0                        24   Female  Unmarried       \n",
       "3      125346       0                        51   Female  Married         \n",
       "4      113707       0                        23   Female  Unmarried       \n",
       "...       ...      ..                        ..      ...        ...       \n",
       "14111  100833       0                        29   Male    Unmarried       \n",
       "14112  118090       0                        24   Female  Unmarried       \n",
       "14113  106064       1                        27   Male    Unmarried       \n",
       "14114  113083       0                        46   Male    Married         \n",
       "14115  104996       0                        22   Male    Unmarried       \n",
       "\n",
       "      dept_name        dept_head  \n",
       "0      Others    Other            \n",
       "1      Others    Other            \n",
       "2      Sales     Edward J Bayley  \n",
       "3      Support   Amelia Westray   \n",
       "4      Sales     Edward J Bayley  \n",
       "...      ...                 ...  \n",
       "14111  Sales     Edward J Bayley  \n",
       "14112  Sales     Edward J Bayley  \n",
       "14113  Support   Amelia Westray   \n",
       "14114  IT        Henry Adey       \n",
       "14115  Support   Amelia Westray   \n",
       "\n",
       "[14116 rows x 17 columns]"
      ]
     },
     "execution_count": 41,
     "metadata": {},
     "output_type": "execute_result"
    }
   ],
   "source": [
    "df_final.drop_duplicates()"
   ]
  },
  {
   "cell_type": "code",
   "execution_count": 42,
   "metadata": {},
   "outputs": [
    {
     "data": {
      "text/plain": [
       "(14145, 17)"
      ]
     },
     "execution_count": 42,
     "metadata": {},
     "output_type": "execute_result"
    }
   ],
   "source": [
    "df_final.shape"
   ]
  },
  {
   "cell_type": "code",
   "execution_count": 43,
   "metadata": {},
   "outputs": [
    {
     "name": "stdout",
     "output_type": "stream",
     "text": [
      "(14145, 17)\n",
      "----------------------------------------Shape--------------------------------------------------\n",
      "<class 'pandas.core.frame.DataFrame'>\n",
      "Int64Index: 14145 entries, 0 to 14144\n",
      "Data columns (total 17 columns):\n",
      " #   Column                   Non-Null Count  Dtype  \n",
      "---  ------                   --------------  -----  \n",
      " 0   avg_monthly_hrs          14145 non-null  float64\n",
      " 1   department               14145 non-null  object \n",
      " 2   filed_complaint          14145 non-null  object \n",
      " 3   last_evaluation          14145 non-null  float64\n",
      " 4   n_projects               14145 non-null  int64  \n",
      " 5   recently_promoted        14145 non-null  object \n",
      " 6   salary                   14145 non-null  object \n",
      " 7   satisfaction             14145 non-null  float64\n",
      " 8   status                   14145 non-null  object \n",
      " 9   tenure                   14145 non-null  float64\n",
      " 10  employee_id              14145 non-null  int64  \n",
      " 11  last_evaluation_missing  14145 non-null  int64  \n",
      " 12  age                      14145 non-null  int64  \n",
      " 13  gender                   14145 non-null  object \n",
      " 14  marital_status           14145 non-null  object \n",
      " 15  dept_name                14145 non-null  object \n",
      " 16  dept_head                14145 non-null  object \n",
      "dtypes: float64(4), int64(4), object(9)\n",
      "memory usage: 1.9+ MB\n",
      "None\n",
      "--------------------------------------- Describe ---------------------------------------------\n",
      "       avg_monthly_hrs  last_evaluation    n_projects  satisfaction  \\\n",
      "count  14145.000000     14145.000000     14145.000000  14145.000000   \n",
      "mean   199.987063       0.642889         3.777943      0.621295       \n",
      "std    50.828241        0.274535         1.249930      0.249110       \n",
      "min    49.000000        0.000000         1.000000      0.040058       \n",
      "25%    155.000000       0.522048         3.000000      0.452844       \n",
      "50%    199.000000       0.683542         4.000000      0.648241       \n",
      "75%    245.000000       0.857046         5.000000      0.823012       \n",
      "max    310.000000       1.000000         7.000000      1.000000       \n",
      "\n",
      "             tenure    employee_id  last_evaluation_missing           age  \n",
      "count  14145.000000  14145.000000   14145.000000             14145.000000  \n",
      "mean   3.494026      112120.368752  0.105125                 32.898621     \n",
      "std    1.455936      8492.099388    0.306726                 9.978939      \n",
      "min    2.000000      100101.000000  0.000000                 22.000000     \n",
      "25%    3.000000      105780.000000  0.000000                 24.000000     \n",
      "50%    3.000000      111296.000000  0.000000                 29.000000     \n",
      "75%    4.000000      116653.000000  0.000000                 41.000000     \n",
      "max    10.000000     148988.000000  1.000000                 57.000000     \n",
      "-----------------------------------------Missing Data---------------------------------------------\n",
      "                         Total  Percent\n",
      "dept_head                0      0.0    \n",
      "satisfaction             0      0.0    \n",
      "department               0      0.0    \n",
      "filed_complaint          0      0.0    \n",
      "last_evaluation          0      0.0    \n",
      "n_projects               0      0.0    \n",
      "recently_promoted        0      0.0    \n",
      "salary                   0      0.0    \n",
      "status                   0      0.0    \n",
      "dept_name                0      0.0    \n",
      "tenure                   0      0.0    \n",
      "employee_id              0      0.0    \n",
      "last_evaluation_missing  0      0.0    \n",
      "age                      0      0.0    \n",
      "gender                   0      0.0    \n",
      "marital_status           0      0.0    \n",
      "avg_monthly_hrs          0      0.0    \n"
     ]
    },
    {
     "data": {
      "text/html": [
       "<div>\n",
       "<style scoped>\n",
       "    .dataframe tbody tr th:only-of-type {\n",
       "        vertical-align: middle;\n",
       "    }\n",
       "\n",
       "    .dataframe tbody tr th {\n",
       "        vertical-align: top;\n",
       "    }\n",
       "\n",
       "    .dataframe thead th {\n",
       "        text-align: right;\n",
       "    }\n",
       "</style>\n",
       "<table border=\"1\" class=\"dataframe\">\n",
       "  <thead>\n",
       "    <tr style=\"text-align: right;\">\n",
       "      <th></th>\n",
       "      <th>avg_monthly_hrs</th>\n",
       "      <th>department</th>\n",
       "      <th>filed_complaint</th>\n",
       "      <th>last_evaluation</th>\n",
       "      <th>n_projects</th>\n",
       "      <th>recently_promoted</th>\n",
       "      <th>salary</th>\n",
       "      <th>satisfaction</th>\n",
       "      <th>status</th>\n",
       "      <th>tenure</th>\n",
       "      <th>employee_id</th>\n",
       "      <th>last_evaluation_missing</th>\n",
       "      <th>age</th>\n",
       "      <th>gender</th>\n",
       "      <th>marital_status</th>\n",
       "      <th>dept_name</th>\n",
       "      <th>dept_head</th>\n",
       "    </tr>\n",
       "  </thead>\n",
       "  <tbody>\n",
       "    <tr>\n",
       "      <th>0</th>\n",
       "      <td>246.0</td>\n",
       "      <td>D00-OTH</td>\n",
       "      <td>0</td>\n",
       "      <td>0.866838</td>\n",
       "      <td>6</td>\n",
       "      <td>0</td>\n",
       "      <td>medium</td>\n",
       "      <td>0.134415</td>\n",
       "      <td>Left</td>\n",
       "      <td>4.0</td>\n",
       "      <td>124467</td>\n",
       "      <td>0</td>\n",
       "      <td>42</td>\n",
       "      <td>Female</td>\n",
       "      <td>Married</td>\n",
       "      <td>Others</td>\n",
       "      <td>Other</td>\n",
       "    </tr>\n",
       "    <tr>\n",
       "      <th>1</th>\n",
       "      <td>134.0</td>\n",
       "      <td>D00-OTH</td>\n",
       "      <td>0</td>\n",
       "      <td>0.555718</td>\n",
       "      <td>2</td>\n",
       "      <td>0</td>\n",
       "      <td>low</td>\n",
       "      <td>0.511041</td>\n",
       "      <td>Left</td>\n",
       "      <td>3.0</td>\n",
       "      <td>112210</td>\n",
       "      <td>0</td>\n",
       "      <td>23</td>\n",
       "      <td>Female</td>\n",
       "      <td>Unmarried</td>\n",
       "      <td>Others</td>\n",
       "      <td>Other</td>\n",
       "    </tr>\n",
       "    <tr>\n",
       "      <th>2</th>\n",
       "      <td>156.0</td>\n",
       "      <td>D00-SS</td>\n",
       "      <td>1.0</td>\n",
       "      <td>0.474082</td>\n",
       "      <td>2</td>\n",
       "      <td>0</td>\n",
       "      <td>medium</td>\n",
       "      <td>0.405101</td>\n",
       "      <td>Left</td>\n",
       "      <td>3.0</td>\n",
       "      <td>126150</td>\n",
       "      <td>0</td>\n",
       "      <td>24</td>\n",
       "      <td>Female</td>\n",
       "      <td>Unmarried</td>\n",
       "      <td>Sales</td>\n",
       "      <td>Edward J Bayley</td>\n",
       "    </tr>\n",
       "    <tr>\n",
       "      <th>3</th>\n",
       "      <td>256.0</td>\n",
       "      <td>D00-SP</td>\n",
       "      <td>0</td>\n",
       "      <td>0.961360</td>\n",
       "      <td>6</td>\n",
       "      <td>0</td>\n",
       "      <td>low</td>\n",
       "      <td>0.152974</td>\n",
       "      <td>Left</td>\n",
       "      <td>4.0</td>\n",
       "      <td>125346</td>\n",
       "      <td>0</td>\n",
       "      <td>51</td>\n",
       "      <td>Female</td>\n",
       "      <td>Married</td>\n",
       "      <td>Support</td>\n",
       "      <td>Amelia Westray</td>\n",
       "    </tr>\n",
       "    <tr>\n",
       "      <th>4</th>\n",
       "      <td>146.0</td>\n",
       "      <td>D00-SS</td>\n",
       "      <td>0</td>\n",
       "      <td>0.507349</td>\n",
       "      <td>2</td>\n",
       "      <td>0</td>\n",
       "      <td>medium</td>\n",
       "      <td>0.434845</td>\n",
       "      <td>Left</td>\n",
       "      <td>3.0</td>\n",
       "      <td>113707</td>\n",
       "      <td>0</td>\n",
       "      <td>23</td>\n",
       "      <td>Female</td>\n",
       "      <td>Unmarried</td>\n",
       "      <td>Sales</td>\n",
       "      <td>Edward J Bayley</td>\n",
       "    </tr>\n",
       "  </tbody>\n",
       "</table>\n",
       "</div>"
      ],
      "text/plain": [
       "   avg_monthly_hrs department filed_complaint  last_evaluation  n_projects  \\\n",
       "0  246.0            D00-OTH    0               0.866838         6            \n",
       "1  134.0            D00-OTH    0               0.555718         2            \n",
       "2  156.0            D00-SS     1.0             0.474082         2            \n",
       "3  256.0            D00-SP     0               0.961360         6            \n",
       "4  146.0            D00-SS     0               0.507349         2            \n",
       "\n",
       "  recently_promoted  salary  satisfaction status  tenure  employee_id  \\\n",
       "0  0                 medium  0.134415      Left   4.0     124467        \n",
       "1  0                 low     0.511041      Left   3.0     112210        \n",
       "2  0                 medium  0.405101      Left   3.0     126150        \n",
       "3  0                 low     0.152974      Left   4.0     125346        \n",
       "4  0                 medium  0.434845      Left   3.0     113707        \n",
       "\n",
       "   last_evaluation_missing  age  gender marital_status dept_name  \\\n",
       "0  0                        42   Female  Married        Others     \n",
       "1  0                        23   Female  Unmarried      Others     \n",
       "2  0                        24   Female  Unmarried      Sales      \n",
       "3  0                        51   Female  Married        Support    \n",
       "4  0                        23   Female  Unmarried      Sales      \n",
       "\n",
       "         dept_head  \n",
       "0  Other            \n",
       "1  Other            \n",
       "2  Edward J Bayley  \n",
       "3  Amelia Westray   \n",
       "4  Edward J Bayley  "
      ]
     },
     "execution_count": 43,
     "metadata": {},
     "output_type": "execute_result"
    }
   ],
   "source": [
    "analyze_df(df_final)"
   ]
  },
  {
   "cell_type": "markdown",
   "metadata": {},
   "source": [
    "# Explore Data Analysis"
   ]
  },
  {
   "cell_type": "code",
   "execution_count": 44,
   "metadata": {},
   "outputs": [
    {
     "name": "stdout",
     "output_type": "stream",
     "text": [
      "14116\n"
     ]
    }
   ],
   "source": [
    "### 1.Unique Employee ID\n",
    "print(df_final.employee_id.nunique())\n",
    "\n",
    "#There are 14116 unique employee id "
   ]
  },
  {
   "cell_type": "code",
   "execution_count": 45,
   "metadata": {},
   "outputs": [
    {
     "data": {
      "text/plain": [
       "Employed    10782\n",
       "Left        3363 \n",
       "Name: status, dtype: int64"
      ]
     },
     "execution_count": 45,
     "metadata": {},
     "output_type": "execute_result"
    }
   ],
   "source": [
    "df_final.status.value_counts()"
   ]
  },
  {
   "cell_type": "code",
   "execution_count": 46,
   "metadata": {},
   "outputs": [
    {
     "data": {
      "text/plain": [
       "<AxesSubplot:ylabel='employee_id'>"
      ]
     },
     "execution_count": 46,
     "metadata": {},
     "output_type": "execute_result"
    },
    {
     "data": {
      "image/png": "[encoded data removed]",
      "text/plain": [
       "<Figure size 360x360 with 1 Axes>"
      ]
     },
     "metadata": {},
     "output_type": "display_data"
    }
   ],
   "source": [
    "#df_emp_master.plot(kind='pie',column='status')\n",
    "space = np.ones(2)/100\n",
    "PlotData =(df_final.groupby('status').count()).employee_id\n",
    "\n",
    "PlotData.plot(kind='pie', explode=space,  fontsize=14, autopct='%3.1f%%', wedgeprops=dict(width=0.15), \n",
    "                                     shadow=True, startangle=90, figsize=(5,5), cmap='Spectral', legend=True)\n"
   ]
  },
  {
   "cell_type": "code",
   "execution_count": 47,
   "metadata": {},
   "outputs": [
    {
     "data": {
      "text/plain": [
       "<AxesSubplot:xlabel='tenure', ylabel='count'>"
      ]
     },
     "execution_count": 47,
     "metadata": {},
     "output_type": "execute_result"
    },
    {
     "data": {
      "image/png": "[encoded data removed]",
      "text/plain": [
       "<Figure size 432x288 with 1 Axes>"
      ]
     },
     "metadata": {
      "needs_background": "light"
     },
     "output_type": "display_data"
    }
   ],
   "source": [
    "#space = np.ones(2)/100\n",
    "#PlotData =(df_emp_master.groupby('tenure').count())\n",
    "#PlotData.plot(kind=\"bar\",y='employee_id')\n",
    "sns.countplot(data=df_final, x='tenure')"
   ]
  },
  {
   "cell_type": "code",
   "execution_count": 48,
   "metadata": {},
   "outputs": [
    {
     "data": {
      "text/plain": [
       "<AxesSubplot:xlabel='tenure', ylabel='count'>"
      ]
     },
     "execution_count": 48,
     "metadata": {},
     "output_type": "execute_result"
    },
    {
     "data": {
      "image/png": "[encoded data removed]",
      "text/plain": [
       "<Figure size 432x288 with 1 Axes>"
      ]
     },
     "metadata": {
      "needs_background": "light"
     },
     "output_type": "display_data"
    }
   ],
   "source": [
    "sns.countplot(data=df_final, x='tenure',  hue='status')"
   ]
  },
  {
   "cell_type": "code",
   "execution_count": 49,
   "metadata": {},
   "outputs": [],
   "source": [
    "def ShowHBarValue():\n",
    "    for p in ax.patches:\n",
    "        width = p.get_width()\n",
    "        height = p.get_height()\n",
    "        x, y = p.get_xy() \n",
    "        ax.annotate(f'{width}', (x + width*1.02, y + height/2), va='center')\n",
    "\n",
    "def ShowHBarPer():\n",
    "    totals = []\n",
    "    for i in ax.patches:\n",
    "        totals.append(i.get_width())\n",
    "    total = sum(totals)\n",
    "    for p in ax.patches:\n",
    "        width = p.get_width()\n",
    "        height = p.get_height()\n",
    "        x, y = p.get_xy() \n",
    "        ax.annotate(f'{width/total:.0%}', (x + width*1.02, y + height/2), va='center')\n",
    "        \n",
    "def ShowVBarValue():\n",
    "    for p in ax.patches:\n",
    "        width = p.get_width()\n",
    "        height = p.get_height()\n",
    "        x, y = p.get_xy() \n",
    "        ax.annotate(f'{height}', (x + width/2, y + height*1.02), ha='center')\n",
    "\n",
    "def ShowVBarPer():\n",
    "    totals = []\n",
    "    for i in ax.patches:\n",
    "        totals.append(i.get_height())\n",
    "    total = sum(totals)\n",
    "    for p in ax.patches:\n",
    "        width = p.get_width()\n",
    "        height = p.get_height()\n",
    "        x, y = p.get_xy() \n",
    "        ax.annotate(f'{height/total:.0%}', (x + width/2, (y + height*1.02) ), ha='center')"
   ]
  },
  {
   "cell_type": "code",
   "execution_count": 50,
   "metadata": {},
   "outputs": [
    {
     "data": {
      "image/png": "[encoded data removed]",
      "text/plain": [
       "<Figure size 1152x504 with 1 Axes>"
      ]
     },
     "metadata": {
      "needs_background": "light"
     },
     "output_type": "display_data"
    }
   ],
   "source": [
    "PlotData = (df_final.groupby(['dept_name','employee_id']).employee_id.count()).groupby('dept_name').count().nlargest(20)\n",
    "ax = PlotData.plot.bar(figsize=(16,7), color= list('rgbkymc') ,  fontsize=13)\n",
    "plt.xlabel('Department',fontsize=20)\n",
    "plt.ylabel('Number of employees',fontsize=20)\n",
    "plt.title('Employee spread across Department',fontsize=20)\n",
    "# ShowVBarValue()\n",
    "ShowVBarPer()\n",
    "plt.savefig('Department wise employee.png', bbox_inches='tight')"
   ]
  },
  {
   "cell_type": "code",
   "execution_count": 51,
   "metadata": {},
   "outputs": [
    {
     "data": {
      "image/png": "[encoded data removed]",
      "text/plain": [
       "<Figure size 1440x360 with 1 Axes>"
      ]
     },
     "metadata": {
      "needs_background": "light"
     },
     "output_type": "display_data"
    }
   ],
   "source": [
    "#ax = PlotData.plot.bar(figsize=(16,7), color= list('rgbkymc') ,  fontsize=13)\n",
    "\n",
    "PlotData = df_final\n",
    "fig, axis1 = plt.subplots(1,1,figsize=(20,5))\n",
    "#ax = sns.countplot(x='phone_brand', hue=\"gender\",order=PlotData.phone_brand.value_counts().iloc[:10].index, data=PlotData, ax=axis1)\n",
    "sns.countplot(data=df_final, x='dept_name',  hue='status', ax=axis1)\n",
    "plt.title(\"Department wise employee Distribution with Status\",fontsize=14)\n",
    "plt.xlabel('Department',fontsize=14)\n",
    "plt.ylabel('Employee count',fontsize=14)\n",
    "ShowVBarValue()\n",
    "plt.savefig('Figure\\BrandGenderwise.png', bbox_inches='tight')"
   ]
  },
  {
   "cell_type": "code",
   "execution_count": 52,
   "metadata": {},
   "outputs": [
    {
     "data": {
      "image/png": "[encoded data removed]",
      "text/plain": [
       "<Figure size 1440x360 with 1 Axes>"
      ]
     },
     "metadata": {
      "needs_background": "light"
     },
     "output_type": "display_data"
    }
   ],
   "source": [
    "#ax = PlotData.plot.bar(figsize=(16,7), color= list('rgbkymc') ,  fontsize=13)\n",
    "\n",
    "PlotData = df_final\n",
    "fig, axis1 = plt.subplots(1,1,figsize=(20,5))\n",
    "#ax = sns.countplot(x='phone_brand', hue=\"gender\",order=PlotData.phone_brand.value_counts().iloc[:10].index, data=PlotData, ax=axis1)\n",
    "sns.countplot(data=df_final, x='dept_name',  hue='gender', ax=axis1)\n",
    "plt.title(\"Department wise employee Distribution with Status\",fontsize=14)\n",
    "plt.xlabel('Department',fontsize=14)\n",
    "plt.ylabel('Employee count',fontsize=14)\n",
    "ShowVBarValue()\n",
    "plt.savefig('Figure\\BrandGenderwise.png', bbox_inches='tight')\n"
   ]
  },
  {
   "cell_type": "code",
   "execution_count": 53,
   "metadata": {},
   "outputs": [
    {
     "data": {
      "image/png": "[encoded data removed]",
      "text/plain": [
       "<Figure size 1440x360 with 1 Axes>"
      ]
     },
     "metadata": {
      "needs_background": "light"
     },
     "output_type": "display_data"
    }
   ],
   "source": [
    "#ax = PlotData.plot.bar(figsize=(16,7), color= list('rgbkymc') ,  fontsize=13)\n",
    "\n",
    "PlotData = df_final\n",
    "fig, axis1 = plt.subplots(1,1,figsize=(20,5))\n",
    "#ax = sns.countplot(x='phone_brand', hue=\"gender\",order=PlotData.phone_brand.value_counts().iloc[:10].index, data=PlotData, ax=axis1)\n",
    "sns.countplot(data=df_final, x='dept_name',  hue='salary', ax=axis1)\n",
    "plt.title(\"Department wise employee Distribution with Status\",fontsize=14)\n",
    "plt.xlabel('Department',fontsize=14)\n",
    "plt.ylabel('Employee count',fontsize=14)\n",
    "ShowVBarValue()\n",
    "plt.savefig('Figure\\BrandGenderwise.png', bbox_inches='tight')\n"
   ]
  },
  {
   "cell_type": "code",
   "execution_count": null,
   "metadata": {},
   "outputs": [],
   "source": []
  }
 ],
 "metadata": {
  "kernelspec": {
   "display_name": "Python 3",
   "language": "python",
   "name": "python3"
  },
  "language_info": {
   "codemirror_mode": {
    "name": "ipython",
    "version": 3
   },
   "file_extension": ".py",
   "mimetype": "text/x-python",
   "name": "python",
   "nbconvert_exporter": "python",
   "pygments_lexer": "ipython3",
   "version": "3.7.6"
  },
  "toc": {
   "base_numbering": 1,
   "nav_menu": {},
   "number_sections": true,
   "sideBar": true,
   "skip_h1_title": false,
   "title_cell": "Table of Contents",
   "title_sidebar": "Contents",
   "toc_cell": false,
   "toc_position": {},
   "toc_section_display": true,
   "toc_window_display": false
  }
 },
 "nbformat": 4,
 "nbformat_minor": 4
}
