{
 "cells": [
  {
   "cell_type": "markdown",
   "id": "e75a0910",
   "metadata": {},
   "source": [
    "<img src=\"https://github.com/insaid2018/Term-1/blob/master/Images/INSAID_Full%20Logo.png?raw=true\" width=\"240\" height=\"360\" />\n",
    "\n",
    "# Exploratory Data Analysis - CAPSTONE PROJECT \n",
    "### Team 1007"
   ]
  },
  {
   "cell_type": "markdown",
   "id": "27e844f5",
   "metadata": {},
   "source": [
    "## Table of Contents\n",
    "\n",
    "1. [Introduction and Problem Statement](#section1)<br>\n",
    "2. [Load the packages and data](#section2)<br>\n",
    "3. [Data Pre-processing](#section3)<br>\n",
    "4. [Exploratory Data Analysis](#eda)<br>\n",
    "    - 4.1 [Plots for across States](#states)<br>\n",
    "    - 4.2 [Plots for Maharashtra](#MH)<br>\n",
    "5. [Summary of observations](#summary)<br>\n",
    "6. [Conclusion](#conclusion)"
   ]
  },
  {
   "cell_type": "markdown",
   "id": "97c98ee0",
   "metadata": {},
   "source": [
    "<a id=section1></a> \n",
    "## 1. Introduction and Problem Statement\n",
    "\n",
    "**Problem Statement**"
   ]
  },
  {
   "cell_type": "markdown",
   "id": "134811b2",
   "metadata": {},
   "source": [
    "<a id=section2></a> \n",
    "## 2. Load the packages and data "
   ]
  },
  {
   "cell_type": "code",
   "execution_count": 2,
   "id": "ddb55853",
   "metadata": {},
   "outputs": [],
   "source": [
    "# !pip install mysql.connector # Commented to avoid repeated installation"
   ]
  },
  {
   "cell_type": "code",
   "execution_count": 3,
   "id": "c6529e1a",
   "metadata": {},
   "outputs": [],
   "source": [
    "import sys                                                                      # Import packages\n",
    "import pandas as pd\n",
    "import numpy as np\n",
    "import mysql.connector\n",
    "import matplotlib.pyplot as plt\n",
    "import seaborn as sns\n",
    "from matplotlib.pyplot import pie, axis, show\n",
    "%matplotlib inline                                                              \n",
    "\n",
    "import warnings                                                                 # Ignore warning related to pandas_profiling\n",
    "warnings.filterwarnings('ignore') \n",
    "\n",
    "sns.set(style='whitegrid', font_scale=1.3, color_codes=True)      # To adjust seaborn settings for the plots.\n",
    "    \n",
    "np.set_printoptions(precision=4)                    # To display values only upto four decimal places. \n",
    "pd.set_option('mode.chained_assignment', None)      # To suppress pandas warnings.\n",
    "pd.set_option('display.max_colwidth', -1)           # To display all the data in each column\n",
    "pd.options.display.max_columns = 100                 # To display every column of the dataset in head()\n",
    "\n",
    "plt.style.use('seaborn-whitegrid')                  # To apply seaborn whitegrid style to the plots.\n",
    "%matplotlib inline\n",
    "\n",
    "import pandas_profiling                      # Get a quick overview for all the variables using pandas_profiling                                         \n",
    "\n",
    "from pandas.plotting import parallel_coordinates\n",
    "\n"
   ]
  },
  {
   "cell_type": "code",
   "execution_count": 4,
   "id": "a13acad9",
   "metadata": {},
   "outputs": [],
   "source": [
    "#Establize SQL connection to fetch data for Dept, Employee Details, Employee Master Data\n",
    "def SqlConnection():\n",
    "    return mysql.connector.connect(  host=\"cpanel.insaid.co\",  user=\"student\",  password=\"student\",  database=\"Capstone2\")"
   ]
  },
  {
   "cell_type": "code",
   "execution_count": 6,
   "id": "ba6e07ec",
   "metadata": {},
   "outputs": [],
   "source": [
    "df_department = pd.read_sql('SELECT * FROM department_data', con=SqlConnection())"
   ]
  },
  {
   "cell_type": "code",
   "execution_count": 8,
   "id": "5ac4c419",
   "metadata": {},
   "outputs": [],
   "source": [
    "df_emp_det  = pd.read_sql('SELECT * FROM employee_details_data', con=SqlConnection())"
   ]
  },
  {
   "cell_type": "code",
   "execution_count": 9,
   "id": "b991aea9",
   "metadata": {},
   "outputs": [],
   "source": [
    "df_emp_master = pd.read_sql('SELECT * FROM employee_data', con=SqlConnection())"
   ]
  },
  {
   "cell_type": "code",
   "execution_count": 10,
   "id": "8f945448",
   "metadata": {},
   "outputs": [
    {
     "data": {
      "text/html": [
       "<div>\n",
       "<style scoped>\n",
       "    .dataframe tbody tr th:only-of-type {\n",
       "        vertical-align: middle;\n",
       "    }\n",
       "\n",
       "    .dataframe tbody tr th {\n",
       "        vertical-align: top;\n",
       "    }\n",
       "\n",
       "    .dataframe thead th {\n",
       "        text-align: right;\n",
       "    }\n",
       "</style>\n",
       "<table border=\"1\" class=\"dataframe\">\n",
       "  <thead>\n",
       "    <tr style=\"text-align: right;\">\n",
       "      <th></th>\n",
       "      <th>employee_id</th>\n",
       "      <th>age</th>\n",
       "      <th>gender</th>\n",
       "      <th>marital_status</th>\n",
       "    </tr>\n",
       "  </thead>\n",
       "  <tbody>\n",
       "    <tr>\n",
       "      <th>0</th>\n",
       "      <td>113558</td>\n",
       "      <td>43</td>\n",
       "      <td>Male</td>\n",
       "      <td>Married</td>\n",
       "    </tr>\n",
       "    <tr>\n",
       "      <th>1</th>\n",
       "      <td>112256</td>\n",
       "      <td>24</td>\n",
       "      <td>Female</td>\n",
       "      <td>Unmarried</td>\n",
       "    </tr>\n",
       "    <tr>\n",
       "      <th>2</th>\n",
       "      <td>112586</td>\n",
       "      <td>22</td>\n",
       "      <td>Female</td>\n",
       "      <td>Unmarried</td>\n",
       "    </tr>\n",
       "    <tr>\n",
       "      <th>3</th>\n",
       "      <td>108071</td>\n",
       "      <td>36</td>\n",
       "      <td>Male</td>\n",
       "      <td>Married</td>\n",
       "    </tr>\n",
       "    <tr>\n",
       "      <th>4</th>\n",
       "      <td>116915</td>\n",
       "      <td>38</td>\n",
       "      <td>Male</td>\n",
       "      <td>Married</td>\n",
       "    </tr>\n",
       "  </tbody>\n",
       "</table>\n",
       "</div>"
      ],
      "text/plain": [
       "   employee_id  age  gender marital_status\n",
       "0  113558       43   Male    Married      \n",
       "1  112256       24   Female  Unmarried    \n",
       "2  112586       22   Female  Unmarried    \n",
       "3  108071       36   Male    Married      \n",
       "4  116915       38   Male    Married      "
      ]
     },
     "execution_count": 10,
     "metadata": {},
     "output_type": "execute_result"
    }
   ],
   "source": [
    "df_emp_det.head()"
   ]
  },
  {
   "cell_type": "code",
   "execution_count": 11,
   "id": "90357cba",
   "metadata": {},
   "outputs": [
    {
     "data": {
      "text/html": [
       "<div>\n",
       "<style scoped>\n",
       "    .dataframe tbody tr th:only-of-type {\n",
       "        vertical-align: middle;\n",
       "    }\n",
       "\n",
       "    .dataframe tbody tr th {\n",
       "        vertical-align: top;\n",
       "    }\n",
       "\n",
       "    .dataframe thead th {\n",
       "        text-align: right;\n",
       "    }\n",
       "</style>\n",
       "<table border=\"1\" class=\"dataframe\">\n",
       "  <thead>\n",
       "    <tr style=\"text-align: right;\">\n",
       "      <th></th>\n",
       "      <th>dept_id</th>\n",
       "      <th>dept_name</th>\n",
       "      <th>dept_head</th>\n",
       "    </tr>\n",
       "  </thead>\n",
       "  <tbody>\n",
       "    <tr>\n",
       "      <th>0</th>\n",
       "      <td>D00-IT</td>\n",
       "      <td>IT</td>\n",
       "      <td>Henry Adey</td>\n",
       "    </tr>\n",
       "    <tr>\n",
       "      <th>1</th>\n",
       "      <td>D00-SS</td>\n",
       "      <td>Sales</td>\n",
       "      <td>Edward J Bayley</td>\n",
       "    </tr>\n",
       "    <tr>\n",
       "      <th>2</th>\n",
       "      <td>D00-TP</td>\n",
       "      <td>Temp</td>\n",
       "      <td>Micheal Zachrey</td>\n",
       "    </tr>\n",
       "    <tr>\n",
       "      <th>3</th>\n",
       "      <td>D00-ENG</td>\n",
       "      <td>Engineering</td>\n",
       "      <td>Sushant Raghunathan K</td>\n",
       "    </tr>\n",
       "    <tr>\n",
       "      <th>4</th>\n",
       "      <td>D00-SP</td>\n",
       "      <td>Support</td>\n",
       "      <td>Amelia Westray</td>\n",
       "    </tr>\n",
       "  </tbody>\n",
       "</table>\n",
       "</div>"
      ],
      "text/plain": [
       "   dept_id    dept_name              dept_head\n",
       "0  D00-IT   IT           Henry Adey           \n",
       "1  D00-SS   Sales        Edward J Bayley      \n",
       "2  D00-TP   Temp         Micheal Zachrey      \n",
       "3  D00-ENG  Engineering  Sushant Raghunathan K\n",
       "4  D00-SP   Support      Amelia Westray       "
      ]
     },
     "execution_count": 11,
     "metadata": {},
     "output_type": "execute_result"
    }
   ],
   "source": [
    "df_department.head()"
   ]
  },
  {
   "cell_type": "code",
   "execution_count": 13,
   "id": "2f40e841",
   "metadata": {},
   "outputs": [
    {
     "data": {
      "text/html": [
       "<div>\n",
       "<style scoped>\n",
       "    .dataframe tbody tr th:only-of-type {\n",
       "        vertical-align: middle;\n",
       "    }\n",
       "\n",
       "    .dataframe tbody tr th {\n",
       "        vertical-align: top;\n",
       "    }\n",
       "\n",
       "    .dataframe thead th {\n",
       "        text-align: right;\n",
       "    }\n",
       "</style>\n",
       "<table border=\"1\" class=\"dataframe\">\n",
       "  <thead>\n",
       "    <tr style=\"text-align: right;\">\n",
       "      <th></th>\n",
       "      <th>avg_monthly_hrs</th>\n",
       "      <th>department</th>\n",
       "      <th>filed_complaint</th>\n",
       "      <th>last_evaluation</th>\n",
       "      <th>n_projects</th>\n",
       "      <th>recently_promoted</th>\n",
       "      <th>salary</th>\n",
       "      <th>satisfaction</th>\n",
       "      <th>status</th>\n",
       "      <th>tenure</th>\n",
       "      <th>employee_id</th>\n",
       "    </tr>\n",
       "  </thead>\n",
       "  <tbody>\n",
       "    <tr>\n",
       "      <th>0</th>\n",
       "      <td>246.0</td>\n",
       "      <td>None</td>\n",
       "      <td>NaN</td>\n",
       "      <td>0.866838</td>\n",
       "      <td>6</td>\n",
       "      <td>NaN</td>\n",
       "      <td>medium</td>\n",
       "      <td>0.134415</td>\n",
       "      <td>Left</td>\n",
       "      <td>4.0</td>\n",
       "      <td>124467</td>\n",
       "    </tr>\n",
       "    <tr>\n",
       "      <th>1</th>\n",
       "      <td>134.0</td>\n",
       "      <td>None</td>\n",
       "      <td>NaN</td>\n",
       "      <td>0.555718</td>\n",
       "      <td>2</td>\n",
       "      <td>NaN</td>\n",
       "      <td>low</td>\n",
       "      <td>0.511041</td>\n",
       "      <td>Left</td>\n",
       "      <td>3.0</td>\n",
       "      <td>112210</td>\n",
       "    </tr>\n",
       "    <tr>\n",
       "      <th>2</th>\n",
       "      <td>156.0</td>\n",
       "      <td>D00-SS</td>\n",
       "      <td>1.0</td>\n",
       "      <td>0.474082</td>\n",
       "      <td>2</td>\n",
       "      <td>NaN</td>\n",
       "      <td>medium</td>\n",
       "      <td>0.405101</td>\n",
       "      <td>Left</td>\n",
       "      <td>3.0</td>\n",
       "      <td>126150</td>\n",
       "    </tr>\n",
       "    <tr>\n",
       "      <th>3</th>\n",
       "      <td>256.0</td>\n",
       "      <td>D00-SP</td>\n",
       "      <td>NaN</td>\n",
       "      <td>0.961360</td>\n",
       "      <td>6</td>\n",
       "      <td>NaN</td>\n",
       "      <td>low</td>\n",
       "      <td>0.152974</td>\n",
       "      <td>Left</td>\n",
       "      <td>4.0</td>\n",
       "      <td>125346</td>\n",
       "    </tr>\n",
       "    <tr>\n",
       "      <th>4</th>\n",
       "      <td>146.0</td>\n",
       "      <td>D00-SS</td>\n",
       "      <td>NaN</td>\n",
       "      <td>0.507349</td>\n",
       "      <td>2</td>\n",
       "      <td>NaN</td>\n",
       "      <td>medium</td>\n",
       "      <td>0.434845</td>\n",
       "      <td>Left</td>\n",
       "      <td>3.0</td>\n",
       "      <td>113707</td>\n",
       "    </tr>\n",
       "  </tbody>\n",
       "</table>\n",
       "</div>"
      ],
      "text/plain": [
       "   avg_monthly_hrs department  filed_complaint  last_evaluation  n_projects  \\\n",
       "0  246.0            None      NaN               0.866838         6            \n",
       "1  134.0            None      NaN               0.555718         2            \n",
       "2  156.0            D00-SS     1.0              0.474082         2            \n",
       "3  256.0            D00-SP    NaN               0.961360         6            \n",
       "4  146.0            D00-SS    NaN               0.507349         2            \n",
       "\n",
       "   recently_promoted  salary  satisfaction status  tenure  employee_id  \n",
       "0 NaN                 medium  0.134415      Left   4.0     124467       \n",
       "1 NaN                 low     0.511041      Left   3.0     112210       \n",
       "2 NaN                 medium  0.405101      Left   3.0     126150       \n",
       "3 NaN                 low     0.152974      Left   4.0     125346       \n",
       "4 NaN                 medium  0.434845      Left   3.0     113707       "
      ]
     },
     "execution_count": 13,
     "metadata": {},
     "output_type": "execute_result"
    }
   ],
   "source": [
    "df_emp_master.head()"
   ]
  },
  {
   "cell_type": "code",
   "execution_count": 14,
   "id": "86d68364",
   "metadata": {},
   "outputs": [],
   "source": [
    "def missing_data(df):\n",
    "    total = df.isnull().sum().sort_values(ascending = False)\n",
    "    percent = (df.isnull().sum()/df.isnull().count()*100).sort_values(ascending = False)\n",
    "    return pd.concat([total, percent], axis=1, keys=['Total', 'Percent'])"
   ]
  },
  {
   "cell_type": "code",
   "execution_count": 15,
   "id": "df8547c0",
   "metadata": {},
   "outputs": [],
   "source": [
    "def analyze_df(df):\n",
    "    print(df.shape)\n",
    "    print(\"----------------------- Shape --------------------------------------------\")\n",
    "    print(df.info(null_counts=True))\n",
    "    print(\"----------------------- Describe -----------------------------------------\")\n",
    "    print(df.describe())\n",
    "    print(\"----------------------- Missing Data -------------------------------------\")\n",
    "    print(missing_data(df))\n",
    "    return(df.head())"
   ]
  },
  {
   "cell_type": "code",
   "execution_count": 16,
   "id": "d41ba15a",
   "metadata": {},
   "outputs": [
    {
     "name": "stdout",
     "output_type": "stream",
     "text": [
      "(14245, 4)\n",
      "----------------------- Shape --------------------------------------------\n",
      "<class 'pandas.core.frame.DataFrame'>\n",
      "RangeIndex: 14245 entries, 0 to 14244\n",
      "Data columns (total 4 columns):\n",
      " #   Column          Non-Null Count  Dtype \n",
      "---  ------          --------------  ----- \n",
      " 0   employee_id     14245 non-null  int64 \n",
      " 1   age             14245 non-null  int64 \n",
      " 2   gender          14245 non-null  object\n",
      " 3   marital_status  14245 non-null  object\n",
      "dtypes: int64(2), object(2)\n",
      "memory usage: 445.3+ KB\n",
      "None\n",
      "----------------------- Describe -----------------------------------------\n",
      "         employee_id           age\n",
      "count  14245.000000   14245.000000\n",
      "mean   112123.050544  32.889926   \n",
      "std    8500.457343    9.970834    \n",
      "min    100101.000000  22.000000   \n",
      "25%    105775.000000  24.000000   \n",
      "50%    111298.000000  29.000000   \n",
      "75%    116658.000000  41.000000   \n",
      "max    148988.000000  57.000000   \n",
      "----------------------- Missing Data -------------------------------------\n",
      "                Total  Percent\n",
      "employee_id     0      0.0    \n",
      "age             0      0.0    \n",
      "gender          0      0.0    \n",
      "marital_status  0      0.0    \n"
     ]
    },
    {
     "data": {
      "text/html": [
       "<div>\n",
       "<style scoped>\n",
       "    .dataframe tbody tr th:only-of-type {\n",
       "        vertical-align: middle;\n",
       "    }\n",
       "\n",
       "    .dataframe tbody tr th {\n",
       "        vertical-align: top;\n",
       "    }\n",
       "\n",
       "    .dataframe thead th {\n",
       "        text-align: right;\n",
       "    }\n",
       "</style>\n",
       "<table border=\"1\" class=\"dataframe\">\n",
       "  <thead>\n",
       "    <tr style=\"text-align: right;\">\n",
       "      <th></th>\n",
       "      <th>employee_id</th>\n",
       "      <th>age</th>\n",
       "      <th>gender</th>\n",
       "      <th>marital_status</th>\n",
       "    </tr>\n",
       "  </thead>\n",
       "  <tbody>\n",
       "    <tr>\n",
       "      <th>0</th>\n",
       "      <td>113558</td>\n",
       "      <td>43</td>\n",
       "      <td>Male</td>\n",
       "      <td>Married</td>\n",
       "    </tr>\n",
       "    <tr>\n",
       "      <th>1</th>\n",
       "      <td>112256</td>\n",
       "      <td>24</td>\n",
       "      <td>Female</td>\n",
       "      <td>Unmarried</td>\n",
       "    </tr>\n",
       "    <tr>\n",
       "      <th>2</th>\n",
       "      <td>112586</td>\n",
       "      <td>22</td>\n",
       "      <td>Female</td>\n",
       "      <td>Unmarried</td>\n",
       "    </tr>\n",
       "    <tr>\n",
       "      <th>3</th>\n",
       "      <td>108071</td>\n",
       "      <td>36</td>\n",
       "      <td>Male</td>\n",
       "      <td>Married</td>\n",
       "    </tr>\n",
       "    <tr>\n",
       "      <th>4</th>\n",
       "      <td>116915</td>\n",
       "      <td>38</td>\n",
       "      <td>Male</td>\n",
       "      <td>Married</td>\n",
       "    </tr>\n",
       "  </tbody>\n",
       "</table>\n",
       "</div>"
      ],
      "text/plain": [
       "   employee_id  age  gender marital_status\n",
       "0  113558       43   Male    Married      \n",
       "1  112256       24   Female  Unmarried    \n",
       "2  112586       22   Female  Unmarried    \n",
       "3  108071       36   Male    Married      \n",
       "4  116915       38   Male    Married      "
      ]
     },
     "execution_count": 16,
     "metadata": {},
     "output_type": "execute_result"
    }
   ],
   "source": [
    "analyze_df(df_emp_det)"
   ]
  },
  {
   "cell_type": "code",
   "execution_count": 17,
   "id": "e65c5ac8",
   "metadata": {},
   "outputs": [
    {
     "name": "stdout",
     "output_type": "stream",
     "text": [
      "(14150, 11)\n",
      "----------------------- Shape --------------------------------------------\n",
      "<class 'pandas.core.frame.DataFrame'>\n",
      "RangeIndex: 14150 entries, 0 to 14149\n",
      "Data columns (total 11 columns):\n",
      " #   Column             Non-Null Count  Dtype  \n",
      "---  ------             --------------  -----  \n",
      " 0   avg_monthly_hrs    14150 non-null  float64\n",
      " 1   department         13443 non-null  object \n",
      " 2   filed_complaint    2046 non-null   float64\n",
      " 3   last_evaluation    12663 non-null  float64\n",
      " 4   n_projects         14150 non-null  int64  \n",
      " 5   recently_promoted  297 non-null    float64\n",
      " 6   salary             14150 non-null  object \n",
      " 7   satisfaction       14000 non-null  float64\n",
      " 8   status             14150 non-null  object \n",
      " 9   tenure             14000 non-null  float64\n",
      " 10  employee_id        14150 non-null  int64  \n",
      "dtypes: float64(6), int64(2), object(3)\n",
      "memory usage: 1.2+ MB\n",
      "None\n",
      "----------------------- Describe -----------------------------------------\n",
      "       avg_monthly_hrs  filed_complaint  last_evaluation    n_projects  \\\n",
      "count  14150.000000     2046.0           12663.000000     14150.000000   \n",
      "mean   199.994346       1.0              0.718399         3.778304       \n",
      "std    50.833697        0.0              0.173108         1.250162       \n",
      "min    49.000000        1.0              0.316175         1.000000       \n",
      "25%    155.000000       1.0              0.563711         3.000000       \n",
      "50%    199.000000       1.0              0.724731         4.000000       \n",
      "75%    245.000000       1.0              0.871409         5.000000       \n",
      "max    310.000000       1.0              1.000000         7.000000       \n",
      "\n",
      "       recently_promoted  satisfaction        tenure    employee_id  \n",
      "count  297.0              14000.000000  14000.000000  14150.000000   \n",
      "mean   1.0                0.621212      3.499357      112080.750247  \n",
      "std    0.0                0.250482      1.462584      8748.202856    \n",
      "min    1.0                0.040058      2.000000      0.000000       \n",
      "25%    1.0                0.450356      3.000000      105772.500000  \n",
      "50%    1.0                0.652394      3.000000      111291.500000  \n",
      "75%    1.0                0.824925      4.000000      116650.750000  \n",
      "max    1.0                1.000000      10.000000     148988.000000  \n",
      "----------------------- Missing Data -------------------------------------\n",
      "                   Total    Percent\n",
      "recently_promoted  13853  97.901060\n",
      "filed_complaint    12104  85.540636\n",
      "last_evaluation    1487   10.508834\n",
      "department         707    4.996466 \n",
      "satisfaction       150    1.060071 \n",
      "tenure             150    1.060071 \n",
      "avg_monthly_hrs    0      0.000000 \n",
      "n_projects         0      0.000000 \n",
      "salary             0      0.000000 \n",
      "status             0      0.000000 \n",
      "employee_id        0      0.000000 \n"
     ]
    },
    {
     "data": {
      "text/html": [
       "<div>\n",
       "<style scoped>\n",
       "    .dataframe tbody tr th:only-of-type {\n",
       "        vertical-align: middle;\n",
       "    }\n",
       "\n",
       "    .dataframe tbody tr th {\n",
       "        vertical-align: top;\n",
       "    }\n",
       "\n",
       "    .dataframe thead th {\n",
       "        text-align: right;\n",
       "    }\n",
       "</style>\n",
       "<table border=\"1\" class=\"dataframe\">\n",
       "  <thead>\n",
       "    <tr style=\"text-align: right;\">\n",
       "      <th></th>\n",
       "      <th>avg_monthly_hrs</th>\n",
       "      <th>department</th>\n",
       "      <th>filed_complaint</th>\n",
       "      <th>last_evaluation</th>\n",
       "      <th>n_projects</th>\n",
       "      <th>recently_promoted</th>\n",
       "      <th>salary</th>\n",
       "      <th>satisfaction</th>\n",
       "      <th>status</th>\n",
       "      <th>tenure</th>\n",
       "      <th>employee_id</th>\n",
       "    </tr>\n",
       "  </thead>\n",
       "  <tbody>\n",
       "    <tr>\n",
       "      <th>0</th>\n",
       "      <td>246.0</td>\n",
       "      <td>None</td>\n",
       "      <td>NaN</td>\n",
       "      <td>0.866838</td>\n",
       "      <td>6</td>\n",
       "      <td>NaN</td>\n",
       "      <td>medium</td>\n",
       "      <td>0.134415</td>\n",
       "      <td>Left</td>\n",
       "      <td>4.0</td>\n",
       "      <td>124467</td>\n",
       "    </tr>\n",
       "    <tr>\n",
       "      <th>1</th>\n",
       "      <td>134.0</td>\n",
       "      <td>None</td>\n",
       "      <td>NaN</td>\n",
       "      <td>0.555718</td>\n",
       "      <td>2</td>\n",
       "      <td>NaN</td>\n",
       "      <td>low</td>\n",
       "      <td>0.511041</td>\n",
       "      <td>Left</td>\n",
       "      <td>3.0</td>\n",
       "      <td>112210</td>\n",
       "    </tr>\n",
       "    <tr>\n",
       "      <th>2</th>\n",
       "      <td>156.0</td>\n",
       "      <td>D00-SS</td>\n",
       "      <td>1.0</td>\n",
       "      <td>0.474082</td>\n",
       "      <td>2</td>\n",
       "      <td>NaN</td>\n",
       "      <td>medium</td>\n",
       "      <td>0.405101</td>\n",
       "      <td>Left</td>\n",
       "      <td>3.0</td>\n",
       "      <td>126150</td>\n",
       "    </tr>\n",
       "    <tr>\n",
       "      <th>3</th>\n",
       "      <td>256.0</td>\n",
       "      <td>D00-SP</td>\n",
       "      <td>NaN</td>\n",
       "      <td>0.961360</td>\n",
       "      <td>6</td>\n",
       "      <td>NaN</td>\n",
       "      <td>low</td>\n",
       "      <td>0.152974</td>\n",
       "      <td>Left</td>\n",
       "      <td>4.0</td>\n",
       "      <td>125346</td>\n",
       "    </tr>\n",
       "    <tr>\n",
       "      <th>4</th>\n",
       "      <td>146.0</td>\n",
       "      <td>D00-SS</td>\n",
       "      <td>NaN</td>\n",
       "      <td>0.507349</td>\n",
       "      <td>2</td>\n",
       "      <td>NaN</td>\n",
       "      <td>medium</td>\n",
       "      <td>0.434845</td>\n",
       "      <td>Left</td>\n",
       "      <td>3.0</td>\n",
       "      <td>113707</td>\n",
       "    </tr>\n",
       "  </tbody>\n",
       "</table>\n",
       "</div>"
      ],
      "text/plain": [
       "   avg_monthly_hrs department  filed_complaint  last_evaluation  n_projects  \\\n",
       "0  246.0            None      NaN               0.866838         6            \n",
       "1  134.0            None      NaN               0.555718         2            \n",
       "2  156.0            D00-SS     1.0              0.474082         2            \n",
       "3  256.0            D00-SP    NaN               0.961360         6            \n",
       "4  146.0            D00-SS    NaN               0.507349         2            \n",
       "\n",
       "   recently_promoted  salary  satisfaction status  tenure  employee_id  \n",
       "0 NaN                 medium  0.134415      Left   4.0     124467       \n",
       "1 NaN                 low     0.511041      Left   3.0     112210       \n",
       "2 NaN                 medium  0.405101      Left   3.0     126150       \n",
       "3 NaN                 low     0.152974      Left   4.0     125346       \n",
       "4 NaN                 medium  0.434845      Left   3.0     113707       "
      ]
     },
     "execution_count": 17,
     "metadata": {},
     "output_type": "execute_result"
    }
   ],
   "source": [
    "analyze_df(df_emp_master)"
   ]
  },
  {
   "cell_type": "code",
   "execution_count": 18,
   "id": "bacfa017",
   "metadata": {},
   "outputs": [
    {
     "data": {
      "text/plain": [
       "Employed    10784\n",
       "Left        3366 \n",
       "Name: status, dtype: int64"
      ]
     },
     "execution_count": 18,
     "metadata": {},
     "output_type": "execute_result"
    }
   ],
   "source": [
    "df_emp_master.status.value_counts() # Pie chart"
   ]
  },
  {
   "cell_type": "code",
   "execution_count": 19,
   "id": "cdc942bc",
   "metadata": {},
   "outputs": [
    {
     "data": {
      "text/plain": [
       "1.000000    358\n",
       "0.940863    3  \n",
       "0.896246    3  \n",
       "0.505883    3  \n",
       "0.645563    2  \n",
       "           ..  \n",
       "0.551225    1  \n",
       "0.561198    1  \n",
       "0.673404    1  \n",
       "0.695355    1  \n",
       "0.947309    1  \n",
       "Name: last_evaluation, Length: 12188, dtype: int64"
      ]
     },
     "execution_count": 19,
     "metadata": {},
     "output_type": "execute_result"
    }
   ],
   "source": [
    "df_emp_master.last_evaluation.value_counts() # histogram"
   ]
  },
  {
   "cell_type": "code",
   "execution_count": 20,
   "id": "48000a21",
   "metadata": {},
   "outputs": [
    {
     "data": {
      "text/plain": [
       "D00-SS     3905\n",
       "D00-ENG    2575\n",
       "D00-SP     2113\n",
       "D00-IT     1157\n",
       "D00-PD     855 \n",
       "D00-MT     815 \n",
       "D00-FN     725 \n",
       "NaN        707 \n",
       "D00-MN     593 \n",
       "-IT        207 \n",
       "D00-AD     175 \n",
       "D00-PR     173 \n",
       "D00-TP     150 \n",
       "Name: department, dtype: int64"
      ]
     },
     "execution_count": 20,
     "metadata": {},
     "output_type": "execute_result"
    }
   ],
   "source": [
    "df_emp_master.department.value_counts(dropna=False)"
   ]
  },
  {
   "cell_type": "code",
   "execution_count": 21,
   "id": "b1e4a477",
   "metadata": {},
   "outputs": [],
   "source": [
    "#207 Departments are -IT which is not a valid Dept ID. Change to D00-IT\n",
    "df_emp_master.department.replace(\"-IT\", \"D00-IT\", inplace=True)"
   ]
  },
  {
   "cell_type": "code",
   "execution_count": 22,
   "id": "f2e5b22a",
   "metadata": {},
   "outputs": [
    {
     "data": {
      "text/plain": [
       "D00-SS     3905\n",
       "D00-ENG    2575\n",
       "D00-SP     2113\n",
       "D00-IT     1364\n",
       "D00-PD     855 \n",
       "D00-MT     815 \n",
       "D00-FN     725 \n",
       "NaN        707 \n",
       "D00-MN     593 \n",
       "D00-AD     175 \n",
       "D00-PR     173 \n",
       "D00-TP     150 \n",
       "Name: department, dtype: int64"
      ]
     },
     "execution_count": 22,
     "metadata": {},
     "output_type": "execute_result"
    }
   ],
   "source": [
    "df_emp_master.department.value_counts(dropna=False)"
   ]
  },
  {
   "cell_type": "code",
   "execution_count": 23,
   "id": "f09cad1e",
   "metadata": {},
   "outputs": [],
   "source": [
    "df_new={'dept_id': 'D00-OTH'  , 'dept_name': 'Others', 'dept_head':'Other'}\n",
    "df_department=df_department.append(df_new,ignore_index=True)"
   ]
  },
  {
   "cell_type": "code",
   "execution_count": 24,
   "id": "16937cf2",
   "metadata": {},
   "outputs": [
    {
     "data": {
      "text/html": [
       "<div>\n",
       "<style scoped>\n",
       "    .dataframe tbody tr th:only-of-type {\n",
       "        vertical-align: middle;\n",
       "    }\n",
       "\n",
       "    .dataframe tbody tr th {\n",
       "        vertical-align: top;\n",
       "    }\n",
       "\n",
       "    .dataframe thead th {\n",
       "        text-align: right;\n",
       "    }\n",
       "</style>\n",
       "<table border=\"1\" class=\"dataframe\">\n",
       "  <thead>\n",
       "    <tr style=\"text-align: right;\">\n",
       "      <th></th>\n",
       "      <th>dept_id</th>\n",
       "      <th>dept_name</th>\n",
       "      <th>dept_head</th>\n",
       "    </tr>\n",
       "  </thead>\n",
       "  <tbody>\n",
       "    <tr>\n",
       "      <th>0</th>\n",
       "      <td>D00-IT</td>\n",
       "      <td>IT</td>\n",
       "      <td>Henry Adey</td>\n",
       "    </tr>\n",
       "    <tr>\n",
       "      <th>1</th>\n",
       "      <td>D00-SS</td>\n",
       "      <td>Sales</td>\n",
       "      <td>Edward J Bayley</td>\n",
       "    </tr>\n",
       "    <tr>\n",
       "      <th>2</th>\n",
       "      <td>D00-TP</td>\n",
       "      <td>Temp</td>\n",
       "      <td>Micheal Zachrey</td>\n",
       "    </tr>\n",
       "    <tr>\n",
       "      <th>3</th>\n",
       "      <td>D00-ENG</td>\n",
       "      <td>Engineering</td>\n",
       "      <td>Sushant Raghunathan K</td>\n",
       "    </tr>\n",
       "    <tr>\n",
       "      <th>4</th>\n",
       "      <td>D00-SP</td>\n",
       "      <td>Support</td>\n",
       "      <td>Amelia Westray</td>\n",
       "    </tr>\n",
       "    <tr>\n",
       "      <th>5</th>\n",
       "      <td>D00-FN</td>\n",
       "      <td>Finance</td>\n",
       "      <td>Aanchal J</td>\n",
       "    </tr>\n",
       "    <tr>\n",
       "      <th>6</th>\n",
       "      <td>D00-PR</td>\n",
       "      <td>Procurement</td>\n",
       "      <td>Louie Viles</td>\n",
       "    </tr>\n",
       "    <tr>\n",
       "      <th>7</th>\n",
       "      <td>D00-AD</td>\n",
       "      <td>Admin</td>\n",
       "      <td>Evelyn Tolson</td>\n",
       "    </tr>\n",
       "    <tr>\n",
       "      <th>8</th>\n",
       "      <td>D00-MN</td>\n",
       "      <td>Management</td>\n",
       "      <td>Ellie Trafton</td>\n",
       "    </tr>\n",
       "    <tr>\n",
       "      <th>9</th>\n",
       "      <td>D00-MT</td>\n",
       "      <td>Marketing</td>\n",
       "      <td>Reuben Swann</td>\n",
       "    </tr>\n",
       "    <tr>\n",
       "      <th>10</th>\n",
       "      <td>D00-PD</td>\n",
       "      <td>Product</td>\n",
       "      <td>Darcy Staines</td>\n",
       "    </tr>\n",
       "    <tr>\n",
       "      <th>11</th>\n",
       "      <td>D00-OTH</td>\n",
       "      <td>Others</td>\n",
       "      <td>Other</td>\n",
       "    </tr>\n",
       "  </tbody>\n",
       "</table>\n",
       "</div>"
      ],
      "text/plain": [
       "    dept_id    dept_name              dept_head\n",
       "0   D00-IT   IT           Henry Adey           \n",
       "1   D00-SS   Sales        Edward J Bayley      \n",
       "2   D00-TP   Temp         Micheal Zachrey      \n",
       "3   D00-ENG  Engineering  Sushant Raghunathan K\n",
       "4   D00-SP   Support      Amelia Westray       \n",
       "5   D00-FN   Finance      Aanchal J            \n",
       "6   D00-PR   Procurement  Louie Viles          \n",
       "7   D00-AD   Admin        Evelyn Tolson        \n",
       "8   D00-MN   Management   Ellie Trafton        \n",
       "9   D00-MT   Marketing    Reuben Swann         \n",
       "10  D00-PD   Product      Darcy Staines        \n",
       "11  D00-OTH  Others       Other                "
      ]
     },
     "execution_count": 24,
     "metadata": {},
     "output_type": "execute_result"
    }
   ],
   "source": [
    "df_department"
   ]
  },
  {
   "cell_type": "code",
   "execution_count": 25,
   "id": "eb662cf8",
   "metadata": {},
   "outputs": [],
   "source": [
    "# Alternative way to add new department\n",
    "# df_department.loc[len(df_department.index)] = ['D00-OTH', 'Others', 'Other']"
   ]
  },
  {
   "cell_type": "code",
   "execution_count": 26,
   "id": "cd825f31",
   "metadata": {},
   "outputs": [
    {
     "data": {
      "text/plain": [
       "D00-SS     3905\n",
       "D00-ENG    2575\n",
       "D00-SP     2113\n",
       "D00-IT     1364\n",
       "D00-PD     855 \n",
       "D00-MT     815 \n",
       "D00-FN     725 \n",
       "NaN        707 \n",
       "D00-MN     593 \n",
       "D00-AD     175 \n",
       "D00-PR     173 \n",
       "D00-TP     150 \n",
       "Name: department, dtype: int64"
      ]
     },
     "execution_count": 26,
     "metadata": {},
     "output_type": "execute_result"
    }
   ],
   "source": [
    "df_emp_master.department.value_counts(dropna=False)"
   ]
  },
  {
   "cell_type": "code",
   "execution_count": 27,
   "id": "a5a52f27",
   "metadata": {},
   "outputs": [],
   "source": [
    "#707 Departments are null. These deparment should be classified as 'Unknown or Others' & \n",
    "#used for analysis, since there are employees of status as below:\n",
    "#Employed    502\n",
    "#Left        205\n",
    "\n",
    "df_emp_master.department.fillna('D00-OTH', inplace=True)\n"
   ]
  },
  {
   "cell_type": "code",
   "execution_count": 28,
   "id": "f265186b",
   "metadata": {
    "scrolled": true
   },
   "outputs": [
    {
     "data": {
      "text/plain": [
       "D00-SS     3905\n",
       "D00-ENG    2575\n",
       "D00-SP     2113\n",
       "D00-IT     1364\n",
       "D00-PD     855 \n",
       "D00-MT     815 \n",
       "D00-FN     725 \n",
       "D00-OTH    707 \n",
       "D00-MN     593 \n",
       "D00-AD     175 \n",
       "D00-PR     173 \n",
       "D00-TP     150 \n",
       "Name: department, dtype: int64"
      ]
     },
     "execution_count": 28,
     "metadata": {},
     "output_type": "execute_result"
    }
   ],
   "source": [
    "df_emp_master.department.value_counts(dropna=False)"
   ]
  },
  {
   "cell_type": "code",
   "execution_count": 29,
   "id": "44e1d280",
   "metadata": {},
   "outputs": [
    {
     "data": {
      "text/plain": [
       "3.0     6018\n",
       "2.0     3023\n",
       "4.0     2394\n",
       "5.0     1369\n",
       "6.0     660 \n",
       "10.0    201 \n",
       "7.0     180 \n",
       "8.0     155 \n",
       "NaN     150 \n",
       "Name: tenure, dtype: int64"
      ]
     },
     "execution_count": 29,
     "metadata": {},
     "output_type": "execute_result"
    }
   ],
   "source": [
    "# Checking nulls in tenure\n",
    "\n",
    "df_emp_master.tenure.value_counts(dropna=False)"
   ]
  },
  {
   "cell_type": "code",
   "execution_count": 30,
   "id": "783a18d6",
   "metadata": {},
   "outputs": [],
   "source": [
    "# There are 150 Null records for tenure\n",
    "# Replace null with median\n",
    "df_emp_master['tenure'] = df_emp_master['tenure'].replace({np.nan: getattr(df_emp_master['tenure'], 'median')(),})"
   ]
  },
  {
   "cell_type": "code",
   "execution_count": 31,
   "id": "ed7ad993",
   "metadata": {},
   "outputs": [
    {
     "data": {
      "text/plain": [
       "3.0     6168\n",
       "2.0     3023\n",
       "4.0     2394\n",
       "5.0     1369\n",
       "6.0     660 \n",
       "10.0    201 \n",
       "7.0     180 \n",
       "8.0     155 \n",
       "Name: tenure, dtype: int64"
      ]
     },
     "execution_count": 31,
     "metadata": {},
     "output_type": "execute_result"
    }
   ],
   "source": [
    "df_emp_master.tenure.value_counts(dropna=False)"
   ]
  },
  {
   "cell_type": "code",
   "execution_count": 32,
   "id": "600a9636",
   "metadata": {},
   "outputs": [
    {
     "data": {
      "text/plain": [
       "array([ 4.,  3.,  5.,  6.,  2., 10.,  7.,  8.])"
      ]
     },
     "execution_count": 32,
     "metadata": {},
     "output_type": "execute_result"
    }
   ],
   "source": [
    "df_emp_master.tenure.unique()"
   ]
  },
  {
   "cell_type": "code",
   "execution_count": 33,
   "id": "bf3d08bd",
   "metadata": {},
   "outputs": [
    {
     "data": {
      "text/plain": [
       "1.000000    357\n",
       "NaN         150\n",
       "0.481001    3  \n",
       "0.783548    2  \n",
       "0.844769    2  \n",
       "           ..  \n",
       "0.796433    1  \n",
       "0.687016    1  \n",
       "0.609661    1  \n",
       "0.981732    1  \n",
       "0.831547    1  \n",
       "Name: satisfaction, Length: 13498, dtype: int64"
      ]
     },
     "execution_count": 33,
     "metadata": {},
     "output_type": "execute_result"
    }
   ],
   "source": [
    "df_emp_master.satisfaction.value_counts(dropna=False)"
   ]
  },
  {
   "cell_type": "code",
   "execution_count": 46,
   "id": "17d58a77",
   "metadata": {},
   "outputs": [
    {
     "data": {
      "text/plain": [
       "<AxesSubplot:ylabel='Frequency'>"
      ]
     },
     "execution_count": 46,
     "metadata": {},
     "output_type": "execute_result"
    },
    {
     "data": {
      "image/png": "[encoded data removed]",
      "text/plain": [
       "<Figure size 432x288 with 1 Axes>"
      ]
     },
     "metadata": {
      "needs_background": "light"
     },
     "output_type": "display_data"
    }
   ],
   "source": [
    "import matplotlib.pyplot as plt\n",
    "%matplotlib inline\n",
    "\n",
    "df_emp_master.satisfaction.plot(kind='hist')\n"
   ]
  },
  {
   "cell_type": "code",
   "execution_count": 47,
   "id": "3aaf2c2d",
   "metadata": {},
   "outputs": [],
   "source": [
    "# There are 150 reocrds with NULL values for Satisfaction column\n",
    "# impute with mean\n",
    "\n",
    "df_emp_master['satisfaction'] = df_emp_master['satisfaction'].replace({np.nan: getattr(df_emp_master['satisfaction'], 'mean')(),})"
   ]
  },
  {
   "cell_type": "code",
   "execution_count": 49,
   "id": "8804aa8c",
   "metadata": {},
   "outputs": [
    {
     "data": {
      "text/plain": [
       "1.000000    357\n",
       "0.621212    150\n",
       "0.481001    3  \n",
       "0.832118    2  \n",
       "0.904372    2  \n",
       "           ..  \n",
       "0.687016    1  \n",
       "0.609661    1  \n",
       "0.981732    1  \n",
       "0.620342    1  \n",
       "0.831547    1  \n",
       "Name: satisfaction, Length: 13498, dtype: int64"
      ]
     },
     "execution_count": 49,
     "metadata": {},
     "output_type": "execute_result"
    }
   ],
   "source": [
    "df_emp_master.satisfaction.value_counts(dropna=False)"
   ]
  },
  {
   "cell_type": "code",
   "execution_count": 53,
   "id": "9f7ed806",
   "metadata": {},
   "outputs": [
    {
     "name": "stdout",
     "output_type": "stream",
     "text": [
      "NaN    12104\n",
      "1.0    2046 \n",
      "Name: filed_complaint, dtype: int64\n",
      "NaN    13853\n",
      "1.0    297  \n",
      "Name: recently_promoted, dtype: int64\n"
     ]
    }
   ],
   "source": [
    "print(df_emp_master.filed_complaint.value_counts(dropna=False))\n",
    "print(df_emp_master.recently_promoted.value_counts(dropna=False))"
   ]
  },
  {
   "cell_type": "code",
   "execution_count": 54,
   "id": "68a54749",
   "metadata": {},
   "outputs": [],
   "source": [
    "# Replacing null with 0\n",
    "df_emp_master.filed_complaint.fillna(0, inplace=True)\n",
    "df_emp_master.recently_promoted.fillna(0, inplace=True)"
   ]
  },
  {
   "cell_type": "code",
   "execution_count": 55,
   "id": "8de40aca",
   "metadata": {},
   "outputs": [
    {
     "name": "stdout",
     "output_type": "stream",
     "text": [
      "0.0    12104\n",
      "1.0    2046 \n",
      "Name: filed_complaint, dtype: int64\n",
      "0.0    13853\n",
      "1.0    297  \n",
      "Name: recently_promoted, dtype: int64\n"
     ]
    }
   ],
   "source": [
    "print(df_emp_master.filed_complaint.value_counts(dropna=False))\n",
    "print(df_emp_master.recently_promoted.value_counts(dropna=False))"
   ]
  },
  {
   "cell_type": "code",
   "execution_count": 58,
   "id": "ede9e5d7",
   "metadata": {},
   "outputs": [
    {
     "data": {
      "text/html": [
       "<div>\n",
       "<style scoped>\n",
       "    .dataframe tbody tr th:only-of-type {\n",
       "        vertical-align: middle;\n",
       "    }\n",
       "\n",
       "    .dataframe tbody tr th {\n",
       "        vertical-align: top;\n",
       "    }\n",
       "\n",
       "    .dataframe thead th {\n",
       "        text-align: right;\n",
       "    }\n",
       "</style>\n",
       "<table border=\"1\" class=\"dataframe\">\n",
       "  <thead>\n",
       "    <tr style=\"text-align: right;\">\n",
       "      <th></th>\n",
       "      <th>avg_monthly_hrs</th>\n",
       "      <th>department</th>\n",
       "      <th>filed_complaint</th>\n",
       "      <th>last_evaluation</th>\n",
       "      <th>n_projects</th>\n",
       "      <th>recently_promoted</th>\n",
       "      <th>salary</th>\n",
       "      <th>satisfaction</th>\n",
       "      <th>status</th>\n",
       "      <th>tenure</th>\n",
       "      <th>employee_id</th>\n",
       "    </tr>\n",
       "  </thead>\n",
       "  <tbody>\n",
       "    <tr>\n",
       "      <th>34</th>\n",
       "      <td>284.0</td>\n",
       "      <td>D00-SS</td>\n",
       "      <td>0.0</td>\n",
       "      <td>0.852702</td>\n",
       "      <td>6</td>\n",
       "      <td>0.0</td>\n",
       "      <td>low</td>\n",
       "      <td>0.069168</td>\n",
       "      <td>Left</td>\n",
       "      <td>4.0</td>\n",
       "      <td>0</td>\n",
       "    </tr>\n",
       "    <tr>\n",
       "      <th>304</th>\n",
       "      <td>264.0</td>\n",
       "      <td>D00-ENG</td>\n",
       "      <td>0.0</td>\n",
       "      <td>0.774554</td>\n",
       "      <td>6</td>\n",
       "      <td>0.0</td>\n",
       "      <td>low</td>\n",
       "      <td>0.110974</td>\n",
       "      <td>Left</td>\n",
       "      <td>4.0</td>\n",
       "      <td>0</td>\n",
       "    </tr>\n",
       "    <tr>\n",
       "      <th>1234</th>\n",
       "      <td>129.0</td>\n",
       "      <td>D00-SP</td>\n",
       "      <td>0.0</td>\n",
       "      <td>0.402660</td>\n",
       "      <td>2</td>\n",
       "      <td>0.0</td>\n",
       "      <td>medium</td>\n",
       "      <td>0.437359</td>\n",
       "      <td>Left</td>\n",
       "      <td>3.0</td>\n",
       "      <td>0</td>\n",
       "    </tr>\n",
       "    <tr>\n",
       "      <th>11304</th>\n",
       "      <td>167.0</td>\n",
       "      <td>D00-OTH</td>\n",
       "      <td>0.0</td>\n",
       "      <td>0.880053</td>\n",
       "      <td>5</td>\n",
       "      <td>0.0</td>\n",
       "      <td>low</td>\n",
       "      <td>0.682140</td>\n",
       "      <td>Employed</td>\n",
       "      <td>3.0</td>\n",
       "      <td>0</td>\n",
       "    </tr>\n",
       "    <tr>\n",
       "      <th>12304</th>\n",
       "      <td>259.0</td>\n",
       "      <td>D00-ENG</td>\n",
       "      <td>0.0</td>\n",
       "      <td>0.505883</td>\n",
       "      <td>5</td>\n",
       "      <td>0.0</td>\n",
       "      <td>low</td>\n",
       "      <td>0.631046</td>\n",
       "      <td>Employed</td>\n",
       "      <td>4.0</td>\n",
       "      <td>0</td>\n",
       "    </tr>\n",
       "  </tbody>\n",
       "</table>\n",
       "</div>"
      ],
      "text/plain": [
       "       avg_monthly_hrs department  filed_complaint  last_evaluation  \\\n",
       "34     284.0            D00-SS     0.0              0.852702          \n",
       "304    264.0            D00-ENG    0.0              0.774554          \n",
       "1234   129.0            D00-SP     0.0              0.402660          \n",
       "11304  167.0            D00-OTH    0.0              0.880053          \n",
       "12304  259.0            D00-ENG    0.0              0.505883          \n",
       "\n",
       "       n_projects  recently_promoted  salary  satisfaction    status  tenure  \\\n",
       "34     6           0.0                low     0.069168      Left      4.0      \n",
       "304    6           0.0                low     0.110974      Left      4.0      \n",
       "1234   2           0.0                medium  0.437359      Left      3.0      \n",
       "11304  5           0.0                low     0.682140      Employed  3.0      \n",
       "12304  5           0.0                low     0.631046      Employed  4.0      \n",
       "\n",
       "       employee_id  \n",
       "34     0            \n",
       "304    0            \n",
       "1234   0            \n",
       "11304  0            \n",
       "12304  0            "
      ]
     },
     "execution_count": 58,
     "metadata": {},
     "output_type": "execute_result"
    }
   ],
   "source": [
    "df_emp_master[df_emp_master.employee_id == 0]"
   ]
  },
  {
   "cell_type": "code",
   "execution_count": 60,
   "id": "9d980d3b",
   "metadata": {},
   "outputs": [
    {
     "data": {
      "text/plain": [
       "(14150, 11)"
      ]
     },
     "execution_count": 60,
     "metadata": {},
     "output_type": "execute_result"
    }
   ],
   "source": [
    "df_emp_master.shape"
   ]
  },
  {
   "cell_type": "code",
   "execution_count": 61,
   "id": "6b8aa61b",
   "metadata": {},
   "outputs": [
    {
     "data": {
      "text/html": [
       "<div>\n",
       "<style scoped>\n",
       "    .dataframe tbody tr th:only-of-type {\n",
       "        vertical-align: middle;\n",
       "    }\n",
       "\n",
       "    .dataframe tbody tr th {\n",
       "        vertical-align: top;\n",
       "    }\n",
       "\n",
       "    .dataframe thead th {\n",
       "        text-align: right;\n",
       "    }\n",
       "</style>\n",
       "<table border=\"1\" class=\"dataframe\">\n",
       "  <thead>\n",
       "    <tr style=\"text-align: right;\">\n",
       "      <th></th>\n",
       "      <th>avg_monthly_hrs</th>\n",
       "      <th>department</th>\n",
       "      <th>filed_complaint</th>\n",
       "      <th>last_evaluation</th>\n",
       "      <th>n_projects</th>\n",
       "      <th>recently_promoted</th>\n",
       "      <th>salary</th>\n",
       "      <th>satisfaction</th>\n",
       "      <th>status</th>\n",
       "      <th>tenure</th>\n",
       "      <th>employee_id</th>\n",
       "    </tr>\n",
       "  </thead>\n",
       "  <tbody>\n",
       "    <tr>\n",
       "      <th>0</th>\n",
       "      <td>246.0</td>\n",
       "      <td>D00-OTH</td>\n",
       "      <td>0.0</td>\n",
       "      <td>0.866838</td>\n",
       "      <td>6</td>\n",
       "      <td>0.0</td>\n",
       "      <td>medium</td>\n",
       "      <td>0.134415</td>\n",
       "      <td>Left</td>\n",
       "      <td>4.0</td>\n",
       "      <td>124467</td>\n",
       "    </tr>\n",
       "    <tr>\n",
       "      <th>1</th>\n",
       "      <td>134.0</td>\n",
       "      <td>D00-OTH</td>\n",
       "      <td>0.0</td>\n",
       "      <td>0.555718</td>\n",
       "      <td>2</td>\n",
       "      <td>0.0</td>\n",
       "      <td>low</td>\n",
       "      <td>0.511041</td>\n",
       "      <td>Left</td>\n",
       "      <td>3.0</td>\n",
       "      <td>112210</td>\n",
       "    </tr>\n",
       "    <tr>\n",
       "      <th>2</th>\n",
       "      <td>156.0</td>\n",
       "      <td>D00-SS</td>\n",
       "      <td>1.0</td>\n",
       "      <td>0.474082</td>\n",
       "      <td>2</td>\n",
       "      <td>0.0</td>\n",
       "      <td>medium</td>\n",
       "      <td>0.405101</td>\n",
       "      <td>Left</td>\n",
       "      <td>3.0</td>\n",
       "      <td>126150</td>\n",
       "    </tr>\n",
       "    <tr>\n",
       "      <th>3</th>\n",
       "      <td>256.0</td>\n",
       "      <td>D00-SP</td>\n",
       "      <td>0.0</td>\n",
       "      <td>0.961360</td>\n",
       "      <td>6</td>\n",
       "      <td>0.0</td>\n",
       "      <td>low</td>\n",
       "      <td>0.152974</td>\n",
       "      <td>Left</td>\n",
       "      <td>4.0</td>\n",
       "      <td>125346</td>\n",
       "    </tr>\n",
       "    <tr>\n",
       "      <th>4</th>\n",
       "      <td>146.0</td>\n",
       "      <td>D00-SS</td>\n",
       "      <td>0.0</td>\n",
       "      <td>0.507349</td>\n",
       "      <td>2</td>\n",
       "      <td>0.0</td>\n",
       "      <td>medium</td>\n",
       "      <td>0.434845</td>\n",
       "      <td>Left</td>\n",
       "      <td>3.0</td>\n",
       "      <td>113707</td>\n",
       "    </tr>\n",
       "    <tr>\n",
       "      <th>...</th>\n",
       "      <td>...</td>\n",
       "      <td>...</td>\n",
       "      <td>...</td>\n",
       "      <td>...</td>\n",
       "      <td>...</td>\n",
       "      <td>...</td>\n",
       "      <td>...</td>\n",
       "      <td>...</td>\n",
       "      <td>...</td>\n",
       "      <td>...</td>\n",
       "      <td>...</td>\n",
       "    </tr>\n",
       "    <tr>\n",
       "      <th>14145</th>\n",
       "      <td>245.0</td>\n",
       "      <td>D00-SS</td>\n",
       "      <td>0.0</td>\n",
       "      <td>0.850785</td>\n",
       "      <td>6</td>\n",
       "      <td>0.0</td>\n",
       "      <td>medium</td>\n",
       "      <td>0.225084</td>\n",
       "      <td>Employed</td>\n",
       "      <td>5.0</td>\n",
       "      <td>101809</td>\n",
       "    </tr>\n",
       "    <tr>\n",
       "      <th>14146</th>\n",
       "      <td>192.0</td>\n",
       "      <td>D00-SS</td>\n",
       "      <td>0.0</td>\n",
       "      <td>0.951901</td>\n",
       "      <td>3</td>\n",
       "      <td>0.0</td>\n",
       "      <td>medium</td>\n",
       "      <td>0.539834</td>\n",
       "      <td>Employed</td>\n",
       "      <td>3.0</td>\n",
       "      <td>116153</td>\n",
       "    </tr>\n",
       "    <tr>\n",
       "      <th>14147</th>\n",
       "      <td>175.0</td>\n",
       "      <td>D00-MN</td>\n",
       "      <td>0.0</td>\n",
       "      <td>0.854538</td>\n",
       "      <td>4</td>\n",
       "      <td>0.0</td>\n",
       "      <td>medium</td>\n",
       "      <td>0.934465</td>\n",
       "      <td>Employed</td>\n",
       "      <td>3.0</td>\n",
       "      <td>119780</td>\n",
       "    </tr>\n",
       "    <tr>\n",
       "      <th>14148</th>\n",
       "      <td>268.0</td>\n",
       "      <td>D00-MT</td>\n",
       "      <td>0.0</td>\n",
       "      <td>0.900887</td>\n",
       "      <td>5</td>\n",
       "      <td>0.0</td>\n",
       "      <td>medium</td>\n",
       "      <td>0.906613</td>\n",
       "      <td>Left</td>\n",
       "      <td>5.0</td>\n",
       "      <td>115325</td>\n",
       "    </tr>\n",
       "    <tr>\n",
       "      <th>14149</th>\n",
       "      <td>268.0</td>\n",
       "      <td>D00-IT</td>\n",
       "      <td>1.0</td>\n",
       "      <td>0.897098</td>\n",
       "      <td>2</td>\n",
       "      <td>0.0</td>\n",
       "      <td>low</td>\n",
       "      <td>0.459371</td>\n",
       "      <td>Employed</td>\n",
       "      <td>4.0</td>\n",
       "      <td>112312</td>\n",
       "    </tr>\n",
       "  </tbody>\n",
       "</table>\n",
       "<p>14145 rows × 11 columns</p>\n",
       "</div>"
      ],
      "text/plain": [
       "       avg_monthly_hrs department  filed_complaint  last_evaluation  \\\n",
       "0      246.0            D00-OTH    0.0              0.866838          \n",
       "1      134.0            D00-OTH    0.0              0.555718          \n",
       "2      156.0            D00-SS     1.0              0.474082          \n",
       "3      256.0            D00-SP     0.0              0.961360          \n",
       "4      146.0            D00-SS     0.0              0.507349          \n",
       "...      ...               ...     ...                   ...          \n",
       "14145  245.0            D00-SS     0.0              0.850785          \n",
       "14146  192.0            D00-SS     0.0              0.951901          \n",
       "14147  175.0            D00-MN     0.0              0.854538          \n",
       "14148  268.0            D00-MT     0.0              0.900887          \n",
       "14149  268.0            D00-IT     1.0              0.897098          \n",
       "\n",
       "       n_projects  recently_promoted  salary  satisfaction    status  tenure  \\\n",
       "0      6           0.0                medium  0.134415      Left      4.0      \n",
       "1      2           0.0                low     0.511041      Left      3.0      \n",
       "2      2           0.0                medium  0.405101      Left      3.0      \n",
       "3      6           0.0                low     0.152974      Left      4.0      \n",
       "4      2           0.0                medium  0.434845      Left      3.0      \n",
       "...   ..           ...                   ...       ...       ...      ...      \n",
       "14145  6           0.0                medium  0.225084      Employed  5.0      \n",
       "14146  3           0.0                medium  0.539834      Employed  3.0      \n",
       "14147  4           0.0                medium  0.934465      Employed  3.0      \n",
       "14148  5           0.0                medium  0.906613      Left      5.0      \n",
       "14149  2           0.0                low     0.459371      Employed  4.0      \n",
       "\n",
       "       employee_id  \n",
       "0      124467       \n",
       "1      112210       \n",
       "2      126150       \n",
       "3      125346       \n",
       "4      113707       \n",
       "...       ...       \n",
       "14145  101809       \n",
       "14146  116153       \n",
       "14147  119780       \n",
       "14148  115325       \n",
       "14149  112312       \n",
       "\n",
       "[14145 rows x 11 columns]"
      ]
     },
     "execution_count": 61,
     "metadata": {},
     "output_type": "execute_result"
    }
   ],
   "source": [
    "df_emp_master.loc[(df_emp_master['employee_id']!=0) & (df_emp_master['department']!=None)]"
   ]
  },
  {
   "cell_type": "code",
   "execution_count": 63,
   "id": "7c9f4561",
   "metadata": {},
   "outputs": [
    {
     "data": {
      "text/html": [
       "<div>\n",
       "<style scoped>\n",
       "    .dataframe tbody tr th:only-of-type {\n",
       "        vertical-align: middle;\n",
       "    }\n",
       "\n",
       "    .dataframe tbody tr th {\n",
       "        vertical-align: top;\n",
       "    }\n",
       "\n",
       "    .dataframe thead th {\n",
       "        text-align: right;\n",
       "    }\n",
       "</style>\n",
       "<table border=\"1\" class=\"dataframe\">\n",
       "  <thead>\n",
       "    <tr style=\"text-align: right;\">\n",
       "      <th></th>\n",
       "      <th>avg_monthly_hrs</th>\n",
       "      <th>department</th>\n",
       "      <th>filed_complaint</th>\n",
       "      <th>last_evaluation</th>\n",
       "      <th>n_projects</th>\n",
       "      <th>recently_promoted</th>\n",
       "      <th>salary</th>\n",
       "      <th>satisfaction</th>\n",
       "      <th>status</th>\n",
       "      <th>tenure</th>\n",
       "      <th>employee_id</th>\n",
       "    </tr>\n",
       "  </thead>\n",
       "  <tbody>\n",
       "    <tr>\n",
       "      <th>34</th>\n",
       "      <td>284.0</td>\n",
       "      <td>D00-SS</td>\n",
       "      <td>0.0</td>\n",
       "      <td>0.852702</td>\n",
       "      <td>6</td>\n",
       "      <td>0.0</td>\n",
       "      <td>low</td>\n",
       "      <td>0.069168</td>\n",
       "      <td>Left</td>\n",
       "      <td>4.0</td>\n",
       "      <td>0</td>\n",
       "    </tr>\n",
       "    <tr>\n",
       "      <th>304</th>\n",
       "      <td>264.0</td>\n",
       "      <td>D00-ENG</td>\n",
       "      <td>0.0</td>\n",
       "      <td>0.774554</td>\n",
       "      <td>6</td>\n",
       "      <td>0.0</td>\n",
       "      <td>low</td>\n",
       "      <td>0.110974</td>\n",
       "      <td>Left</td>\n",
       "      <td>4.0</td>\n",
       "      <td>0</td>\n",
       "    </tr>\n",
       "    <tr>\n",
       "      <th>1234</th>\n",
       "      <td>129.0</td>\n",
       "      <td>D00-SP</td>\n",
       "      <td>0.0</td>\n",
       "      <td>0.402660</td>\n",
       "      <td>2</td>\n",
       "      <td>0.0</td>\n",
       "      <td>medium</td>\n",
       "      <td>0.437359</td>\n",
       "      <td>Left</td>\n",
       "      <td>3.0</td>\n",
       "      <td>0</td>\n",
       "    </tr>\n",
       "    <tr>\n",
       "      <th>11304</th>\n",
       "      <td>167.0</td>\n",
       "      <td>D00-OTH</td>\n",
       "      <td>0.0</td>\n",
       "      <td>0.880053</td>\n",
       "      <td>5</td>\n",
       "      <td>0.0</td>\n",
       "      <td>low</td>\n",
       "      <td>0.682140</td>\n",
       "      <td>Employed</td>\n",
       "      <td>3.0</td>\n",
       "      <td>0</td>\n",
       "    </tr>\n",
       "    <tr>\n",
       "      <th>12304</th>\n",
       "      <td>259.0</td>\n",
       "      <td>D00-ENG</td>\n",
       "      <td>0.0</td>\n",
       "      <td>0.505883</td>\n",
       "      <td>5</td>\n",
       "      <td>0.0</td>\n",
       "      <td>low</td>\n",
       "      <td>0.631046</td>\n",
       "      <td>Employed</td>\n",
       "      <td>4.0</td>\n",
       "      <td>0</td>\n",
       "    </tr>\n",
       "  </tbody>\n",
       "</table>\n",
       "</div>"
      ],
      "text/plain": [
       "       avg_monthly_hrs department  filed_complaint  last_evaluation  \\\n",
       "34     284.0            D00-SS     0.0              0.852702          \n",
       "304    264.0            D00-ENG    0.0              0.774554          \n",
       "1234   129.0            D00-SP     0.0              0.402660          \n",
       "11304  167.0            D00-OTH    0.0              0.880053          \n",
       "12304  259.0            D00-ENG    0.0              0.505883          \n",
       "\n",
       "       n_projects  recently_promoted  salary  satisfaction    status  tenure  \\\n",
       "34     6           0.0                low     0.069168      Left      4.0      \n",
       "304    6           0.0                low     0.110974      Left      4.0      \n",
       "1234   2           0.0                medium  0.437359      Left      3.0      \n",
       "11304  5           0.0                low     0.682140      Employed  3.0      \n",
       "12304  5           0.0                low     0.631046      Employed  4.0      \n",
       "\n",
       "       employee_id  \n",
       "34     0            \n",
       "304    0            \n",
       "1234   0            \n",
       "11304  0            \n",
       "12304  0            "
      ]
     },
     "execution_count": 63,
     "metadata": {},
     "output_type": "execute_result"
    }
   ],
   "source": [
    "df_emp_master.loc[(df_emp_master['employee_id']==0) ]"
   ]
  },
  {
   "cell_type": "code",
   "execution_count": 64,
   "id": "0641515f",
   "metadata": {},
   "outputs": [],
   "source": [
    "# Missing values\n",
    "df_emp_master.last_evaluation.fillna(0, inplace=True)"
   ]
  },
  {
   "cell_type": "markdown",
   "id": "5825ab13",
   "metadata": {},
   "source": [
    "## Denormalize the Data - Merging Datasets"
   ]
  },
  {
   "cell_type": "code",
   "execution_count": 66,
   "id": "f6e7f527",
   "metadata": {},
   "outputs": [
    {
     "data": {
      "text/plain": [
       "Index(['department', 'dept_name', 'dept_head'], dtype='object')"
      ]
     },
     "execution_count": 66,
     "metadata": {},
     "output_type": "execute_result"
    }
   ],
   "source": [
    "# Columns in department table and employee details dataset has different names for department id\n",
    "# So column name should be renamed to join the tables\n",
    "\n",
    "df_department=df_department.rename(columns={'dept_id':'department'})\n",
    "df_department.columns"
   ]
  },
  {
   "cell_type": "code",
   "execution_count": 68,
   "id": "61087e65",
   "metadata": {},
   "outputs": [],
   "source": [
    "df_final = df_emp_master.merge(df_emp_det,on='employee_id', how='left')"
   ]
  },
  {
   "cell_type": "code",
   "execution_count": 69,
   "id": "f9d0314f",
   "metadata": {},
   "outputs": [
    {
     "data": {
      "text/html": [
       "<div>\n",
       "<style scoped>\n",
       "    .dataframe tbody tr th:only-of-type {\n",
       "        vertical-align: middle;\n",
       "    }\n",
       "\n",
       "    .dataframe tbody tr th {\n",
       "        vertical-align: top;\n",
       "    }\n",
       "\n",
       "    .dataframe thead th {\n",
       "        text-align: right;\n",
       "    }\n",
       "</style>\n",
       "<table border=\"1\" class=\"dataframe\">\n",
       "  <thead>\n",
       "    <tr style=\"text-align: right;\">\n",
       "      <th></th>\n",
       "      <th>avg_monthly_hrs</th>\n",
       "      <th>department</th>\n",
       "      <th>filed_complaint</th>\n",
       "      <th>last_evaluation</th>\n",
       "      <th>n_projects</th>\n",
       "      <th>recently_promoted</th>\n",
       "      <th>salary</th>\n",
       "      <th>satisfaction</th>\n",
       "      <th>status</th>\n",
       "      <th>tenure</th>\n",
       "      <th>employee_id</th>\n",
       "      <th>age</th>\n",
       "      <th>gender</th>\n",
       "      <th>marital_status</th>\n",
       "    </tr>\n",
       "  </thead>\n",
       "  <tbody>\n",
       "    <tr>\n",
       "      <th>0</th>\n",
       "      <td>246.0</td>\n",
       "      <td>D00-OTH</td>\n",
       "      <td>0.0</td>\n",
       "      <td>0.866838</td>\n",
       "      <td>6</td>\n",
       "      <td>0.0</td>\n",
       "      <td>medium</td>\n",
       "      <td>0.134415</td>\n",
       "      <td>Left</td>\n",
       "      <td>4.0</td>\n",
       "      <td>124467</td>\n",
       "      <td>42.0</td>\n",
       "      <td>Female</td>\n",
       "      <td>Married</td>\n",
       "    </tr>\n",
       "    <tr>\n",
       "      <th>1</th>\n",
       "      <td>134.0</td>\n",
       "      <td>D00-OTH</td>\n",
       "      <td>0.0</td>\n",
       "      <td>0.555718</td>\n",
       "      <td>2</td>\n",
       "      <td>0.0</td>\n",
       "      <td>low</td>\n",
       "      <td>0.511041</td>\n",
       "      <td>Left</td>\n",
       "      <td>3.0</td>\n",
       "      <td>112210</td>\n",
       "      <td>23.0</td>\n",
       "      <td>Female</td>\n",
       "      <td>Unmarried</td>\n",
       "    </tr>\n",
       "    <tr>\n",
       "      <th>2</th>\n",
       "      <td>156.0</td>\n",
       "      <td>D00-SS</td>\n",
       "      <td>1.0</td>\n",
       "      <td>0.474082</td>\n",
       "      <td>2</td>\n",
       "      <td>0.0</td>\n",
       "      <td>medium</td>\n",
       "      <td>0.405101</td>\n",
       "      <td>Left</td>\n",
       "      <td>3.0</td>\n",
       "      <td>126150</td>\n",
       "      <td>24.0</td>\n",
       "      <td>Female</td>\n",
       "      <td>Unmarried</td>\n",
       "    </tr>\n",
       "    <tr>\n",
       "      <th>3</th>\n",
       "      <td>256.0</td>\n",
       "      <td>D00-SP</td>\n",
       "      <td>0.0</td>\n",
       "      <td>0.961360</td>\n",
       "      <td>6</td>\n",
       "      <td>0.0</td>\n",
       "      <td>low</td>\n",
       "      <td>0.152974</td>\n",
       "      <td>Left</td>\n",
       "      <td>4.0</td>\n",
       "      <td>125346</td>\n",
       "      <td>51.0</td>\n",
       "      <td>Female</td>\n",
       "      <td>Married</td>\n",
       "    </tr>\n",
       "    <tr>\n",
       "      <th>4</th>\n",
       "      <td>146.0</td>\n",
       "      <td>D00-SS</td>\n",
       "      <td>0.0</td>\n",
       "      <td>0.507349</td>\n",
       "      <td>2</td>\n",
       "      <td>0.0</td>\n",
       "      <td>medium</td>\n",
       "      <td>0.434845</td>\n",
       "      <td>Left</td>\n",
       "      <td>3.0</td>\n",
       "      <td>113707</td>\n",
       "      <td>23.0</td>\n",
       "      <td>Female</td>\n",
       "      <td>Unmarried</td>\n",
       "    </tr>\n",
       "  </tbody>\n",
       "</table>\n",
       "</div>"
      ],
      "text/plain": [
       "   avg_monthly_hrs department  filed_complaint  last_evaluation  n_projects  \\\n",
       "0  246.0            D00-OTH    0.0              0.866838         6            \n",
       "1  134.0            D00-OTH    0.0              0.555718         2            \n",
       "2  156.0            D00-SS     1.0              0.474082         2            \n",
       "3  256.0            D00-SP     0.0              0.961360         6            \n",
       "4  146.0            D00-SS     0.0              0.507349         2            \n",
       "\n",
       "   recently_promoted  salary  satisfaction status  tenure  employee_id   age  \\\n",
       "0  0.0                medium  0.134415      Left   4.0     124467       42.0   \n",
       "1  0.0                low     0.511041      Left   3.0     112210       23.0   \n",
       "2  0.0                medium  0.405101      Left   3.0     126150       24.0   \n",
       "3  0.0                low     0.152974      Left   4.0     125346       51.0   \n",
       "4  0.0                medium  0.434845      Left   3.0     113707       23.0   \n",
       "\n",
       "   gender marital_status  \n",
       "0  Female  Married        \n",
       "1  Female  Unmarried      \n",
       "2  Female  Unmarried      \n",
       "3  Female  Married        \n",
       "4  Female  Unmarried      "
      ]
     },
     "execution_count": 69,
     "metadata": {},
     "output_type": "execute_result"
    }
   ],
   "source": [
    "df_final.head()"
   ]
  },
  {
   "cell_type": "code",
   "execution_count": 73,
   "id": "700972c8",
   "metadata": {},
   "outputs": [
    {
     "data": {
      "text/plain": [
       "(14121, 14)"
      ]
     },
     "execution_count": 73,
     "metadata": {},
     "output_type": "execute_result"
    }
   ],
   "source": [
    "df_final[df_final.duplicated() == False].shape"
   ]
  },
  {
   "cell_type": "code",
   "execution_count": 74,
   "id": "3d86e035",
   "metadata": {},
   "outputs": [],
   "source": [
    "df_final =  df_final.merge(df_department, on='department', how='left')"
   ]
  },
  {
   "cell_type": "code",
   "execution_count": 75,
   "id": "b3061863",
   "metadata": {},
   "outputs": [
    {
     "data": {
      "text/plain": [
       "(14150, 16)"
      ]
     },
     "execution_count": 75,
     "metadata": {},
     "output_type": "execute_result"
    }
   ],
   "source": [
    "df_final.shape"
   ]
  },
  {
   "cell_type": "code",
   "execution_count": 76,
   "id": "d3461fab",
   "metadata": {},
   "outputs": [],
   "source": [
    "# Removed data with employeeid = 0\n",
    "df_final.drop(df_final[df_final['employee_id'] == 0].index, inplace=True)"
   ]
  },
  {
   "cell_type": "code",
   "execution_count": 77,
   "id": "51b6a4a7",
   "metadata": {},
   "outputs": [
    {
     "data": {
      "text/plain": [
       "(14145, 16)"
      ]
     },
     "execution_count": 77,
     "metadata": {},
     "output_type": "execute_result"
    }
   ],
   "source": [
    "df_final.shape"
   ]
  },
  {
   "cell_type": "code",
   "execution_count": 78,
   "id": "c5d7efc0",
   "metadata": {},
   "outputs": [
    {
     "data": {
      "text/plain": [
       "(29, 16)"
      ]
     },
     "execution_count": 78,
     "metadata": {},
     "output_type": "execute_result"
    }
   ],
   "source": [
    "df_final[df_final.duplicated() == True].shape"
   ]
  },
  {
   "cell_type": "code",
   "execution_count": 96,
   "id": "a4dd5445",
   "metadata": {},
   "outputs": [],
   "source": [
    "df_final.drop_duplicates(inplace = True)"
   ]
  },
  {
   "cell_type": "code",
   "execution_count": 97,
   "id": "8a439e62",
   "metadata": {},
   "outputs": [],
   "source": [
    "df_final['last_evaluation_missing']= df_final.last_evaluation.isnull().astype(int)"
   ]
  },
  {
   "cell_type": "code",
   "execution_count": 98,
   "id": "a409b319",
   "metadata": {},
   "outputs": [
    {
     "data": {
      "text/plain": [
       "(14116, 17)"
      ]
     },
     "execution_count": 98,
     "metadata": {},
     "output_type": "execute_result"
    }
   ],
   "source": [
    "df_final.shape"
   ]
  },
  {
   "cell_type": "code",
   "execution_count": 99,
   "id": "26d8c58d",
   "metadata": {},
   "outputs": [
    {
     "name": "stdout",
     "output_type": "stream",
     "text": [
      "(14116, 17)\n",
      "----------------------- Shape --------------------------------------------\n",
      "<class 'pandas.core.frame.DataFrame'>\n",
      "Int64Index: 14116 entries, 0 to 14120\n",
      "Data columns (total 17 columns):\n",
      " #   Column                   Non-Null Count  Dtype  \n",
      "---  ------                   --------------  -----  \n",
      " 0   avg_monthly_hrs          14116 non-null  float64\n",
      " 1   department               14116 non-null  object \n",
      " 2   filed_complaint          14116 non-null  float64\n",
      " 3   last_evaluation          14116 non-null  float64\n",
      " 4   n_projects               14116 non-null  int64  \n",
      " 5   recently_promoted        14116 non-null  float64\n",
      " 6   salary                   14116 non-null  object \n",
      " 7   satisfaction             14116 non-null  float64\n",
      " 8   status                   14116 non-null  object \n",
      " 9   tenure                   14116 non-null  float64\n",
      " 10  employee_id              14116 non-null  int64  \n",
      " 11  age                      14116 non-null  float64\n",
      " 12  gender                   14116 non-null  object \n",
      " 13  marital_status           14116 non-null  object \n",
      " 14  dept_name                14116 non-null  object \n",
      " 15  dept_head                14116 non-null  object \n",
      " 16  last_evaluation_missing  14116 non-null  int32  \n",
      "dtypes: float64(7), int32(1), int64(2), object(7)\n",
      "memory usage: 1.9+ MB\n",
      "None\n",
      "----------------------- Describe -----------------------------------------\n",
      "       avg_monthly_hrs  filed_complaint  last_evaluation    n_projects  \\\n",
      "count  14116.000000     14116.000000     14116.000000     14116.000000   \n",
      "mean   199.992632       0.144588         0.642653         3.777770       \n",
      "std    50.826952        0.351697         0.274645         1.249693       \n",
      "min    49.000000        0.000000         0.000000         1.000000       \n",
      "25%    155.000000       0.000000         0.522018         3.000000       \n",
      "50%    199.000000       0.000000         0.683402         4.000000       \n",
      "75%    245.000000       0.000000         0.856854         5.000000       \n",
      "max    310.000000       1.000000         1.000000         7.000000       \n",
      "\n",
      "       recently_promoted  satisfaction        tenure    employee_id  \\\n",
      "count  14116.000000       14116.000000  14116.000000  14116.000000    \n",
      "mean   0.021040           0.621321      3.492420      112120.657764   \n",
      "std    0.143523           0.249126      1.453548      8497.639403     \n",
      "min    0.000000           0.040058      2.000000      100101.000000   \n",
      "25%    0.000000           0.452826      3.000000      105773.500000   \n",
      "50%    0.000000           0.648350      3.000000      111293.500000   \n",
      "75%    0.000000           0.822960      4.000000      116655.250000   \n",
      "max    1.000000           1.000000      10.000000     148988.000000   \n",
      "\n",
      "                age  last_evaluation_missing  \n",
      "count  14116.000000  14116.0                  \n",
      "mean   32.896005     0.0                      \n",
      "std    9.975000      0.0                      \n",
      "min    22.000000     0.0                      \n",
      "25%    24.000000     0.0                      \n",
      "50%    29.000000     0.0                      \n",
      "75%    41.000000     0.0                      \n",
      "max    57.000000     0.0                      \n",
      "----------------------- Missing Data -------------------------------------\n",
      "                         Total  Percent\n",
      "avg_monthly_hrs          0      0.0    \n",
      "tenure                   0      0.0    \n",
      "dept_head                0      0.0    \n",
      "dept_name                0      0.0    \n",
      "marital_status           0      0.0    \n",
      "gender                   0      0.0    \n",
      "age                      0      0.0    \n",
      "employee_id              0      0.0    \n",
      "status                   0      0.0    \n",
      "department               0      0.0    \n",
      "satisfaction             0      0.0    \n",
      "salary                   0      0.0    \n",
      "recently_promoted        0      0.0    \n",
      "n_projects               0      0.0    \n",
      "last_evaluation          0      0.0    \n",
      "filed_complaint          0      0.0    \n",
      "last_evaluation_missing  0      0.0    \n"
     ]
    },
    {
     "data": {
      "text/html": [
       "<div>\n",
       "<style scoped>\n",
       "    .dataframe tbody tr th:only-of-type {\n",
       "        vertical-align: middle;\n",
       "    }\n",
       "\n",
       "    .dataframe tbody tr th {\n",
       "        vertical-align: top;\n",
       "    }\n",
       "\n",
       "    .dataframe thead th {\n",
       "        text-align: right;\n",
       "    }\n",
       "</style>\n",
       "<table border=\"1\" class=\"dataframe\">\n",
       "  <thead>\n",
       "    <tr style=\"text-align: right;\">\n",
       "      <th></th>\n",
       "      <th>avg_monthly_hrs</th>\n",
       "      <th>department</th>\n",
       "      <th>filed_complaint</th>\n",
       "      <th>last_evaluation</th>\n",
       "      <th>n_projects</th>\n",
       "      <th>recently_promoted</th>\n",
       "      <th>salary</th>\n",
       "      <th>satisfaction</th>\n",
       "      <th>status</th>\n",
       "      <th>tenure</th>\n",
       "      <th>employee_id</th>\n",
       "      <th>age</th>\n",
       "      <th>gender</th>\n",
       "      <th>marital_status</th>\n",
       "      <th>dept_name</th>\n",
       "      <th>dept_head</th>\n",
       "      <th>last_evaluation_missing</th>\n",
       "    </tr>\n",
       "  </thead>\n",
       "  <tbody>\n",
       "    <tr>\n",
       "      <th>0</th>\n",
       "      <td>246.0</td>\n",
       "      <td>D00-OTH</td>\n",
       "      <td>0.0</td>\n",
       "      <td>0.866838</td>\n",
       "      <td>6</td>\n",
       "      <td>0.0</td>\n",
       "      <td>medium</td>\n",
       "      <td>0.134415</td>\n",
       "      <td>Left</td>\n",
       "      <td>4.0</td>\n",
       "      <td>124467</td>\n",
       "      <td>42.0</td>\n",
       "      <td>Female</td>\n",
       "      <td>Married</td>\n",
       "      <td>Others</td>\n",
       "      <td>Other</td>\n",
       "      <td>0</td>\n",
       "    </tr>\n",
       "    <tr>\n",
       "      <th>1</th>\n",
       "      <td>134.0</td>\n",
       "      <td>D00-OTH</td>\n",
       "      <td>0.0</td>\n",
       "      <td>0.555718</td>\n",
       "      <td>2</td>\n",
       "      <td>0.0</td>\n",
       "      <td>low</td>\n",
       "      <td>0.511041</td>\n",
       "      <td>Left</td>\n",
       "      <td>3.0</td>\n",
       "      <td>112210</td>\n",
       "      <td>23.0</td>\n",
       "      <td>Female</td>\n",
       "      <td>Unmarried</td>\n",
       "      <td>Others</td>\n",
       "      <td>Other</td>\n",
       "      <td>0</td>\n",
       "    </tr>\n",
       "    <tr>\n",
       "      <th>2</th>\n",
       "      <td>156.0</td>\n",
       "      <td>D00-SS</td>\n",
       "      <td>1.0</td>\n",
       "      <td>0.474082</td>\n",
       "      <td>2</td>\n",
       "      <td>0.0</td>\n",
       "      <td>medium</td>\n",
       "      <td>0.405101</td>\n",
       "      <td>Left</td>\n",
       "      <td>3.0</td>\n",
       "      <td>126150</td>\n",
       "      <td>24.0</td>\n",
       "      <td>Female</td>\n",
       "      <td>Unmarried</td>\n",
       "      <td>Sales</td>\n",
       "      <td>Edward J Bayley</td>\n",
       "      <td>0</td>\n",
       "    </tr>\n",
       "    <tr>\n",
       "      <th>3</th>\n",
       "      <td>256.0</td>\n",
       "      <td>D00-SP</td>\n",
       "      <td>0.0</td>\n",
       "      <td>0.961360</td>\n",
       "      <td>6</td>\n",
       "      <td>0.0</td>\n",
       "      <td>low</td>\n",
       "      <td>0.152974</td>\n",
       "      <td>Left</td>\n",
       "      <td>4.0</td>\n",
       "      <td>125346</td>\n",
       "      <td>51.0</td>\n",
       "      <td>Female</td>\n",
       "      <td>Married</td>\n",
       "      <td>Support</td>\n",
       "      <td>Amelia Westray</td>\n",
       "      <td>0</td>\n",
       "    </tr>\n",
       "    <tr>\n",
       "      <th>4</th>\n",
       "      <td>146.0</td>\n",
       "      <td>D00-SS</td>\n",
       "      <td>0.0</td>\n",
       "      <td>0.507349</td>\n",
       "      <td>2</td>\n",
       "      <td>0.0</td>\n",
       "      <td>medium</td>\n",
       "      <td>0.434845</td>\n",
       "      <td>Left</td>\n",
       "      <td>3.0</td>\n",
       "      <td>113707</td>\n",
       "      <td>23.0</td>\n",
       "      <td>Female</td>\n",
       "      <td>Unmarried</td>\n",
       "      <td>Sales</td>\n",
       "      <td>Edward J Bayley</td>\n",
       "      <td>0</td>\n",
       "    </tr>\n",
       "  </tbody>\n",
       "</table>\n",
       "</div>"
      ],
      "text/plain": [
       "   avg_monthly_hrs department  filed_complaint  last_evaluation  n_projects  \\\n",
       "0  246.0            D00-OTH    0.0              0.866838         6            \n",
       "1  134.0            D00-OTH    0.0              0.555718         2            \n",
       "2  156.0            D00-SS     1.0              0.474082         2            \n",
       "3  256.0            D00-SP     0.0              0.961360         6            \n",
       "4  146.0            D00-SS     0.0              0.507349         2            \n",
       "\n",
       "   recently_promoted  salary  satisfaction status  tenure  employee_id   age  \\\n",
       "0  0.0                medium  0.134415      Left   4.0     124467       42.0   \n",
       "1  0.0                low     0.511041      Left   3.0     112210       23.0   \n",
       "2  0.0                medium  0.405101      Left   3.0     126150       24.0   \n",
       "3  0.0                low     0.152974      Left   4.0     125346       51.0   \n",
       "4  0.0                medium  0.434845      Left   3.0     113707       23.0   \n",
       "\n",
       "   gender marital_status dept_name        dept_head  last_evaluation_missing  \n",
       "0  Female  Married        Others    Other            0                        \n",
       "1  Female  Unmarried      Others    Other            0                        \n",
       "2  Female  Unmarried      Sales     Edward J Bayley  0                        \n",
       "3  Female  Married        Support   Amelia Westray   0                        \n",
       "4  Female  Unmarried      Sales     Edward J Bayley  0                        "
      ]
     },
     "execution_count": 99,
     "metadata": {},
     "output_type": "execute_result"
    }
   ],
   "source": [
    "analyze_df(df_final)"
   ]
  },
  {
   "cell_type": "code",
   "execution_count": 100,
   "id": "d0881eb2",
   "metadata": {},
   "outputs": [
    {
     "data": {
      "text/plain": [
       "14116"
      ]
     },
     "execution_count": 100,
     "metadata": {},
     "output_type": "execute_result"
    }
   ],
   "source": [
    "df_final.employee_id.nunique()"
   ]
  },
  {
   "cell_type": "code",
   "execution_count": 101,
   "id": "60bc6a03",
   "metadata": {},
   "outputs": [
    {
     "data": {
      "text/plain": [
       "(14116,)"
      ]
     },
     "execution_count": 101,
     "metadata": {},
     "output_type": "execute_result"
    }
   ],
   "source": [
    "df_final.employee_id.shape"
   ]
  },
  {
   "cell_type": "markdown",
   "id": "43dab8bc",
   "metadata": {},
   "source": [
    "## EDA"
   ]
  },
  {
   "cell_type": "code",
   "execution_count": 228,
   "id": "1e7dfa89",
   "metadata": {},
   "outputs": [],
   "source": [
    "# Plot help functions\n",
    "def ShowHBarValue():\n",
    "    for p in ax.patches:\n",
    "        width = p.get_width()\n",
    "        height = p.get_height()\n",
    "        x, y = p.get_xy() \n",
    "        ax.annotate(f'{width}', (x + width*1.02, y + height/2), va='center')\n",
    "\n",
    "def ShowHBarPer():\n",
    "    totals = []\n",
    "    for i in ax.patches:\n",
    "        totals.append(i.get_width())\n",
    "    total = sum(totals)\n",
    "    for p in ax.patches:\n",
    "        width = p.get_width()\n",
    "        height = p.get_height()\n",
    "        x, y = p.get_xy() \n",
    "        ax.annotate(f'{width/total:.0%}', (x + width*1.02, y + height/2), va='center')\n",
    "        \n",
    "def ShowVBarValue():\n",
    "    for p in ax.patches:\n",
    "        width = p.get_width()\n",
    "        height = p.get_height()\n",
    "        x, y = p.get_xy() \n",
    "        ax.annotate(f'{height}', (x + width/2, y + height*1.02), ha='center')\n",
    "\n",
    "def ShowVBarPer():\n",
    "    totals = []\n",
    "    for i in ax.patches:\n",
    "        totals.append(i.get_height())\n",
    "    total = sum(totals)\n",
    "    for p in ax.patches:\n",
    "        width = p.get_width()\n",
    "        height = p.get_height()\n",
    "        x, y = p.get_xy() \n",
    "        ax.annotate(f'{height/total:.0%}', (x + width/2, (y + height*1.02) ), ha='center')\n",
    "        \n",
    "def SetPlotText(title, xlabel='', ylabel='', fontSize=20, text_direction=0, formatBarValue=True):\n",
    "    \n",
    "    if (formatBarValue) :\n",
    "        padding = text_direction == 90 and 30 or 10\n",
    "        position_index = text_direction == 90 and 2 or 3\n",
    "        for p in ax.patches:\n",
    "            ax.annotate(str(p.get_height()), (p.get_x() + (p.get_width()/position_index), p.get_height()+padding), rotation=text_direction)\n",
    "    plt.xlabel(xlabel, fontsize=fontSize)\n",
    "    plt.ylabel(ylabel, fontsize=fontSize)\n",
    "    plt.title(title,fontsize=fontSize+5)"
   ]
  },
  {
   "cell_type": "markdown",
   "id": "cf5bbd40",
   "metadata": {},
   "source": [
    "### Q1. Number of emplyed and left count in dataset?"
   ]
  },
  {
   "cell_type": "code",
   "execution_count": 102,
   "id": "f7e53e51",
   "metadata": {},
   "outputs": [
    {
     "data": {
      "text/plain": [
       "Employed    10761\n",
       "Left        3355 \n",
       "Name: status, dtype: int64"
      ]
     },
     "execution_count": 102,
     "metadata": {},
     "output_type": "execute_result"
    }
   ],
   "source": [
    "df_final.status.value_counts()"
   ]
  },
  {
   "cell_type": "code",
   "execution_count": 150,
   "id": "2a8500dd",
   "metadata": {},
   "outputs": [],
   "source": [
    "# plt.title('Employed Vs Left', fontsize=14);\n",
    "# print(df_final.groupby('status').status.count().plot.pie(autopct='%1.1f%%'))"
   ]
  },
  {
   "cell_type": "code",
   "execution_count": 148,
   "id": "3b0b1ecf",
   "metadata": {},
   "outputs": [],
   "source": [
    "colors = sns.color_palette('pastel')[0:20]"
   ]
  },
  {
   "cell_type": "code",
   "execution_count": 149,
   "id": "5ea9ae84",
   "metadata": {},
   "outputs": [
    {
     "data": {
      "image/png": "[encoded data removed]",
      "text/plain": [
       "<Figure size 432x288 with 1 Axes>"
      ]
     },
     "metadata": {},
     "output_type": "display_data"
    }
   ],
   "source": [
    "plt.title('Employed Vs Left', fontsize=14);\n",
    "plt.pie(df_final.groupby('status').status.count(), labels=['Employed', 'Left'], colors = colors, autopct='%.1f%%')\n",
    "plt.show()"
   ]
  },
  {
   "cell_type": "markdown",
   "id": "fcb9e27c",
   "metadata": {},
   "source": [
    "## Q2. Employees count at different tenures? Employed and Left employee count at different tenures?"
   ]
  },
  {
   "cell_type": "code",
   "execution_count": 181,
   "id": "74e2fc6e",
   "metadata": {},
   "outputs": [
    {
     "data": {
      "image/png": "[encoded data removed]",
      "text/plain": [
       "<Figure size 1152x360 with 1 Axes>"
      ]
     },
     "metadata": {
      "needs_background": "light"
     },
     "output_type": "display_data"
    }
   ],
   "source": [
    "fig, ax = plt.subplots(figsize=(16,5))\n",
    "sns.countplot(data=df_final, x='tenure')\n",
    "SetPlotText(\"Employee count per tenure\", \"Tenure\", \"Employee Count\", 15)"
   ]
  },
  {
   "cell_type": "code",
   "execution_count": 182,
   "id": "33df84dc",
   "metadata": {},
   "outputs": [
    {
     "data": {
      "image/png": "[encoded data removed]",
      "text/plain": [
       "<Figure size 1152x504 with 1 Axes>"
      ]
     },
     "metadata": {
      "needs_background": "light"
     },
     "output_type": "display_data"
    }
   ],
   "source": [
    "fig, ax = plt.subplots(figsize=(16,7))\n",
    "sns.countplot(data=df_final, x='tenure', hue='status')\n",
    "SetPlotText(\"Employee count per tenure\", \"Tenure\", \"Employed / Left Count\", 15)"
   ]
  },
  {
   "cell_type": "markdown",
   "id": "39d596f6",
   "metadata": {},
   "source": [
    "## Q3. What is department wise Employee count? "
   ]
  },
  {
   "cell_type": "code",
   "execution_count": 222,
   "id": "d804e40a",
   "metadata": {},
   "outputs": [
    {
     "data": {
      "image/png": "[encoded data removed]",
      "text/plain": [
       "<Figure size 1152x504 with 1 Axes>"
      ]
     },
     "metadata": {
      "needs_background": "light"
     },
     "output_type": "display_data"
    }
   ],
   "source": [
    "plotData = pd.DataFrame((df_final.groupby(['dept_name','employee_id']).employee_id.count()).groupby('dept_name').count().nlargest(20))\n",
    "plotData.reset_index(inplace=True)\n",
    "plotData.rename(columns={'employee_id':'employee_count'}, inplace=True)\n",
    "fig, ax = plt.subplots(figsize=(16,7))\n",
    "sns.barplot(data=plotData,x='dept_name', y='employee_count')\n",
    "SetPlotText(\"Employee count per Department\", \"Department\", \"Employee Count\", 15)"
   ]
  },
  {
   "cell_type": "code",
   "execution_count": 239,
   "id": "68e2780d",
   "metadata": {
    "scrolled": true
   },
   "outputs": [
    {
     "data": {
      "image/png": "[encoded data removed]",
      "text/plain": [
       "<Figure size 1152x360 with 1 Axes>"
      ]
     },
     "metadata": {
      "needs_background": "light"
     },
     "output_type": "display_data"
    }
   ],
   "source": [
    "plotData = pd.DataFrame((df_final.groupby(['dept_name','employee_id', 'status']).employee_id.count()).groupby(['dept_name','status']).count().nlargest(30))\n",
    "plotData.reset_index(inplace=True)\n",
    "plotData.rename(columns={'employee_id':'employee_count', 'status':'employee_status'}, inplace=True)\n",
    "fig, ax = plt.subplots(figsize=(16,5))\n",
    "sns.barplot(data=plotData,x='dept_name', y='employee_count', hue=\"employee_status\")\n",
    "#SetPlotText(\"Employee count per Department\", \"Department\", \"Employee Count\", 15, False)\n",
    "ShowVBarValue()"
   ]
  },
  {
   "cell_type": "code",
   "execution_count": 240,
   "id": "f3d4f362",
   "metadata": {},
   "outputs": [
    {
     "data": {
      "image/png": "[encoded data removed]",
      "text/plain": [
       "<Figure size 1152x360 with 1 Axes>"
      ]
     },
     "metadata": {
      "needs_background": "light"
     },
     "output_type": "display_data"
    }
   ],
   "source": [
    "plotData = pd.DataFrame((df_final.groupby(['dept_name','employee_id', 'status']).employee_id.count()).groupby(['dept_name','status']).count().nlargest(30))\n",
    "plotData.reset_index(inplace=True)\n",
    "plotData.rename(columns={'employee_id':'employee_count', 'status':'employee_status'}, inplace=True)\n",
    "fig, ax = plt.subplots(figsize=(16,5))\n",
    "sns.barplot(data=plotData,x='dept_name', y='employee_count', hue=\"employee_status\")\n",
    "#SetPlotText(\"Employee count per Department\", \"Department\", \"Employee Count\", 15, False)\n",
    "ShowVBarPer()"
   ]
  },
  {
   "cell_type": "markdown",
   "id": "409e17aa",
   "metadata": {},
   "source": [
    "## Q4. What is gender wise Employee count & attrition analysis? "
   ]
  },
  {
   "cell_type": "code",
   "execution_count": 242,
   "id": "23b2c442",
   "metadata": {},
   "outputs": [
    {
     "data": {
      "image/png": "[encoded data removed]",
      "text/plain": [
       "<Figure size 1152x504 with 1 Axes>"
      ]
     },
     "metadata": {
      "needs_background": "light"
     },
     "output_type": "display_data"
    }
   ],
   "source": [
    "plotData = pd.DataFrame((df_final.groupby(['gender','employee_id']).employee_id.count()).groupby('gender').count().nlargest(20))\n",
    "plotData.reset_index(inplace=True)\n",
    "plotData.rename(columns={'employee_id':'employee_count'}, inplace=True)\n",
    "fig, ax = plt.subplots(figsize=(16,7))\n",
    "sns.barplot(data=plotData,x='gender', y='employee_count')\n",
    "SetPlotText(\"Employee count per gender\", \"gender\", \"Employee Count\", 15)"
   ]
  },
  {
   "cell_type": "code",
   "execution_count": 243,
   "id": "7baf508e",
   "metadata": {},
   "outputs": [
    {
     "data": {
      "image/png": "[encoded data removed]",
      "text/plain": [
       "<Figure size 1152x360 with 1 Axes>"
      ]
     },
     "metadata": {
      "needs_background": "light"
     },
     "output_type": "display_data"
    }
   ],
   "source": [
    "plotData = pd.DataFrame((df_final.groupby(['gender','employee_id', 'status']).employee_id.count()).groupby(['gender','status']).count().nlargest(30))\n",
    "plotData.reset_index(inplace=True)\n",
    "plotData.rename(columns={'employee_id':'employee_count', 'status':'employee_status'}, inplace=True)\n",
    "fig, ax = plt.subplots(figsize=(16,5))\n",
    "sns.barplot(data=plotData,x='gender', y='employee_count', hue=\"employee_status\")\n",
    "ShowVBarValue()"
   ]
  },
  {
   "cell_type": "code",
   "execution_count": 244,
   "id": "5d7926bc",
   "metadata": {},
   "outputs": [
    {
     "data": {
      "image/png": "[encoded data removed]",
      "text/plain": [
       "<Figure size 1152x360 with 1 Axes>"
      ]
     },
     "metadata": {
      "needs_background": "light"
     },
     "output_type": "display_data"
    }
   ],
   "source": [
    "plotData = pd.DataFrame((df_final.groupby(['gender','employee_id', 'status']).employee_id.count()).groupby(['gender','status']).count().nlargest(30))\n",
    "plotData.reset_index(inplace=True)\n",
    "plotData.rename(columns={'employee_id':'employee_count', 'status':'employee_status'}, inplace=True)\n",
    "fig, ax = plt.subplots(figsize=(16,5))\n",
    "sns.barplot(data=plotData,x='gender', y='employee_count', hue=\"employee_status\")\n",
    "ShowVBarPer()"
   ]
  },
  {
   "cell_type": "markdown",
   "id": "5455b363",
   "metadata": {},
   "source": [
    "## Q5. Gender & Department wise Employee count & attrition analysis? "
   ]
  },
  {
   "cell_type": "code",
   "execution_count": 260,
   "id": "1c5c08f9",
   "metadata": {},
   "outputs": [
    {
     "data": {
      "image/png": "[encoded data removed]",
      "text/plain": [
       "<Figure size 1152x360 with 1 Axes>"
      ]
     },
     "metadata": {
      "needs_background": "light"
     },
     "output_type": "display_data"
    }
   ],
   "source": [
    "plotData = pd.DataFrame((df_final.groupby(['dept_name','gender', 'employee_id', 'status']).employee_id.count()).groupby(['dept_name','gender', 'status']).count().nlargest(50))\n",
    "plotData.reset_index(inplace=True)\n",
    "plotData.rename(columns={'employee_id':'employee_count', 'status':'employee_status'}, inplace=True)\n",
    "fig, ax = plt.subplots(figsize=(16,5))\n",
    "sns.lineplot(data=plotData, x='dept_name', y='employee_count', hue='gender', style='employee_status')\n",
    "#SetPlotText(\"Employee count per Department\", \"Department\", \"Employee Count\", 15, False)\n",
    "ShowVBarPer()"
   ]
  },
  {
   "cell_type": "markdown",
   "id": "042bc7b4",
   "metadata": {},
   "source": [
    "## Q6. Age wise Employee count & attrition analysis? "
   ]
  },
  {
   "cell_type": "code",
   "execution_count": 283,
   "id": "a351a292",
   "metadata": {},
   "outputs": [],
   "source": [
    "# Adding age groups\n",
    "# 20-25, 25-30, 31-35 etc..\n",
    "\n",
    "def classify_age(r):\n",
    "    if r.age >= 20 and r.age <= 25:\n",
    "        return '20-25'\n",
    "    elif r.age >= 26 and r.age <= 30:\n",
    "        return '26-30'\n",
    "    elif r.age >= 31 and r.age <= 35:\n",
    "        return '31-35'\n",
    "    elif r.age >= 36 and r.age <= 40:\n",
    "        return '36-40'\n",
    "    elif r.age >= 41 and r.age <= 45:\n",
    "        return '41-45'\n",
    "    elif r.age >= 46 and r.age <= 50:\n",
    "        return '46-50'\n",
    "    elif r.age >= 51 and r.age <= 55:\n",
    "        return '51-55'\n",
    "    elif r.age >= 56 and r.age <= 60:\n",
    "        return '56-60'\n",
    "    elif r.age >= 61 and r.age <= 65:\n",
    "        return '61-65'\n",
    "    else:        \n",
    "        return '0-100'\n",
    "    \n",
    "\n",
    "df_final[\"age_group\"] = df_final.apply(classify_age, axis=1)"
   ]
  },
  {
   "cell_type": "code",
   "execution_count": 286,
   "id": "44af14f8",
   "metadata": {},
   "outputs": [
    {
     "data": {
      "text/html": [
       "<div>\n",
       "<style scoped>\n",
       "    .dataframe tbody tr th:only-of-type {\n",
       "        vertical-align: middle;\n",
       "    }\n",
       "\n",
       "    .dataframe tbody tr th {\n",
       "        vertical-align: top;\n",
       "    }\n",
       "\n",
       "    .dataframe thead th {\n",
       "        text-align: right;\n",
       "    }\n",
       "</style>\n",
       "<table border=\"1\" class=\"dataframe\">\n",
       "  <thead>\n",
       "    <tr style=\"text-align: right;\">\n",
       "      <th></th>\n",
       "      <th>avg_monthly_hrs</th>\n",
       "      <th>department</th>\n",
       "      <th>filed_complaint</th>\n",
       "      <th>last_evaluation</th>\n",
       "      <th>n_projects</th>\n",
       "      <th>recently_promoted</th>\n",
       "      <th>salary</th>\n",
       "      <th>satisfaction</th>\n",
       "      <th>status</th>\n",
       "      <th>tenure</th>\n",
       "      <th>employee_id</th>\n",
       "      <th>age</th>\n",
       "      <th>gender</th>\n",
       "      <th>marital_status</th>\n",
       "      <th>dept_name</th>\n",
       "      <th>dept_head</th>\n",
       "      <th>last_evaluation_missing</th>\n",
       "      <th>age_group</th>\n",
       "    </tr>\n",
       "  </thead>\n",
       "  <tbody>\n",
       "    <tr>\n",
       "      <th>0</th>\n",
       "      <td>246.0</td>\n",
       "      <td>D00-OTH</td>\n",
       "      <td>0.0</td>\n",
       "      <td>0.866838</td>\n",
       "      <td>6</td>\n",
       "      <td>0.0</td>\n",
       "      <td>medium</td>\n",
       "      <td>0.134415</td>\n",
       "      <td>Left</td>\n",
       "      <td>4.0</td>\n",
       "      <td>124467</td>\n",
       "      <td>42.0</td>\n",
       "      <td>Female</td>\n",
       "      <td>Married</td>\n",
       "      <td>Others</td>\n",
       "      <td>Other</td>\n",
       "      <td>0</td>\n",
       "      <td>41-45</td>\n",
       "    </tr>\n",
       "    <tr>\n",
       "      <th>1</th>\n",
       "      <td>134.0</td>\n",
       "      <td>D00-OTH</td>\n",
       "      <td>0.0</td>\n",
       "      <td>0.555718</td>\n",
       "      <td>2</td>\n",
       "      <td>0.0</td>\n",
       "      <td>low</td>\n",
       "      <td>0.511041</td>\n",
       "      <td>Left</td>\n",
       "      <td>3.0</td>\n",
       "      <td>112210</td>\n",
       "      <td>23.0</td>\n",
       "      <td>Female</td>\n",
       "      <td>Unmarried</td>\n",
       "      <td>Others</td>\n",
       "      <td>Other</td>\n",
       "      <td>0</td>\n",
       "      <td>20-25</td>\n",
       "    </tr>\n",
       "    <tr>\n",
       "      <th>2</th>\n",
       "      <td>156.0</td>\n",
       "      <td>D00-SS</td>\n",
       "      <td>1.0</td>\n",
       "      <td>0.474082</td>\n",
       "      <td>2</td>\n",
       "      <td>0.0</td>\n",
       "      <td>medium</td>\n",
       "      <td>0.405101</td>\n",
       "      <td>Left</td>\n",
       "      <td>3.0</td>\n",
       "      <td>126150</td>\n",
       "      <td>24.0</td>\n",
       "      <td>Female</td>\n",
       "      <td>Unmarried</td>\n",
       "      <td>Sales</td>\n",
       "      <td>Edward J Bayley</td>\n",
       "      <td>0</td>\n",
       "      <td>20-25</td>\n",
       "    </tr>\n",
       "    <tr>\n",
       "      <th>3</th>\n",
       "      <td>256.0</td>\n",
       "      <td>D00-SP</td>\n",
       "      <td>0.0</td>\n",
       "      <td>0.961360</td>\n",
       "      <td>6</td>\n",
       "      <td>0.0</td>\n",
       "      <td>low</td>\n",
       "      <td>0.152974</td>\n",
       "      <td>Left</td>\n",
       "      <td>4.0</td>\n",
       "      <td>125346</td>\n",
       "      <td>51.0</td>\n",
       "      <td>Female</td>\n",
       "      <td>Married</td>\n",
       "      <td>Support</td>\n",
       "      <td>Amelia Westray</td>\n",
       "      <td>0</td>\n",
       "      <td>51-55</td>\n",
       "    </tr>\n",
       "    <tr>\n",
       "      <th>4</th>\n",
       "      <td>146.0</td>\n",
       "      <td>D00-SS</td>\n",
       "      <td>0.0</td>\n",
       "      <td>0.507349</td>\n",
       "      <td>2</td>\n",
       "      <td>0.0</td>\n",
       "      <td>medium</td>\n",
       "      <td>0.434845</td>\n",
       "      <td>Left</td>\n",
       "      <td>3.0</td>\n",
       "      <td>113707</td>\n",
       "      <td>23.0</td>\n",
       "      <td>Female</td>\n",
       "      <td>Unmarried</td>\n",
       "      <td>Sales</td>\n",
       "      <td>Edward J Bayley</td>\n",
       "      <td>0</td>\n",
       "      <td>20-25</td>\n",
       "    </tr>\n",
       "  </tbody>\n",
       "</table>\n",
       "</div>"
      ],
      "text/plain": [
       "   avg_monthly_hrs department  filed_complaint  last_evaluation  n_projects  \\\n",
       "0  246.0            D00-OTH    0.0              0.866838         6            \n",
       "1  134.0            D00-OTH    0.0              0.555718         2            \n",
       "2  156.0            D00-SS     1.0              0.474082         2            \n",
       "3  256.0            D00-SP     0.0              0.961360         6            \n",
       "4  146.0            D00-SS     0.0              0.507349         2            \n",
       "\n",
       "   recently_promoted  salary  satisfaction status  tenure  employee_id   age  \\\n",
       "0  0.0                medium  0.134415      Left   4.0     124467       42.0   \n",
       "1  0.0                low     0.511041      Left   3.0     112210       23.0   \n",
       "2  0.0                medium  0.405101      Left   3.0     126150       24.0   \n",
       "3  0.0                low     0.152974      Left   4.0     125346       51.0   \n",
       "4  0.0                medium  0.434845      Left   3.0     113707       23.0   \n",
       "\n",
       "   gender marital_status dept_name        dept_head  last_evaluation_missing  \\\n",
       "0  Female  Married        Others    Other            0                         \n",
       "1  Female  Unmarried      Others    Other            0                         \n",
       "2  Female  Unmarried      Sales     Edward J Bayley  0                         \n",
       "3  Female  Married        Support   Amelia Westray   0                         \n",
       "4  Female  Unmarried      Sales     Edward J Bayley  0                         \n",
       "\n",
       "  age_group  \n",
       "0  41-45     \n",
       "1  20-25     \n",
       "2  20-25     \n",
       "3  51-55     \n",
       "4  20-25     "
      ]
     },
     "execution_count": 286,
     "metadata": {},
     "output_type": "execute_result"
    }
   ],
   "source": [
    "df_final.head()"
   ]
  },
  {
   "cell_type": "code",
   "execution_count": 285,
   "id": "b369d11f",
   "metadata": {},
   "outputs": [
    {
     "data": {
      "image/png": "[encoded data removed]",
      "text/plain": [
       "<Figure size 1152x504 with 1 Axes>"
      ]
     },
     "metadata": {
      "needs_background": "light"
     },
     "output_type": "display_data"
    }
   ],
   "source": [
    "plotData = pd.DataFrame((df_final.groupby(['age_group','employee_id']).employee_id.count()).groupby('age_group').count())\n",
    "plotData.reset_index(inplace=True)\n",
    "plotData.rename(columns={'employee_id':'employee_count'}, inplace=True)\n",
    "fig, ax = plt.subplots(figsize=(16,7))\n",
    "sns.barplot(data=plotData,x='age_group', y='employee_count')\n",
    "ShowVBarValue()"
   ]
  },
  {
   "cell_type": "markdown",
   "id": "3326c6a8",
   "metadata": {},
   "source": [
    "## Q7. Gender & Age wise Employee count & attrition analysis? "
   ]
  },
  {
   "cell_type": "code",
   "execution_count": 288,
   "id": "c7676ebb",
   "metadata": {},
   "outputs": [
    {
     "data": {
      "image/png": "[encoded data removed]",
      "text/plain": [
       "<Figure size 1152x360 with 1 Axes>"
      ]
     },
     "metadata": {
      "needs_background": "light"
     },
     "output_type": "display_data"
    }
   ],
   "source": [
    "plotData = pd.DataFrame((df_final.groupby(['age_group','employee_id', 'status']).employee_id.count()).groupby(['age_group','status']).count().nlargest(40))\n",
    "plotData.reset_index(inplace=True)\n",
    "plotData.rename(columns={'employee_id':'employee_count', 'status':'employee_status'}, inplace=True)\n",
    "fig, ax = plt.subplots(figsize=(16,5))\n",
    "sns.barplot(data=plotData,x='age_group', y='employee_count', hue=\"employee_status\")\n",
    "ShowVBarValue()"
   ]
  },
  {
   "cell_type": "code",
   "execution_count": 306,
   "id": "0268f023",
   "metadata": {},
   "outputs": [
    {
     "data": {
      "image/png": "[encoded data removed]",
      "text/plain": [
       "<Figure size 1152x360 with 1 Axes>"
      ]
     },
     "metadata": {
      "needs_background": "light"
     },
     "output_type": "display_data"
    }
   ],
   "source": [
    "plotData = pd.DataFrame((df_final.groupby(['age_group','employee_id', 'gender', 'status']).employee_id.count()).groupby(['age_group', 'gender', 'status']).count())\n",
    "plotData.reset_index(inplace=True)\n",
    "plotData.rename(columns={'employee_id':'employee_count', 'status':'employee_status'}, inplace=True)\n",
    "fig, ax = plt.subplots(figsize=(16,5))\n",
    "sns.lineplot(data=plotData,x='age_group', y='employee_count', hue=\"gender\", style='employee_status')\n",
    "ShowVBarValue()"
   ]
  },
  {
   "cell_type": "code",
   "execution_count": 290,
   "id": "3188ef5d",
   "metadata": {},
   "outputs": [
    {
     "data": {
      "text/plain": [
       "array(['Left'], dtype=object)"
      ]
     },
     "execution_count": 290,
     "metadata": {},
     "output_type": "execute_result"
    }
   ],
   "source": [
    "df_final[df_final.age_group == '56-60'].status.unique()"
   ]
  },
  {
   "cell_type": "code",
   "execution_count": 297,
   "id": "b9d8fb3a",
   "metadata": {},
   "outputs": [
    {
     "data": {
      "text/plain": [
       "Left    94\n",
       "Name: status, dtype: int64"
      ]
     },
     "execution_count": 297,
     "metadata": {},
     "output_type": "execute_result"
    }
   ],
   "source": [
    "df_final[df_final.age >= 55].status.value_counts()"
   ]
  },
  {
   "cell_type": "markdown",
   "id": "ead9b9ab",
   "metadata": {},
   "source": [
    "### Insights\n",
    "\n",
    "* Attrition is more at age from 20-30\n",
    "* if the age is more than 54 yrs.. employees only left or no employees joined\n",
    "* Female employees are having more percentage of attrition\n",
    "* Female employees attrition rate is very high at age 20-25\n",
    "* Female employees attrition rate is almost stable if the age is more than 25\n",
    "* Male employees attrition is high at the age 20-25 but variance is very minimal."
   ]
  },
  {
   "cell_type": "code",
   "execution_count": null,
   "id": "1ff494d4",
   "metadata": {},
   "outputs": [],
   "source": []
  },
  {
   "cell_type": "code",
   "execution_count": null,
   "id": "0dcbcd4a",
   "metadata": {},
   "outputs": [],
   "source": []
  },
  {
   "cell_type": "code",
   "execution_count": null,
   "id": "e0435505",
   "metadata": {},
   "outputs": [],
   "source": []
  },
  {
   "cell_type": "code",
   "execution_count": null,
   "id": "36449b42",
   "metadata": {},
   "outputs": [],
   "source": []
  },
  {
   "cell_type": "code",
   "execution_count": null,
   "id": "833db8b8",
   "metadata": {},
   "outputs": [],
   "source": []
  },
  {
   "cell_type": "code",
   "execution_count": null,
   "id": "597d9e30",
   "metadata": {},
   "outputs": [],
   "source": []
  }
 ],
 "metadata": {
  "kernelspec": {
   "display_name": "Python 3",
   "language": "python",
   "name": "python3"
  },
  "language_info": {
   "codemirror_mode": {
    "name": "ipython",
    "version": 3
   },
   "file_extension": ".py",
   "mimetype": "text/x-python",
   "name": "python",
   "nbconvert_exporter": "python",
   "pygments_lexer": "ipython3",
   "version": "3.8.8"
  }
 },
 "nbformat": 4,
 "nbformat_minor": 5
}
